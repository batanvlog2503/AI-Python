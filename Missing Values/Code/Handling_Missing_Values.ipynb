{
 "cells": [
  {
   "cell_type": "markdown",
   "id": "bd7efe52-6c52-4499-bbbb-5b4d6540bc4c",
   "metadata": {},
   "source": [
    "# Handling Missing Values"
   ]
  },
  {
   "cell_type": "markdown",
   "id": "aaf1cb7e-1e92-4af2-9da8-f6ab545cb28d",
   "metadata": {},
   "source": [
    "## How to Identify missing Values"
   ]
  },
  {
   "cell_type": "markdown",
   "id": "3354f3bd-a234-4c2b-9af3-e0408777ffd9",
   "metadata": {},
   "source": [
    "## df.isnull() - it returns True if values are missing"
   ]
  },
  {
   "cell_type": "markdown",
   "id": "1bc6967f-330d-4e57-a21a-4db4526555f2",
   "metadata": {},
   "source": [
    "## How to deal with missing values?\n",
    "- drop the missing value:\n",
    "- either drop the entire row : df.dropna('col_name', axis = 0, inplace = True)\n",
    "- or drop the entire column : df.dropna('col_name', axis = 1, inplace = True)\n",
    " + replace the missing values\n",
    " + use business understanding\n",
    " + Statistical methods - Imputation(Mean, Median, Mode)\n",
    " + df['col_name'].fillna(df.col_name.mean(), inplace = True)"
   ]
  },
  {
   "cell_type": "code",
   "execution_count": 1,
   "id": "9036bd13-63bd-400f-84bf-416afbbd5791",
   "metadata": {},
   "outputs": [],
   "source": [
    "import pandas as pd\n",
    "import numpy as np\n",
    "import matplotlib.pyplot as plt\n",
    "import seaborn as sns"
   ]
  },
  {
   "cell_type": "code",
   "execution_count": 33,
   "id": "05169eb8-c815-495b-a51e-af734604b79d",
   "metadata": {},
   "outputs": [
    {
     "data": {
      "text/html": [
       "<div>\n",
       "<style scoped>\n",
       "    .dataframe tbody tr th:only-of-type {\n",
       "        vertical-align: middle;\n",
       "    }\n",
       "\n",
       "    .dataframe tbody tr th {\n",
       "        vertical-align: top;\n",
       "    }\n",
       "\n",
       "    .dataframe thead th {\n",
       "        text-align: right;\n",
       "    }\n",
       "</style>\n",
       "<table border=\"1\" class=\"dataframe\">\n",
       "  <thead>\n",
       "    <tr style=\"text-align: right;\">\n",
       "      <th></th>\n",
       "      <th>FirstName</th>\n",
       "      <th>LastName</th>\n",
       "      <th>Age</th>\n",
       "      <th>Sex</th>\n",
       "      <th>preTestScore</th>\n",
       "      <th>postTestScore</th>\n",
       "      <th>location</th>\n",
       "    </tr>\n",
       "  </thead>\n",
       "  <tbody>\n",
       "    <tr>\n",
       "      <th>0</th>\n",
       "      <td>abc</td>\n",
       "      <td>mno</td>\n",
       "      <td>12.0</td>\n",
       "      <td>m</td>\n",
       "      <td>90.0</td>\n",
       "      <td>65.0</td>\n",
       "      <td>NaN</td>\n",
       "    </tr>\n",
       "    <tr>\n",
       "      <th>1</th>\n",
       "      <td>NaN</td>\n",
       "      <td>NaN</td>\n",
       "      <td>NaN</td>\n",
       "      <td>NaN</td>\n",
       "      <td>90.0</td>\n",
       "      <td>?</td>\n",
       "      <td>NaN</td>\n",
       "    </tr>\n",
       "    <tr>\n",
       "      <th>2</th>\n",
       "      <td>ghi</td>\n",
       "      <td>pqr</td>\n",
       "      <td>12.0</td>\n",
       "      <td>f</td>\n",
       "      <td>-</td>\n",
       "      <td>65.0</td>\n",
       "      <td>?</td>\n",
       "    </tr>\n",
       "    <tr>\n",
       "      <th>3</th>\n",
       "      <td>jkl</td>\n",
       "      <td>stu</td>\n",
       "      <td>12.0</td>\n",
       "      <td>f</td>\n",
       "      <td>90.0</td>\n",
       "      <td>62.0</td>\n",
       "      <td>NaN</td>\n",
       "    </tr>\n",
       "    <tr>\n",
       "      <th>4</th>\n",
       "      <td>mno</td>\n",
       "      <td>vwx</td>\n",
       "      <td>12.0</td>\n",
       "      <td>m</td>\n",
       "      <td>89.0</td>\n",
       "      <td>63.0</td>\n",
       "      <td>NaN</td>\n",
       "    </tr>\n",
       "  </tbody>\n",
       "</table>\n",
       "</div>"
      ],
      "text/plain": [
       "  FirstName LastName   Age  Sex preTestScore postTestScore location\n",
       "0       abc      mno  12.0    m         90.0          65.0      NaN\n",
       "1       NaN      NaN   NaN  NaN         90.0             ?      NaN\n",
       "2       ghi      pqr  12.0    f            -          65.0        ?\n",
       "3       jkl      stu  12.0    f         90.0          62.0      NaN\n",
       "4       mno      vwx  12.0    m         89.0          63.0      NaN"
      ]
     },
     "execution_count": 33,
     "metadata": {},
     "output_type": "execute_result"
    }
   ],
   "source": [
    "df = pd.read_csv(\"C:/Users/Admin/OneDrive - ptit.edu.vn/Desktop/data_miss.csv\")\n",
    "df.head()"
   ]
  },
  {
   "cell_type": "code",
   "execution_count": 34,
   "id": "992c9d5e-7a29-4234-877c-62d12db89b12",
   "metadata": {},
   "outputs": [
    {
     "name": "stdout",
     "output_type": "stream",
     "text": [
      "(5, 7)\n",
      "<class 'pandas.core.frame.DataFrame'>\n",
      "RangeIndex: 5 entries, 0 to 4\n",
      "Data columns (total 7 columns):\n",
      " #   Column         Non-Null Count  Dtype  \n",
      "---  ------         --------------  -----  \n",
      " 0   FirstName      4 non-null      object \n",
      " 1   LastName       4 non-null      object \n",
      " 2   Age            4 non-null      float64\n",
      " 3   Sex            4 non-null      object \n",
      " 4   preTestScore   5 non-null      object \n",
      " 5   postTestScore  5 non-null      object \n",
      " 6   location       1 non-null      object \n",
      "dtypes: float64(1), object(6)\n",
      "memory usage: 412.0+ bytes\n",
      "None\n"
     ]
    }
   ],
   "source": [
    "\n",
    "print(df.shape)\n",
    "\n",
    "print(df.info())"
   ]
  },
  {
   "cell_type": "code",
   "execution_count": 35,
   "id": "845c60f3-51b6-4243-bad9-56e3cd8f5306",
   "metadata": {},
   "outputs": [],
   "source": [
    "# replace missing values to NaN\n",
    "missing_val = ['n/a', '-', '?']\n",
    "df = pd.read_csv(\"C:/Users/Admin/OneDrive - ptit.edu.vn/Desktop/data_miss.csv\", na_values = missing_val)"
   ]
  },
  {
   "cell_type": "code",
   "execution_count": 36,
   "id": "69088e90-9dc3-41eb-ad11-31e26e44ec71",
   "metadata": {},
   "outputs": [
    {
     "data": {
      "text/html": [
       "<div>\n",
       "<style scoped>\n",
       "    .dataframe tbody tr th:only-of-type {\n",
       "        vertical-align: middle;\n",
       "    }\n",
       "\n",
       "    .dataframe tbody tr th {\n",
       "        vertical-align: top;\n",
       "    }\n",
       "\n",
       "    .dataframe thead th {\n",
       "        text-align: right;\n",
       "    }\n",
       "</style>\n",
       "<table border=\"1\" class=\"dataframe\">\n",
       "  <thead>\n",
       "    <tr style=\"text-align: right;\">\n",
       "      <th></th>\n",
       "      <th>FirstName</th>\n",
       "      <th>LastName</th>\n",
       "      <th>Age</th>\n",
       "      <th>Sex</th>\n",
       "      <th>preTestScore</th>\n",
       "      <th>postTestScore</th>\n",
       "      <th>location</th>\n",
       "    </tr>\n",
       "  </thead>\n",
       "  <tbody>\n",
       "    <tr>\n",
       "      <th>0</th>\n",
       "      <td>abc</td>\n",
       "      <td>mno</td>\n",
       "      <td>12.0</td>\n",
       "      <td>m</td>\n",
       "      <td>90.0</td>\n",
       "      <td>65.0</td>\n",
       "      <td>NaN</td>\n",
       "    </tr>\n",
       "    <tr>\n",
       "      <th>1</th>\n",
       "      <td>NaN</td>\n",
       "      <td>NaN</td>\n",
       "      <td>NaN</td>\n",
       "      <td>NaN</td>\n",
       "      <td>90.0</td>\n",
       "      <td>NaN</td>\n",
       "      <td>NaN</td>\n",
       "    </tr>\n",
       "    <tr>\n",
       "      <th>2</th>\n",
       "      <td>ghi</td>\n",
       "      <td>pqr</td>\n",
       "      <td>12.0</td>\n",
       "      <td>f</td>\n",
       "      <td>NaN</td>\n",
       "      <td>65.0</td>\n",
       "      <td>NaN</td>\n",
       "    </tr>\n",
       "    <tr>\n",
       "      <th>3</th>\n",
       "      <td>jkl</td>\n",
       "      <td>stu</td>\n",
       "      <td>12.0</td>\n",
       "      <td>f</td>\n",
       "      <td>90.0</td>\n",
       "      <td>62.0</td>\n",
       "      <td>NaN</td>\n",
       "    </tr>\n",
       "    <tr>\n",
       "      <th>4</th>\n",
       "      <td>mno</td>\n",
       "      <td>vwx</td>\n",
       "      <td>12.0</td>\n",
       "      <td>m</td>\n",
       "      <td>89.0</td>\n",
       "      <td>63.0</td>\n",
       "      <td>NaN</td>\n",
       "    </tr>\n",
       "  </tbody>\n",
       "</table>\n",
       "</div>"
      ],
      "text/plain": [
       "  FirstName LastName   Age  Sex  preTestScore  postTestScore  location\n",
       "0       abc      mno  12.0    m          90.0           65.0       NaN\n",
       "1       NaN      NaN   NaN  NaN          90.0            NaN       NaN\n",
       "2       ghi      pqr  12.0    f           NaN           65.0       NaN\n",
       "3       jkl      stu  12.0    f          90.0           62.0       NaN\n",
       "4       mno      vwx  12.0    m          89.0           63.0       NaN"
      ]
     },
     "execution_count": 36,
     "metadata": {},
     "output_type": "execute_result"
    }
   ],
   "source": [
    "df.head()"
   ]
  },
  {
   "cell_type": "code",
   "execution_count": 37,
   "id": "78c7e679-a136-4590-811c-4ae18131ecab",
   "metadata": {},
   "outputs": [
    {
     "data": {
      "text/html": [
       "<div>\n",
       "<style scoped>\n",
       "    .dataframe tbody tr th:only-of-type {\n",
       "        vertical-align: middle;\n",
       "    }\n",
       "\n",
       "    .dataframe tbody tr th {\n",
       "        vertical-align: top;\n",
       "    }\n",
       "\n",
       "    .dataframe thead th {\n",
       "        text-align: right;\n",
       "    }\n",
       "</style>\n",
       "<table border=\"1\" class=\"dataframe\">\n",
       "  <thead>\n",
       "    <tr style=\"text-align: right;\">\n",
       "      <th></th>\n",
       "      <th>FirstName</th>\n",
       "      <th>LastName</th>\n",
       "      <th>Age</th>\n",
       "      <th>Sex</th>\n",
       "      <th>preTestScore</th>\n",
       "      <th>postTestScore</th>\n",
       "      <th>location</th>\n",
       "    </tr>\n",
       "  </thead>\n",
       "  <tbody>\n",
       "    <tr>\n",
       "      <th>0</th>\n",
       "      <td>False</td>\n",
       "      <td>False</td>\n",
       "      <td>False</td>\n",
       "      <td>False</td>\n",
       "      <td>False</td>\n",
       "      <td>False</td>\n",
       "      <td>True</td>\n",
       "    </tr>\n",
       "    <tr>\n",
       "      <th>1</th>\n",
       "      <td>True</td>\n",
       "      <td>True</td>\n",
       "      <td>True</td>\n",
       "      <td>True</td>\n",
       "      <td>False</td>\n",
       "      <td>True</td>\n",
       "      <td>True</td>\n",
       "    </tr>\n",
       "    <tr>\n",
       "      <th>2</th>\n",
       "      <td>False</td>\n",
       "      <td>False</td>\n",
       "      <td>False</td>\n",
       "      <td>False</td>\n",
       "      <td>True</td>\n",
       "      <td>False</td>\n",
       "      <td>True</td>\n",
       "    </tr>\n",
       "    <tr>\n",
       "      <th>3</th>\n",
       "      <td>False</td>\n",
       "      <td>False</td>\n",
       "      <td>False</td>\n",
       "      <td>False</td>\n",
       "      <td>False</td>\n",
       "      <td>False</td>\n",
       "      <td>True</td>\n",
       "    </tr>\n",
       "    <tr>\n",
       "      <th>4</th>\n",
       "      <td>False</td>\n",
       "      <td>False</td>\n",
       "      <td>False</td>\n",
       "      <td>False</td>\n",
       "      <td>False</td>\n",
       "      <td>False</td>\n",
       "      <td>True</td>\n",
       "    </tr>\n",
       "  </tbody>\n",
       "</table>\n",
       "</div>"
      ],
      "text/plain": [
       "   FirstName  LastName    Age    Sex  preTestScore  postTestScore  location\n",
       "0      False     False  False  False         False          False      True\n",
       "1       True      True   True   True         False           True      True\n",
       "2      False     False  False  False          True          False      True\n",
       "3      False     False  False  False         False          False      True\n",
       "4      False     False  False  False         False          False      True"
      ]
     },
     "execution_count": 37,
     "metadata": {},
     "output_type": "execute_result"
    }
   ],
   "source": [
    "df.isnull() # true là NaN"
   ]
  },
  {
   "cell_type": "code",
   "execution_count": 38,
   "id": "5f64d982-eeb5-401b-8fa3-7db97c528a2a",
   "metadata": {},
   "outputs": [
    {
     "data": {
      "text/plain": [
       "FirstName        1\n",
       "LastName         1\n",
       "Age              1\n",
       "Sex              1\n",
       "preTestScore     1\n",
       "postTestScore    1\n",
       "location         5\n",
       "dtype: int64"
      ]
     },
     "execution_count": 38,
     "metadata": {},
     "output_type": "execute_result"
    }
   ],
   "source": [
    "df.isna().sum()"
   ]
  },
  {
   "cell_type": "code",
   "execution_count": 39,
   "id": "e320cf32-0dbc-4d65-a67a-548f4ddcc551",
   "metadata": {},
   "outputs": [
    {
     "data": {
      "text/plain": [
       "FirstName        True\n",
       "LastName         True\n",
       "Age              True\n",
       "Sex              True\n",
       "preTestScore     True\n",
       "postTestScore    True\n",
       "location         True\n",
       "dtype: bool"
      ]
     },
     "execution_count": 39,
     "metadata": {},
     "output_type": "execute_result"
    }
   ],
   "source": [
    "# Columns with at least one missing values\n",
    "# cột có ít nhất giá trị NaN\n",
    "df.isnull().any(axis = 0)\n"
   ]
  },
  {
   "cell_type": "code",
   "execution_count": 40,
   "id": "0d92bf3e-8994-4068-a62e-c5cba5bfd0d5",
   "metadata": {},
   "outputs": [
    {
     "data": {
      "text/plain": [
       "FirstName        False\n",
       "LastName         False\n",
       "Age              False\n",
       "Sex              False\n",
       "preTestScore     False\n",
       "postTestScore    False\n",
       "location          True\n",
       "dtype: bool"
      ]
     },
     "execution_count": 40,
     "metadata": {},
     "output_type": "execute_result"
    }
   ],
   "source": [
    "# Columns with all missing values tất cả giá trị của cột là NaN\n",
    "df.isnull().all(axis = 0)"
   ]
  },
  {
   "cell_type": "code",
   "execution_count": 41,
   "id": "a5e2046d-d981-4b43-a7c7-208765fadbaf",
   "metadata": {},
   "outputs": [],
   "source": [
    " # nghĩa là location full NaN"
   ]
  },
  {
   "cell_type": "code",
   "execution_count": 42,
   "id": "e48e7546-6d14-4dab-afef-e23b30e44195",
   "metadata": {},
   "outputs": [
    {
     "data": {
      "text/plain": [
       "0    False\n",
       "1    False\n",
       "2    False\n",
       "3    False\n",
       "4    False\n",
       "dtype: bool"
      ]
     },
     "execution_count": 42,
     "metadata": {},
     "output_type": "execute_result"
    }
   ],
   "source": [
    "\n",
    "#Rows with all missing values\n",
    "df.isnull().all(axis=1)"
   ]
  },
  {
   "cell_type": "code",
   "execution_count": 43,
   "id": "79153530-545d-4845-bd8a-a913fc09210d",
   "metadata": {},
   "outputs": [
    {
     "data": {
      "text/plain": [
       "0"
      ]
     },
     "execution_count": 43,
     "metadata": {},
     "output_type": "execute_result"
    }
   ],
   "source": [
    "\n",
    "# Number of rows with all missing values\n",
    "df.isnull().all(axis=1).sum()"
   ]
  },
  {
   "cell_type": "markdown",
   "id": "8ca63ec0-f1cb-4cb8-b24b-6078e065981c",
   "metadata": {},
   "source": [
    "## Missing values Treatment in Columns"
   ]
  },
  {
   "cell_type": "code",
   "execution_count": 46,
   "id": "cd322eb2-c56d-44c8-8922-1cf64d58bd46",
   "metadata": {},
   "outputs": [
    {
     "data": {
      "text/plain": [
       "FirstName         20.0\n",
       "LastName          20.0\n",
       "Age               20.0\n",
       "Sex               20.0\n",
       "preTestScore      20.0\n",
       "postTestScore     20.0\n",
       "location         100.0\n",
       "dtype: float64"
      ]
     },
     "execution_count": 46,
     "metadata": {},
     "output_type": "execute_result"
    }
   ],
   "source": [
    "# Search percent missing values \n",
    "\n",
    "round((df.isnull().sum() / len(df.index) * 100), 2) "
   ]
  },
  {
   "cell_type": "code",
   "execution_count": 45,
   "id": "547aff72-e4ec-4e32-94c4-91c537fe8d53",
   "metadata": {},
   "outputs": [],
   "source": [
    "# đây là phần trăm dữ liệu còn thiếu\n"
   ]
  },
  {
   "cell_type": "code",
   "execution_count": 47,
   "id": "1002d4e5-f223-407d-8d84-2187113bea1d",
   "metadata": {},
   "outputs": [
    {
     "data": {
      "text/plain": [
       "FirstName        20.0\n",
       "LastName         20.0\n",
       "Age              20.0\n",
       "Sex              20.0\n",
       "preTestScore     20.0\n",
       "postTestScore    20.0\n",
       "dtype: float64"
      ]
     },
     "execution_count": 47,
     "metadata": {},
     "output_type": "execute_result"
    }
   ],
   "source": [
    "df.dropna(axis = 1, how = 'all', inplace = True) \n",
    "# how = 'all' nghĩa là cột này full NaN thì xó\n",
    "round((df.isnull().sum() / len(df.index) * 100), 2) "
   ]
  },
  {
   "cell_type": "markdown",
   "id": "1267a2ef-3189-402d-ae39-93eec10a0530",
   "metadata": {},
   "source": [
    "## Missing values Treatment in rows"
   ]
  },
  {
   "cell_type": "code",
   "execution_count": 48,
   "id": "5da9c0c9-dfc9-4421-b73b-3260fffc4114",
   "metadata": {},
   "outputs": [
    {
     "data": {
      "text/html": [
       "<div>\n",
       "<style scoped>\n",
       "    .dataframe tbody tr th:only-of-type {\n",
       "        vertical-align: middle;\n",
       "    }\n",
       "\n",
       "    .dataframe tbody tr th {\n",
       "        vertical-align: top;\n",
       "    }\n",
       "\n",
       "    .dataframe thead th {\n",
       "        text-align: right;\n",
       "    }\n",
       "</style>\n",
       "<table border=\"1\" class=\"dataframe\">\n",
       "  <thead>\n",
       "    <tr style=\"text-align: right;\">\n",
       "      <th></th>\n",
       "      <th>FirstName</th>\n",
       "      <th>LastName</th>\n",
       "      <th>Age</th>\n",
       "      <th>Sex</th>\n",
       "      <th>preTestScore</th>\n",
       "      <th>postTestScore</th>\n",
       "    </tr>\n",
       "  </thead>\n",
       "  <tbody>\n",
       "    <tr>\n",
       "      <th>1</th>\n",
       "      <td>NaN</td>\n",
       "      <td>NaN</td>\n",
       "      <td>NaN</td>\n",
       "      <td>NaN</td>\n",
       "      <td>90.0</td>\n",
       "      <td>NaN</td>\n",
       "    </tr>\n",
       "  </tbody>\n",
       "</table>\n",
       "</div>"
      ],
      "text/plain": [
       "  FirstName LastName  Age  Sex  preTestScore  postTestScore\n",
       "1       NaN      NaN  NaN  NaN          90.0            NaN"
      ]
     },
     "execution_count": 48,
     "metadata": {},
     "output_type": "execute_result"
    }
   ],
   "source": [
    "df[df.isnull().sum(axis = 1) >= 4]"
   ]
  },
  {
   "cell_type": "code",
   "execution_count": 49,
   "id": "416fab34-9fd2-4052-a9bc-42e5be03eb72",
   "metadata": {},
   "outputs": [
    {
     "data": {
      "text/plain": [
       "FirstName         0.0\n",
       "LastName          0.0\n",
       "Age               0.0\n",
       "Sex               0.0\n",
       "preTestScore     25.0\n",
       "postTestScore     0.0\n",
       "dtype: float64"
      ]
     },
     "execution_count": 49,
     "metadata": {},
     "output_type": "execute_result"
    }
   ],
   "source": [
    "\n",
    "# retaining the rows having <= 4 NaNs\n",
    "df = df[df.isnull().sum(axis=1) <= 4]\n",
    "\n",
    "# look at the summary again\n",
    "round(100*(df.isnull().sum()/len(df.index)), 2)"
   ]
  },
  {
   "cell_type": "code",
   "execution_count": 50,
   "id": "dc1063aa-4070-493b-899c-02e515a1e077",
   "metadata": {},
   "outputs": [
    {
     "data": {
      "text/html": [
       "<div>\n",
       "<style scoped>\n",
       "    .dataframe tbody tr th:only-of-type {\n",
       "        vertical-align: middle;\n",
       "    }\n",
       "\n",
       "    .dataframe tbody tr th {\n",
       "        vertical-align: top;\n",
       "    }\n",
       "\n",
       "    .dataframe thead th {\n",
       "        text-align: right;\n",
       "    }\n",
       "</style>\n",
       "<table border=\"1\" class=\"dataframe\">\n",
       "  <thead>\n",
       "    <tr style=\"text-align: right;\">\n",
       "      <th></th>\n",
       "      <th>FirstName</th>\n",
       "      <th>LastName</th>\n",
       "      <th>Age</th>\n",
       "      <th>Sex</th>\n",
       "      <th>preTestScore</th>\n",
       "      <th>postTestScore</th>\n",
       "    </tr>\n",
       "  </thead>\n",
       "  <tbody>\n",
       "    <tr>\n",
       "      <th>0</th>\n",
       "      <td>abc</td>\n",
       "      <td>mno</td>\n",
       "      <td>12.0</td>\n",
       "      <td>m</td>\n",
       "      <td>90.0</td>\n",
       "      <td>65.0</td>\n",
       "    </tr>\n",
       "    <tr>\n",
       "      <th>2</th>\n",
       "      <td>ghi</td>\n",
       "      <td>pqr</td>\n",
       "      <td>12.0</td>\n",
       "      <td>f</td>\n",
       "      <td>NaN</td>\n",
       "      <td>65.0</td>\n",
       "    </tr>\n",
       "    <tr>\n",
       "      <th>3</th>\n",
       "      <td>jkl</td>\n",
       "      <td>stu</td>\n",
       "      <td>12.0</td>\n",
       "      <td>f</td>\n",
       "      <td>90.0</td>\n",
       "      <td>62.0</td>\n",
       "    </tr>\n",
       "    <tr>\n",
       "      <th>4</th>\n",
       "      <td>mno</td>\n",
       "      <td>vwx</td>\n",
       "      <td>12.0</td>\n",
       "      <td>m</td>\n",
       "      <td>89.0</td>\n",
       "      <td>63.0</td>\n",
       "    </tr>\n",
       "  </tbody>\n",
       "</table>\n",
       "</div>"
      ],
      "text/plain": [
       "  FirstName LastName   Age Sex  preTestScore  postTestScore\n",
       "0       abc      mno  12.0   m          90.0           65.0\n",
       "2       ghi      pqr  12.0   f           NaN           65.0\n",
       "3       jkl      stu  12.0   f          90.0           62.0\n",
       "4       mno      vwx  12.0   m          89.0           63.0"
      ]
     },
     "execution_count": 50,
     "metadata": {},
     "output_type": "execute_result"
    }
   ],
   "source": [
    "df.head()"
   ]
  },
  {
   "cell_type": "code",
   "execution_count": 51,
   "id": "3567bc9b-77ae-42e0-8ab7-363aa10c9a44",
   "metadata": {},
   "outputs": [
    {
     "data": {
      "text/plain": [
       "count     3.000000\n",
       "mean     89.666667\n",
       "std       0.577350\n",
       "min      89.000000\n",
       "25%      89.500000\n",
       "50%      90.000000\n",
       "75%      90.000000\n",
       "max      90.000000\n",
       "Name: preTestScore, dtype: float64"
      ]
     },
     "execution_count": 51,
     "metadata": {},
     "output_type": "execute_result"
    }
   ],
   "source": [
    "\n",
    "df['preTestScore'].describe()"
   ]
  },
  {
   "cell_type": "code",
   "execution_count": 52,
   "id": "9c5c5b5d-10bd-45a9-95fc-c50d3abfe109",
   "metadata": {},
   "outputs": [
    {
     "data": {
      "text/plain": [
       "1"
      ]
     },
     "execution_count": 52,
     "metadata": {},
     "output_type": "execute_result"
    }
   ],
   "source": [
    "df['preTestScore'].isna().sum()"
   ]
  },
  {
   "cell_type": "code",
   "execution_count": 53,
   "id": "3af66fe1-7035-4432-bb07-a3be6dc23974",
   "metadata": {},
   "outputs": [
    {
     "data": {
      "text/plain": [
       "4"
      ]
     },
     "execution_count": 53,
     "metadata": {},
     "output_type": "execute_result"
    }
   ],
   "source": [
    "len(df['preTestScore'])"
   ]
  },
  {
   "cell_type": "code",
   "execution_count": 54,
   "id": "9a193197-e9ba-4631-8f51-98a55878bc9d",
   "metadata": {},
   "outputs": [
    {
     "data": {
      "text/html": [
       "<div>\n",
       "<style scoped>\n",
       "    .dataframe tbody tr th:only-of-type {\n",
       "        vertical-align: middle;\n",
       "    }\n",
       "\n",
       "    .dataframe tbody tr th {\n",
       "        vertical-align: top;\n",
       "    }\n",
       "\n",
       "    .dataframe thead th {\n",
       "        text-align: right;\n",
       "    }\n",
       "</style>\n",
       "<table border=\"1\" class=\"dataframe\">\n",
       "  <thead>\n",
       "    <tr style=\"text-align: right;\">\n",
       "      <th></th>\n",
       "      <th>FirstName</th>\n",
       "      <th>LastName</th>\n",
       "      <th>Age</th>\n",
       "      <th>Sex</th>\n",
       "      <th>preTestScore</th>\n",
       "      <th>postTestScore</th>\n",
       "    </tr>\n",
       "  </thead>\n",
       "  <tbody>\n",
       "    <tr>\n",
       "      <th>0</th>\n",
       "      <td>abc</td>\n",
       "      <td>mno</td>\n",
       "      <td>12.0</td>\n",
       "      <td>m</td>\n",
       "      <td>90.0</td>\n",
       "      <td>65.0</td>\n",
       "    </tr>\n",
       "    <tr>\n",
       "      <th>2</th>\n",
       "      <td>ghi</td>\n",
       "      <td>pqr</td>\n",
       "      <td>12.0</td>\n",
       "      <td>f</td>\n",
       "      <td>NaN</td>\n",
       "      <td>65.0</td>\n",
       "    </tr>\n",
       "    <tr>\n",
       "      <th>3</th>\n",
       "      <td>jkl</td>\n",
       "      <td>stu</td>\n",
       "      <td>12.0</td>\n",
       "      <td>f</td>\n",
       "      <td>90.0</td>\n",
       "      <td>62.0</td>\n",
       "    </tr>\n",
       "    <tr>\n",
       "      <th>4</th>\n",
       "      <td>mno</td>\n",
       "      <td>vwx</td>\n",
       "      <td>12.0</td>\n",
       "      <td>m</td>\n",
       "      <td>89.0</td>\n",
       "      <td>63.0</td>\n",
       "    </tr>\n",
       "  </tbody>\n",
       "</table>\n",
       "</div>"
      ],
      "text/plain": [
       "  FirstName LastName   Age Sex  preTestScore  postTestScore\n",
       "0       abc      mno  12.0   m          90.0           65.0\n",
       "2       ghi      pqr  12.0   f           NaN           65.0\n",
       "3       jkl      stu  12.0   f          90.0           62.0\n",
       "4       mno      vwx  12.0   m          89.0           63.0"
      ]
     },
     "execution_count": 54,
     "metadata": {},
     "output_type": "execute_result"
    }
   ],
   "source": [
    "df.head(15)"
   ]
  },
  {
   "cell_type": "code",
   "execution_count": 55,
   "id": "2c84d9e0-96ad-414a-96b0-d14407ab41d0",
   "metadata": {},
   "outputs": [
    {
     "name": "stderr",
     "output_type": "stream",
     "text": [
      "C:\\Users\\Admin\\AppData\\Local\\Temp\\ipykernel_32004\\568777320.py:1: FutureWarning: A value is trying to be set on a copy of a DataFrame or Series through chained assignment using an inplace method.\n",
      "The behavior will change in pandas 3.0. This inplace method will never work because the intermediate object on which we are setting values always behaves as a copy.\n",
      "\n",
      "For example, when doing 'df[col].method(value, inplace=True)', try using 'df.method({col: value}, inplace=True)' or df[col] = df[col].method(value) instead, to perform the operation inplace on the original object.\n",
      "\n",
      "\n",
      "  df['preTestScore'].fillna(df['preTestScore'].mean(), inplace = True)\n"
     ]
    },
    {
     "data": {
      "text/plain": [
       "FirstName        0.0\n",
       "LastName         0.0\n",
       "Age              0.0\n",
       "Sex              0.0\n",
       "preTestScore     0.0\n",
       "postTestScore    0.0\n",
       "dtype: float64"
      ]
     },
     "execution_count": 55,
     "metadata": {},
     "output_type": "execute_result"
    }
   ],
   "source": [
    "df['preTestScore'].fillna(df['preTestScore'].mean(), inplace = True)\n",
    "\n",
    "round(100*(df.isnull().sum()/len(df.index)), 2)"
   ]
  },
  {
   "cell_type": "code",
   "execution_count": 56,
   "id": "58cee553-f6ae-482b-b4be-f066e814e18c",
   "metadata": {},
   "outputs": [
    {
     "data": {
      "text/html": [
       "<div>\n",
       "<style scoped>\n",
       "    .dataframe tbody tr th:only-of-type {\n",
       "        vertical-align: middle;\n",
       "    }\n",
       "\n",
       "    .dataframe tbody tr th {\n",
       "        vertical-align: top;\n",
       "    }\n",
       "\n",
       "    .dataframe thead th {\n",
       "        text-align: right;\n",
       "    }\n",
       "</style>\n",
       "<table border=\"1\" class=\"dataframe\">\n",
       "  <thead>\n",
       "    <tr style=\"text-align: right;\">\n",
       "      <th></th>\n",
       "      <th>FirstName</th>\n",
       "      <th>LastName</th>\n",
       "      <th>Age</th>\n",
       "      <th>Sex</th>\n",
       "      <th>preTestScore</th>\n",
       "      <th>postTestScore</th>\n",
       "    </tr>\n",
       "  </thead>\n",
       "  <tbody>\n",
       "    <tr>\n",
       "      <th>0</th>\n",
       "      <td>abc</td>\n",
       "      <td>mno</td>\n",
       "      <td>12.0</td>\n",
       "      <td>m</td>\n",
       "      <td>90.000000</td>\n",
       "      <td>65.0</td>\n",
       "    </tr>\n",
       "    <tr>\n",
       "      <th>2</th>\n",
       "      <td>ghi</td>\n",
       "      <td>pqr</td>\n",
       "      <td>12.0</td>\n",
       "      <td>f</td>\n",
       "      <td>89.666667</td>\n",
       "      <td>65.0</td>\n",
       "    </tr>\n",
       "    <tr>\n",
       "      <th>3</th>\n",
       "      <td>jkl</td>\n",
       "      <td>stu</td>\n",
       "      <td>12.0</td>\n",
       "      <td>f</td>\n",
       "      <td>90.000000</td>\n",
       "      <td>62.0</td>\n",
       "    </tr>\n",
       "    <tr>\n",
       "      <th>4</th>\n",
       "      <td>mno</td>\n",
       "      <td>vwx</td>\n",
       "      <td>12.0</td>\n",
       "      <td>m</td>\n",
       "      <td>89.000000</td>\n",
       "      <td>63.0</td>\n",
       "    </tr>\n",
       "  </tbody>\n",
       "</table>\n",
       "</div>"
      ],
      "text/plain": [
       "  FirstName LastName   Age Sex  preTestScore  postTestScore\n",
       "0       abc      mno  12.0   m     90.000000           65.0\n",
       "2       ghi      pqr  12.0   f     89.666667           65.0\n",
       "3       jkl      stu  12.0   f     90.000000           62.0\n",
       "4       mno      vwx  12.0   m     89.000000           63.0"
      ]
     },
     "execution_count": 56,
     "metadata": {},
     "output_type": "execute_result"
    }
   ],
   "source": [
    "df.head()"
   ]
  },
  {
   "cell_type": "code",
   "execution_count": 57,
   "id": "260b9988-200c-4f9d-a877-c927f88275ff",
   "metadata": {},
   "outputs": [],
   "source": [
    "# thay thế giá trị nan ở pretestScore bằng mean của nó"
   ]
  },
  {
   "cell_type": "markdown",
   "id": "6890851f-4563-49d5-8e0c-dff712f0e282",
   "metadata": {},
   "source": [
    "# Missing value Imputation using KNN Imputer\n",
    "\n"
   ]
  },
  {
   "cell_type": "code",
   "execution_count": 62,
   "id": "c2f6dded-8d51-4700-986e-c0a059ebb4a7",
   "metadata": {},
   "outputs": [],
   "source": [
    "missing_val = ['n/a', '-', '?']\n",
    "\n",
    "df = pd.read_csv(\"C:/Users/Admin/OneDrive - ptit.edu.vn/Desktop/data_miss.csv\", na_values=missing_val)"
   ]
  },
  {
   "cell_type": "code",
   "execution_count": 63,
   "id": "bea07b87-5544-4ee0-af06-7c6b91a5fcce",
   "metadata": {},
   "outputs": [
    {
     "data": {
      "text/html": [
       "<div>\n",
       "<style scoped>\n",
       "    .dataframe tbody tr th:only-of-type {\n",
       "        vertical-align: middle;\n",
       "    }\n",
       "\n",
       "    .dataframe tbody tr th {\n",
       "        vertical-align: top;\n",
       "    }\n",
       "\n",
       "    .dataframe thead th {\n",
       "        text-align: right;\n",
       "    }\n",
       "</style>\n",
       "<table border=\"1\" class=\"dataframe\">\n",
       "  <thead>\n",
       "    <tr style=\"text-align: right;\">\n",
       "      <th></th>\n",
       "      <th>FirstName</th>\n",
       "      <th>LastName</th>\n",
       "      <th>Age</th>\n",
       "      <th>Sex</th>\n",
       "      <th>preTestScore</th>\n",
       "      <th>postTestScore</th>\n",
       "      <th>location</th>\n",
       "    </tr>\n",
       "  </thead>\n",
       "  <tbody>\n",
       "    <tr>\n",
       "      <th>0</th>\n",
       "      <td>abc</td>\n",
       "      <td>mno</td>\n",
       "      <td>12.0</td>\n",
       "      <td>m</td>\n",
       "      <td>90.0</td>\n",
       "      <td>65.0</td>\n",
       "      <td>NaN</td>\n",
       "    </tr>\n",
       "    <tr>\n",
       "      <th>1</th>\n",
       "      <td>NaN</td>\n",
       "      <td>NaN</td>\n",
       "      <td>NaN</td>\n",
       "      <td>NaN</td>\n",
       "      <td>90.0</td>\n",
       "      <td>NaN</td>\n",
       "      <td>NaN</td>\n",
       "    </tr>\n",
       "    <tr>\n",
       "      <th>2</th>\n",
       "      <td>ghi</td>\n",
       "      <td>pqr</td>\n",
       "      <td>12.0</td>\n",
       "      <td>f</td>\n",
       "      <td>NaN</td>\n",
       "      <td>65.0</td>\n",
       "      <td>NaN</td>\n",
       "    </tr>\n",
       "    <tr>\n",
       "      <th>3</th>\n",
       "      <td>jkl</td>\n",
       "      <td>stu</td>\n",
       "      <td>12.0</td>\n",
       "      <td>f</td>\n",
       "      <td>90.0</td>\n",
       "      <td>62.0</td>\n",
       "      <td>NaN</td>\n",
       "    </tr>\n",
       "    <tr>\n",
       "      <th>4</th>\n",
       "      <td>mno</td>\n",
       "      <td>vwx</td>\n",
       "      <td>12.0</td>\n",
       "      <td>m</td>\n",
       "      <td>89.0</td>\n",
       "      <td>63.0</td>\n",
       "      <td>NaN</td>\n",
       "    </tr>\n",
       "  </tbody>\n",
       "</table>\n",
       "</div>"
      ],
      "text/plain": [
       "  FirstName LastName   Age  Sex  preTestScore  postTestScore  location\n",
       "0       abc      mno  12.0    m          90.0           65.0       NaN\n",
       "1       NaN      NaN   NaN  NaN          90.0            NaN       NaN\n",
       "2       ghi      pqr  12.0    f           NaN           65.0       NaN\n",
       "3       jkl      stu  12.0    f          90.0           62.0       NaN\n",
       "4       mno      vwx  12.0    m          89.0           63.0       NaN"
      ]
     },
     "execution_count": 63,
     "metadata": {},
     "output_type": "execute_result"
    }
   ],
   "source": [
    "df.head()"
   ]
  },
  {
   "cell_type": "code",
   "execution_count": 64,
   "id": "3532daab-7f33-463a-97f0-f45605be55dc",
   "metadata": {},
   "outputs": [
    {
     "data": {
      "text/plain": [
       "FirstName        1\n",
       "LastName         1\n",
       "Age              1\n",
       "Sex              1\n",
       "preTestScore     1\n",
       "postTestScore    1\n",
       "location         5\n",
       "dtype: int64"
      ]
     },
     "execution_count": 64,
     "metadata": {},
     "output_type": "execute_result"
    }
   ],
   "source": [
    "df.isnull().sum()"
   ]
  },
  {
   "cell_type": "code",
   "execution_count": 65,
   "id": "37ea6e9b-ec5a-4a23-ae83-bb27ac5bbfc7",
   "metadata": {},
   "outputs": [
    {
     "name": "stdout",
     "output_type": "stream",
     "text": [
      "<class 'pandas.core.frame.DataFrame'>\n",
      "RangeIndex: 5 entries, 0 to 4\n",
      "Data columns (total 7 columns):\n",
      " #   Column         Non-Null Count  Dtype  \n",
      "---  ------         --------------  -----  \n",
      " 0   FirstName      4 non-null      object \n",
      " 1   LastName       4 non-null      object \n",
      " 2   Age            4 non-null      float64\n",
      " 3   Sex            4 non-null      object \n",
      " 4   preTestScore   4 non-null      float64\n",
      " 5   postTestScore  4 non-null      float64\n",
      " 6   location       0 non-null      float64\n",
      "dtypes: float64(4), object(3)\n",
      "memory usage: 412.0+ bytes\n"
     ]
    }
   ],
   "source": [
    "df.info()"
   ]
  },
  {
   "cell_type": "code",
   "execution_count": 66,
   "id": "24f17892-444c-425b-9a1e-3b6b5e47af3c",
   "metadata": {},
   "outputs": [
    {
     "data": {
      "text/html": [
       "<div>\n",
       "<style scoped>\n",
       "    .dataframe tbody tr th:only-of-type {\n",
       "        vertical-align: middle;\n",
       "    }\n",
       "\n",
       "    .dataframe tbody tr th {\n",
       "        vertical-align: top;\n",
       "    }\n",
       "\n",
       "    .dataframe thead th {\n",
       "        text-align: right;\n",
       "    }\n",
       "</style>\n",
       "<table border=\"1\" class=\"dataframe\">\n",
       "  <thead>\n",
       "    <tr style=\"text-align: right;\">\n",
       "      <th></th>\n",
       "      <th>Age</th>\n",
       "      <th>preTestScore</th>\n",
       "      <th>postTestScore</th>\n",
       "      <th>location</th>\n",
       "    </tr>\n",
       "  </thead>\n",
       "  <tbody>\n",
       "    <tr>\n",
       "      <th>0</th>\n",
       "      <td>12.0</td>\n",
       "      <td>90.0</td>\n",
       "      <td>65.0</td>\n",
       "      <td>NaN</td>\n",
       "    </tr>\n",
       "    <tr>\n",
       "      <th>1</th>\n",
       "      <td>NaN</td>\n",
       "      <td>90.0</td>\n",
       "      <td>NaN</td>\n",
       "      <td>NaN</td>\n",
       "    </tr>\n",
       "    <tr>\n",
       "      <th>2</th>\n",
       "      <td>12.0</td>\n",
       "      <td>NaN</td>\n",
       "      <td>65.0</td>\n",
       "      <td>NaN</td>\n",
       "    </tr>\n",
       "    <tr>\n",
       "      <th>3</th>\n",
       "      <td>12.0</td>\n",
       "      <td>90.0</td>\n",
       "      <td>62.0</td>\n",
       "      <td>NaN</td>\n",
       "    </tr>\n",
       "    <tr>\n",
       "      <th>4</th>\n",
       "      <td>12.0</td>\n",
       "      <td>89.0</td>\n",
       "      <td>63.0</td>\n",
       "      <td>NaN</td>\n",
       "    </tr>\n",
       "  </tbody>\n",
       "</table>\n",
       "</div>"
      ],
      "text/plain": [
       "    Age  preTestScore  postTestScore  location\n",
       "0  12.0          90.0           65.0       NaN\n",
       "1   NaN          90.0            NaN       NaN\n",
       "2  12.0           NaN           65.0       NaN\n",
       "3  12.0          90.0           62.0       NaN\n",
       "4  12.0          89.0           63.0       NaN"
      ]
     },
     "execution_count": 66,
     "metadata": {},
     "output_type": "execute_result"
    }
   ],
   "source": [
    "df_num = df.select_dtypes(include = [\"int64\", \"float64\"])\n",
    "\n",
    "df_num.head()"
   ]
  },
  {
   "cell_type": "code",
   "execution_count": 68,
   "id": "5b91aa18-6163-4e01-8a61-c301f7234103",
   "metadata": {},
   "outputs": [
    {
     "data": {
      "text/html": [
       "<div>\n",
       "<style scoped>\n",
       "    .dataframe tbody tr th:only-of-type {\n",
       "        vertical-align: middle;\n",
       "    }\n",
       "\n",
       "    .dataframe tbody tr th {\n",
       "        vertical-align: top;\n",
       "    }\n",
       "\n",
       "    .dataframe thead th {\n",
       "        text-align: right;\n",
       "    }\n",
       "</style>\n",
       "<table border=\"1\" class=\"dataframe\">\n",
       "  <thead>\n",
       "    <tr style=\"text-align: right;\">\n",
       "      <th></th>\n",
       "      <th>Age</th>\n",
       "      <th>preTestScore</th>\n",
       "      <th>postTestScore</th>\n",
       "    </tr>\n",
       "  </thead>\n",
       "  <tbody>\n",
       "    <tr>\n",
       "      <th>0</th>\n",
       "      <td>12.0</td>\n",
       "      <td>90.0</td>\n",
       "      <td>65.0</td>\n",
       "    </tr>\n",
       "    <tr>\n",
       "      <th>1</th>\n",
       "      <td>NaN</td>\n",
       "      <td>90.0</td>\n",
       "      <td>NaN</td>\n",
       "    </tr>\n",
       "    <tr>\n",
       "      <th>2</th>\n",
       "      <td>12.0</td>\n",
       "      <td>NaN</td>\n",
       "      <td>65.0</td>\n",
       "    </tr>\n",
       "    <tr>\n",
       "      <th>3</th>\n",
       "      <td>12.0</td>\n",
       "      <td>90.0</td>\n",
       "      <td>62.0</td>\n",
       "    </tr>\n",
       "    <tr>\n",
       "      <th>4</th>\n",
       "      <td>12.0</td>\n",
       "      <td>89.0</td>\n",
       "      <td>63.0</td>\n",
       "    </tr>\n",
       "  </tbody>\n",
       "</table>\n",
       "</div>"
      ],
      "text/plain": [
       "    Age  preTestScore  postTestScore\n",
       "0  12.0          90.0           65.0\n",
       "1   NaN          90.0            NaN\n",
       "2  12.0           NaN           65.0\n",
       "3  12.0          90.0           62.0\n",
       "4  12.0          89.0           63.0"
      ]
     },
     "execution_count": 68,
     "metadata": {},
     "output_type": "execute_result"
    }
   ],
   "source": [
    "df_num = df_num.drop(['location'], axis = 1)\n",
    "df_num.head()"
   ]
  },
  {
   "cell_type": "raw",
   "id": "8bd74124-ff2d-43e2-9412-c6759189e84e",
   "metadata": {},
   "source": [
    "\n"
   ]
  },
  {
   "cell_type": "code",
   "execution_count": 70,
   "id": "7bacae7c-7b6d-4464-a857-3283955e44c2",
   "metadata": {},
   "outputs": [
    {
     "data": {
      "text/html": [
       "<div>\n",
       "<style scoped>\n",
       "    .dataframe tbody tr th:only-of-type {\n",
       "        vertical-align: middle;\n",
       "    }\n",
       "\n",
       "    .dataframe tbody tr th {\n",
       "        vertical-align: top;\n",
       "    }\n",
       "\n",
       "    .dataframe thead th {\n",
       "        text-align: right;\n",
       "    }\n",
       "</style>\n",
       "<table border=\"1\" class=\"dataframe\">\n",
       "  <thead>\n",
       "    <tr style=\"text-align: right;\">\n",
       "      <th></th>\n",
       "      <th>Age</th>\n",
       "      <th>preTestScore</th>\n",
       "      <th>postTestScore</th>\n",
       "    </tr>\n",
       "  </thead>\n",
       "  <tbody>\n",
       "    <tr>\n",
       "      <th>0</th>\n",
       "      <td>12.0</td>\n",
       "      <td>90.000000</td>\n",
       "      <td>65.000000</td>\n",
       "    </tr>\n",
       "    <tr>\n",
       "      <th>1</th>\n",
       "      <td>12.0</td>\n",
       "      <td>90.000000</td>\n",
       "      <td>63.333333</td>\n",
       "    </tr>\n",
       "    <tr>\n",
       "      <th>2</th>\n",
       "      <td>12.0</td>\n",
       "      <td>89.666667</td>\n",
       "      <td>65.000000</td>\n",
       "    </tr>\n",
       "    <tr>\n",
       "      <th>3</th>\n",
       "      <td>12.0</td>\n",
       "      <td>90.000000</td>\n",
       "      <td>62.000000</td>\n",
       "    </tr>\n",
       "    <tr>\n",
       "      <th>4</th>\n",
       "      <td>12.0</td>\n",
       "      <td>89.000000</td>\n",
       "      <td>63.000000</td>\n",
       "    </tr>\n",
       "  </tbody>\n",
       "</table>\n",
       "</div>"
      ],
      "text/plain": [
       "    Age  preTestScore  postTestScore\n",
       "0  12.0     90.000000      65.000000\n",
       "1  12.0     90.000000      63.333333\n",
       "2  12.0     89.666667      65.000000\n",
       "3  12.0     90.000000      62.000000\n",
       "4  12.0     89.000000      63.000000"
      ]
     },
     "execution_count": 70,
     "metadata": {},
     "output_type": "execute_result"
    }
   ],
   "source": [
    "from sklearn.impute import KNNImputer\n",
    "\n",
    "knn_imputer = KNNImputer(n_neighbors= 3 )  \n",
    "# sử dụng 3 hàng gần nhát để làm việc \n",
    "\n",
    "df_knn_imp = pd.DataFrame(knn_imputer.fit_transform(df_num),\n",
    "                          columns = df_num.columns,\n",
    "                          index = df_num.index)\n",
    "\n",
    "df_knn_imp.head()"
   ]
  },
  {
   "cell_type": "code",
   "execution_count": 74,
   "id": "289b1966-eaa2-4206-89cc-07fcb2a61d94",
   "metadata": {},
   "outputs": [
    {
     "data": {
      "text/plain": [
       "array([[12.  , 90.  , 65.  ],\n",
       "       [12.  , 90.  , 63.75],\n",
       "       [12.  , 89.75, 65.  ],\n",
       "       [12.  , 90.  , 62.  ],\n",
       "       [12.  , 89.  , 63.  ]])"
      ]
     },
     "execution_count": 74,
     "metadata": {},
     "output_type": "execute_result"
    }
   ],
   "source": [
    "# method 2\n",
    "from sklearn.impute import SimpleImputer\n",
    "\n",
    "mean_imputer = SimpleImputer(strategy='mean')\n",
    "\n",
    "X_imputed = mean_imputer.fit_transform(df_num)\n",
    "X_imputed"
   ]
  },
  {
   "cell_type": "code",
   "execution_count": 75,
   "id": "f81624ab-d5fb-4da5-aabe-464edcf4ae1d",
   "metadata": {},
   "outputs": [
    {
     "name": "stderr",
     "output_type": "stream",
     "text": [
      "C:\\Users\\Admin\\AppData\\Local\\Temp\\ipykernel_32004\\3309360201.py:12: FutureWarning: A value is trying to be set on a copy of a DataFrame or Series through chained assignment using an inplace method.\n",
      "The behavior will change in pandas 3.0. This inplace method will never work because the intermediate object on which we are setting values always behaves as a copy.\n",
      "\n",
      "For example, when doing 'df[col].method(value, inplace=True)', try using 'df.method({col: value}, inplace=True)' or df[col] = df[col].method(value) instead, to perform the operation inplace on the original object.\n",
      "\n",
      "\n",
      "  df['B'].fillna(df['B'].mean(), inplace = True)\n"
     ]
    },
    {
     "data": {
      "text/html": [
       "<div>\n",
       "<style scoped>\n",
       "    .dataframe tbody tr th:only-of-type {\n",
       "        vertical-align: middle;\n",
       "    }\n",
       "\n",
       "    .dataframe tbody tr th {\n",
       "        vertical-align: top;\n",
       "    }\n",
       "\n",
       "    .dataframe thead th {\n",
       "        text-align: right;\n",
       "    }\n",
       "</style>\n",
       "<table border=\"1\" class=\"dataframe\">\n",
       "  <thead>\n",
       "    <tr style=\"text-align: right;\">\n",
       "      <th></th>\n",
       "      <th>A</th>\n",
       "      <th>B</th>\n",
       "    </tr>\n",
       "  </thead>\n",
       "  <tbody>\n",
       "    <tr>\n",
       "      <th>0</th>\n",
       "      <td>1.0</td>\n",
       "      <td>5.000000</td>\n",
       "    </tr>\n",
       "    <tr>\n",
       "      <th>1</th>\n",
       "      <td>2.0</td>\n",
       "      <td>6.666667</td>\n",
       "    </tr>\n",
       "    <tr>\n",
       "      <th>2</th>\n",
       "      <td>NaN</td>\n",
       "      <td>7.000000</td>\n",
       "    </tr>\n",
       "    <tr>\n",
       "      <th>3</th>\n",
       "      <td>4.0</td>\n",
       "      <td>8.000000</td>\n",
       "    </tr>\n",
       "  </tbody>\n",
       "</table>\n",
       "</div>"
      ],
      "text/plain": [
       "     A         B\n",
       "0  1.0  5.000000\n",
       "1  2.0  6.666667\n",
       "2  NaN  7.000000\n",
       "3  4.0  8.000000"
      ]
     },
     "execution_count": 75,
     "metadata": {},
     "output_type": "execute_result"
    }
   ],
   "source": [
    "import pandas as pd\n",
    "import numpy as np\n",
    "\n",
    "# Ví dụ dữ liệu\n",
    "df = pd.DataFrame({\n",
    "    'A': [1, 2, np.nan, 4],\n",
    "    'B': [5, np.nan, 7, 8]\n",
    "})\n",
    "\n",
    "# Tính mean của cột B và điền vào chỗ NaN\n",
    "\n",
    "df['B'].fillna(df['B'].mean(), inplace = True)\n",
    "\n",
    "df.head()"
   ]
  },
  {
   "cell_type": "code",
   "execution_count": 76,
   "id": "6084eb88-8b88-4810-906c-d395c43ed2f9",
   "metadata": {},
   "outputs": [
    {
     "data": {
      "text/html": [
       "<div>\n",
       "<style scoped>\n",
       "    .dataframe tbody tr th:only-of-type {\n",
       "        vertical-align: middle;\n",
       "    }\n",
       "\n",
       "    .dataframe tbody tr th {\n",
       "        vertical-align: top;\n",
       "    }\n",
       "\n",
       "    .dataframe thead th {\n",
       "        text-align: right;\n",
       "    }\n",
       "</style>\n",
       "<table border=\"1\" class=\"dataframe\">\n",
       "  <thead>\n",
       "    <tr style=\"text-align: right;\">\n",
       "      <th></th>\n",
       "      <th>Age</th>\n",
       "      <th>preTestScore</th>\n",
       "      <th>postTestScore</th>\n",
       "    </tr>\n",
       "  </thead>\n",
       "  <tbody>\n",
       "    <tr>\n",
       "      <th>0</th>\n",
       "      <td>12.0</td>\n",
       "      <td>90.00</td>\n",
       "      <td>65.00</td>\n",
       "    </tr>\n",
       "    <tr>\n",
       "      <th>1</th>\n",
       "      <td>12.0</td>\n",
       "      <td>90.00</td>\n",
       "      <td>63.75</td>\n",
       "    </tr>\n",
       "    <tr>\n",
       "      <th>2</th>\n",
       "      <td>12.0</td>\n",
       "      <td>89.75</td>\n",
       "      <td>65.00</td>\n",
       "    </tr>\n",
       "    <tr>\n",
       "      <th>3</th>\n",
       "      <td>12.0</td>\n",
       "      <td>90.00</td>\n",
       "      <td>62.00</td>\n",
       "    </tr>\n",
       "    <tr>\n",
       "      <th>4</th>\n",
       "      <td>12.0</td>\n",
       "      <td>89.00</td>\n",
       "      <td>63.00</td>\n",
       "    </tr>\n",
       "  </tbody>\n",
       "</table>\n",
       "</div>"
      ],
      "text/plain": [
       "    Age  preTestScore  postTestScore\n",
       "0  12.0         90.00          65.00\n",
       "1  12.0         90.00          63.75\n",
       "2  12.0         89.75          65.00\n",
       "3  12.0         90.00          62.00\n",
       "4  12.0         89.00          63.00"
      ]
     },
     "execution_count": 76,
     "metadata": {},
     "output_type": "execute_result"
    }
   ],
   "source": [
    "\n",
    "from sklearn.impute import SimpleImputer\n",
    "\n",
    "mean_imputer = SimpleImputer(strategy='mean')\n",
    "# strategy = 'mean', 'median', 'most_frequent'\n",
    "\n",
    "df_mean_imp = pd.DataFrame(mean_imputer.fit_transform(df_num),\n",
    "                         columns=df_num.columns,\n",
    "                         index=df_num.index)\n",
    "\n",
    "df_mean_imp.head()"
   ]
  },
  {
   "cell_type": "code",
   "execution_count": null,
   "id": "6444870c-dbb5-47be-9520-3bac2a869425",
   "metadata": {},
   "outputs": [],
   "source": []
  }
 ],
 "metadata": {
  "kernelspec": {
   "display_name": "Python [conda env:base] *",
   "language": "python",
   "name": "conda-base-py"
  },
  "language_info": {
   "codemirror_mode": {
    "name": "ipython",
    "version": 3
   },
   "file_extension": ".py",
   "mimetype": "text/x-python",
   "name": "python",
   "nbconvert_exporter": "python",
   "pygments_lexer": "ipython3",
   "version": "3.12.7"
  }
 },
 "nbformat": 4,
 "nbformat_minor": 5
}
