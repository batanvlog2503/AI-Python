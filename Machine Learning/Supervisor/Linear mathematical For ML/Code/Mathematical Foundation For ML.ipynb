{
 "cells": [
  {
   "cell_type": "markdown",
   "id": "31a5fe27-ed7a-420e-8644-5fde91a09dbb",
   "metadata": {},
   "source": [
    "# Mathematical Foundations For ML - Linear ALgebra(Đại số tuyến tính)\n",
    "- Dùng để biểu diễn dữ liệu và mô hình dưới dạng vector và ma trận\n",
    "- dữ liệu(features) của một mẫu là vector\n",
    "- cả dataset là ma trận m * n(m mẫu, n đặc trưng)\n",
    "- tham số weights của mô hình cũng là vector / matrix\n",
    "## What's Covered?\n",
    "1. Linear Algebra and The Concept of Vector Space\n",
    "2. Visualizing Row Vectors\n",
    "3. Properties of a Vectors\n",
    "4. Vector Algebra\n",
    "5. Similarity between Two Vectors\n",
    "6. Matrix Algebra Operations\n",
    "## Linear Algebra and the Concept of Vector space\n",
    "Đại số tuyến tính là một nhánh của toán học liên quan đến không gian vectơ và ánh xạ tuyến tính giữa các không gian này. Nó là một công cụ cơ bản trong các lĩnh vực khác nhau, bao gồm vật lý, kỹ thuật, khoa học máy tính và kinh tế.\n",
    "\n",
    "Một không gian vector giống như một sân chơi đặc biệt cho mũi tên (vectơ) mà bạn có thể kéo dài, thu nhỏ và kết hợp theo những cách nhất định. Hãy tưởng tượng bạn có những mũi tên có kích thước khác nhau trên một mảnh giấy lớn. Bài viết này là không gian vector của chúng tôi.\n",
    "\n",
    "Khái niệm về một không gian vectơ có liên quan chặt chẽ với mặt phẳng tọa độ, và trên thực tế, mặt phẳng tọa độ là một ví dụ cơ bản về không gian vector. Mặt phẳng tọa độ là một không gian hai chiều \n",
    "𝑅\n",
    "2\n",
    " trong đó mỗi điểm được xác định bởi một cặp số thực (x, y). Trong khi đó, không gian vector khái quát hóa cho không gian có kích thước cao hơn \n",
    "\n",
    "## Q: How to represent a dataframe in mathematics?\n",
    "DataFrame được biểu diễn dưới dạng ma trận số.\n",
    "\n",
    "Mỗi hàng trong khung dữ liệu tương ứng với một hàng trong ma trận và mỗi cột trong khung dữ liệu tương ứng với một cột trong ma trận.\n",
    "\n",
    "Biểu diễn ma trận này rất hữu ích khi áp dụng các hoạt động đại số tuyến tính hoặc khi sử dụng các thư viện máy học mong đợi dữ liệu đầu vào ở dạng ma trận. Nó cho phép bạn tận dụng các công cụ toán học và tính toán có sẵn cho ma trận trong các tác vụ phân tích dữ liệu và máy học khác nhau.\n",
    "\n",
    "Nếu DataFrame của bạn chứa một hỗn hợp các loại dữ liệu, có thể cần phải xử lý điều này cho phù hợp. Ví dụ: đối với các cột phân loại áp dụng OHE hoặc LE, cho các cột văn bản áp dụng cung, tfidf, v.v.\n"
   ]
  },
  {
   "cell_type": "markdown",
   "id": "939ee487-847d-4850-93e5-f227c44d727c",
   "metadata": {},
   "source": [
    "# Visualizing Row vectors\n"
   ]
  },
  {
   "cell_type": "code",
   "execution_count": 1,
   "id": "824047ec-0695-4e6e-a17b-fdcb1ccd5285",
   "metadata": {},
   "outputs": [],
   "source": [
    "import numpy as np\n",
    "import pandas as pd\n",
    "import matplotlib.pyplot as plt\n",
    "import seaborn as sns\n"
   ]
  },
  {
   "cell_type": "code",
   "execution_count": 2,
   "id": "7c19c800-41de-48b2-9bfe-8deada694883",
   "metadata": {},
   "outputs": [],
   "source": [
    "vec_1 = np.array([0.5, 2])\n",
    "vec_2 = np.array([3, 0])\n",
    "vec_3 = np.array([0, 8])"
   ]
  },
  {
   "cell_type": "code",
   "execution_count": 6,
   "id": "eb54fd87-02f0-4a33-a3ec-f549b66a5e73",
   "metadata": {},
   "outputs": [
    {
     "data": {
      "image/png": "[encoded data removed]",
      "text/plain": [
       "<Figure size 640x480 with 1 Axes>"
      ]
     },
     "metadata": {},
     "output_type": "display_data"
    }
   ],
   "source": [
    "# vẽ chấm tròn # k là black đen còn o là chấm tròn\n",
    "\n",
    "plt.plot(vec_1[0], vec_1[1], 'ko')\n",
    "plt.plot(vec_2[0], vec_2[1], 'ko')\n",
    "plt.plot(vec_3[0], vec_3[1], 'ko')\n",
    "\n",
    "# quiver là vẽ mũi tên 0 0  là tọa đô đầu còn lại là tọa độ cuối mũi tên và các màu\n",
    "plt.quiver(0, 0, vec_1[0], vec_1[1], angles='xy', scale_units='xy', scale=1, color='r')\n",
    "plt.quiver(0, 0, vec_2[0], vec_2[1], angles='xy', scale_units='xy', scale=1, color='g')\n",
    "plt.quiver(0, 0, vec_3[0], vec_3[1], angles='xy', scale_units='xy', scale=1, color='b')\n",
    "\n",
    "plt.xlim(-2, 10) # đặt giới hạn trong khung hình tọa độ x và y\n",
    "plt.ylim(-2, 10)\n",
    "\n",
    "plt.grid()\n",
    "\n",
    "plt.show()"
   ]
  },
  {
   "cell_type": "markdown",
   "id": "ce7e6dea-5f15-4a98-ad55-ddb1528f2ede",
   "metadata": {},
   "source": [
    "# Properties of a Vector\n",
    "## Dimensionality\n",
    "The dimensionality of a vector is the number of features (Columns) it has. in the above examplt, the dimensionily is 3\n",
    "## Magnitude of a vector(aka Norm of a Vector)"
   ]
  },
  {
   "cell_type": "code",
   "execution_count": 7,
   "id": "659af88b-9f4a-4417-b28b-fd1dcbc7ba16",
   "metadata": {},
   "outputs": [
    {
     "name": "stdout",
     "output_type": "stream",
     "text": [
      "Dimensionality:  (2,)\n",
      "Dimensionality:  (2,)\n",
      "Dimensionality:  (2,)\n"
     ]
    }
   ],
   "source": [
    "print(\"Dimensionality: \", vec_1.shape)\n",
    "print(\"Dimensionality: \", vec_2.shape)\n",
    "print(\"Dimensionality: \", vec_3.shape)"
   ]
  },
  {
   "cell_type": "code",
   "execution_count": 9,
   "id": "3a9d7fcd-5f3b-4021-ba59-c7fd803042f9",
   "metadata": {},
   "outputs": [
    {
     "name": "stdout",
     "output_type": "stream",
     "text": [
      "Magnitude(Kích cỡ) or length of a vec_1:  2.0615528128088303\n",
      "Magnitude(or Length) of a vec_2: 3.0\n",
      "Magnitude(or Length) of a vec_3: 8.0\n"
     ]
    }
   ],
   "source": [
    "print(\"Magnitude(Kích cỡ) or length of a vec_1: \", np.linalg.norm(vec_1))\n",
    "print(\"Magnitude(or Length) of a vec_2:\", np.linalg.norm(vec_2)) \n",
    "print(\"Magnitude(or Length) of a vec_3:\", np.linalg.norm(vec_3))\n"
   ]
  },
  {
   "cell_type": "code",
   "execution_count": 11,
   "id": "454a2b76-3b6e-4d96-a8c7-3d0f7d68d0dc",
   "metadata": {},
   "outputs": [
    {
     "name": "stdout",
     "output_type": "stream",
     "text": [
      "Unit Vector of vec_1: [0.24253563 0.9701425 ]\n",
      "Unit Vector of vec_2: [1. 0.]\n",
      "Unit Vector of vec_3: [0. 1.]\n"
     ]
    }
   ],
   "source": [
    "print(\"Unit Vector of vec_1:\", vec_1 / np.linalg.norm(vec_1))\n",
    "print(\"Unit Vector of vec_2:\", vec_2 / np.linalg.norm(vec_2))\n",
    "print(\"Unit Vector of vec_3:\", vec_3 / np.linalg.norm(vec_3)) # vector đơn vị\n",
    "# nó kiểu như này [3, 4] có độ dài là 5 thì nó sẽ là[ 3/5, 4/5]"
   ]
  },
  {
   "cell_type": "markdown",
   "id": "3fbdae13-dfbe-40c5-92b8-523dbb268429",
   "metadata": {},
   "source": [
    "# Vector algebra ( đại số Vector)\n",
    "\n",
    "1. Addition\n",
    "2. Subtraction\n",
    "3. dot Product"
   ]
  },
  {
   "cell_type": "markdown",
   "id": "479009c2-a161-4b9f-a150-79f6803dfe26",
   "metadata": {},
   "source": [
    "## Addition"
   ]
  },
  {
   "cell_type": "code",
   "execution_count": 12,
   "id": "182076a8-92a2-46b3-b7c8-75d4ced40d33",
   "metadata": {},
   "outputs": [
    {
     "name": "stdout",
     "output_type": "stream",
     "text": [
      "Vector 1: [0.5 2. ]\n",
      "Vector 2: [3 0]\n",
      "Vector 3: [0 8]\n"
     ]
    }
   ],
   "source": [
    "print(\"Vector 1:\", vec_1)\n",
    "print(\"Vector 2:\", vec_2)\n",
    "print(\"Vector 3:\", vec_3)"
   ]
  },
  {
   "cell_type": "code",
   "execution_count": 13,
   "id": "e665891e-4c4f-4e89-8970-8cfc19611051",
   "metadata": {},
   "outputs": [
    {
     "name": "stdout",
     "output_type": "stream",
     "text": [
      "[3.5 2. ]\n"
     ]
    }
   ],
   "source": [
    "print(vec_1 +vec_2)"
   ]
  },
  {
   "cell_type": "markdown",
   "id": "9cb636e0-f3bb-41cb-a26a-dd9799790e17",
   "metadata": {},
   "source": [
    "## Subtraction"
   ]
  },
  {
   "cell_type": "code",
   "execution_count": 14,
   "id": "c0193725-ea24-4eee-816f-6e2a44d1cdc4",
   "metadata": {},
   "outputs": [
    {
     "name": "stdout",
     "output_type": "stream",
     "text": [
      "Subtraction vec_1 and vec_2: [-2.5  2. ]\n"
     ]
    }
   ],
   "source": [
    "print(\"Subtraction vec_1 and vec_2:\", vec_1 - vec_2)"
   ]
  },
  {
   "cell_type": "markdown",
   "id": "beddd32f-1a43-4d0b-9a41-af5171f0f509",
   "metadata": {},
   "source": [
    "# Dot Product a.b = Ai.bi"
   ]
  },
  {
   "cell_type": "code",
   "execution_count": 15,
   "id": "ad173cf9-af27-43fb-9c1b-7b94fd7e9aeb",
   "metadata": {},
   "outputs": [
    {
     "name": "stdout",
     "output_type": "stream",
     "text": [
      "Dot Product: 1.5\n"
     ]
    }
   ],
   "source": [
    "print(\"Dot Product:\", np.dot(vec_1, vec_2))"
   ]
  },
  {
   "cell_type": "markdown",
   "id": "07cfb8fd-9e9a-4315-bdff-87c1c6d272b6",
   "metadata": {},
   "source": [
    "# Similarity between Two Vectors ( Distance vs Similarity)\n",
    "Sự tương đồng và khoảng cách là hai khái niệm thường được sử dụng trong các lĩnh vực khác nhau, chẳng hạn như toán học, thống kê và học máy, để định lượng mối quan hệ giữa các dữ liệu. Chúng về cơ bản là các khái niệm nghịch đảo, và hiểu người ta có thể cung cấp những hiểu biết sâu sắc về người khác.\n",
    "\n",
    "Sự tương đồng và khoảng cách có liên quan nhưng đại diện cho các khía cạnh ngược lại của mối quan hệ giữa các điểm dữ liệu. Độ tương tự cao tương ứng với khoảng cách thấp và ngược lại.\n",
    "\n",
    "Các ứng dụng khác nhau có thể yêu cầu các biện pháp khác nhau và sự lựa chọn giữa sự tương đồng và khoảng cách phụ thuộc vào bối cảnh cụ thể và các yêu cầu của vấn đề trong tay.\n",
    "\n",
    "Việc lựa chọn số liệu khoảng cách phụ thuộc vào các đặc điểm cụ thể của dữ liệu của bạn và các yêu cầu của ứng dụng của bạn. Các số liệu khoảng cách khác nhau phù hợp cho các loại dữ liệu và kịch bản khác nhau. Dưới đây là một số số liệu khoảng cách thường được sử dụng:\n",
    "\n",
    "1. Minkowski Distance(Lp Norm)\n",
    "2. Manhattan Distance(L1 Norm)\n",
    "3. Euclidean Distance(L2 Norm)\n",
    "4. Angular Distance (so hướng vector)\n",
    "5. Cosine Similarity (so độ tương tự hướng)\n",
    "6. Cosine Distance(khoảng cách góc)"
   ]
  },
  {
   "cell_type": "markdown",
   "id": "2b2a5f2e-5f41-44da-a61d-e09ec2ff1853",
   "metadata": {},
   "source": [
    "\n"
   ]
  },
  {
   "cell_type": "markdown",
   "id": "01cb0954-4c43-43a9-89c1-288cad52b0c3",
   "metadata": {},
   "source": [
    "# Manhattan Distance(aka L1 Norm)\n",
    "\n",
    "tổng khoảng cách tuyệt đối trên từng chiều\n",
    "\n",
    "distance(a, b) = |Ai - Bi|"
   ]
  },
  {
   "cell_type": "code",
   "execution_count": 18,
   "id": "8fbde375-bfb4-4484-8bd6-588e49b8a0c6",
   "metadata": {},
   "outputs": [
    {
     "name": "stdout",
     "output_type": "stream",
     "text": [
      "Manhattan Distance between vec1 vs vec2:  [[4.5]]\n",
      "Manhattan Distance Between vec_1, vec_2 and vec_3:\n",
      " [[ 0.   4.5  6.5]\n",
      " [ 4.5  0.  11. ]\n",
      " [ 6.5 11.   0. ]]\n"
     ]
    }
   ],
   "source": [
    "from sklearn.metrics import pairwise\n",
    "\n",
    "print(\"Manhattan Distance between vec1 vs vec2: \", pairwise.manhattan_distances([vec_1],[vec_2]))\n",
    "\n",
    "print(\"Manhattan Distance Between vec_1, vec_2 and vec_3:\\n\", pairwise.manhattan_distances([vec_1, vec_2, vec_3]))"
   ]
  },
  {
   "cell_type": "markdown",
   "id": "f9e5dde3-ffc6-409f-8669-350d5dca32ea",
   "metadata": {},
   "source": [
    "# Euclidean Distance (aka L2 Norm)\n",
    "Measure the Straight-line distance between two points in euclidean space.\n",
    "Khoảng cách ngắn nhắt trong không gian\n",
    "Distance(a, b) = sqrt(pow((Ai - Bi), 2))"
   ]
  },
  {
   "cell_type": "code",
   "execution_count": 19,
   "id": "d2581c89-aa56-4d30-b02e-b14dcfc0a5be",
   "metadata": {},
   "outputs": [],
   "source": [
    "from sklearn.metrics import pairwise"
   ]
  },
  {
   "cell_type": "code",
   "execution_count": 21,
   "id": "a17a2e90-8eb5-44b6-a32f-9c05b4544f01",
   "metadata": {},
   "outputs": [
    {
     "name": "stdout",
     "output_type": "stream",
     "text": [
      "Euclidean Distance Vec1 and Vec2:  [[3.20156212]]\n",
      "Euclidean Distance Between vec_1, vec_2 and vec_3:\n",
      " [[0.         3.20156212 6.02079729]\n",
      " [3.20156212 0.         8.54400375]\n",
      " [6.02079729 8.54400375 0.        ]]\n"
     ]
    }
   ],
   "source": [
    "print(\"Euclidean Distance Vec1 and Vec2: \", pairwise.euclidean_distances([vec_1], [vec_2]))\n",
    "print(\"Euclidean Distance Between vec_1, vec_2 and vec_3:\\n\", pairwise.euclidean_distances([vec_1, vec_2, vec_3]))"
   ]
  },
  {
   "cell_type": "markdown",
   "id": "a17d4856-e9af-40e2-a7b7-82142173981c",
   "metadata": {},
   "source": [
    "# Cosine Similarity (góc giữa 2 vector)\n",
    "\n",
    "-  Trả về cos0"
   ]
  },
  {
   "cell_type": "code",
   "execution_count": 22,
   "id": "6f4be6e9-16c5-4e6b-a28d-8c0c0d12d7b1",
   "metadata": {},
   "outputs": [
    {
     "name": "stdout",
     "output_type": "stream",
     "text": [
      "Cosine Similarity Between vec_1 and vec_2: [[0.24253563]]\n",
      "\n",
      "Cosine Similarity Between vec_1, vec_2 and vec_3:\n",
      " [[1.         0.24253563 0.9701425 ]\n",
      " [0.24253563 1.         0.        ]\n",
      " [0.9701425  0.         1.        ]]\n"
     ]
    }
   ],
   "source": [
    "from sklearn.metrics import pairwise\n",
    "\n",
    "print(\"Cosine Similarity Between vec_1 and vec_2:\", pairwise.cosine_similarity([vec_1], [vec_2]))\n",
    "\n",
    "print()\n",
    "\n",
    "print(\"Cosine Similarity Between vec_1, vec_2 and vec_3:\\n\", pairwise.cosine_similarity([vec_1, vec_2, vec_3]))"
   ]
  },
  {
   "cell_type": "markdown",
   "id": "b69fce66-66cc-4d6d-a89a-67c60d76c173",
   "metadata": {},
   "source": [
    "# Cosine Distance là 1 cách biến Cosine Similarity thành 1 thước đo khoảng cách.\n",
    " cosine distance(x, y) = 1 - cosine similarity(ở trên)\n",
    "\n",
    "- Nếu 2 vector trùng hướng → similarity = 1 → distance = 0\n",
    "- nếu vuông góc → similarity = 0 → distance = 1\n",
    "- Nếu ngược hướng → similarity = -1 → distance = 2"
   ]
  },
  {
   "cell_type": "code",
   "execution_count": 23,
   "id": "a1711199-cf40-4eb7-90ab-9ebafd5d8ce6",
   "metadata": {},
   "outputs": [
    {
     "name": "stdout",
     "output_type": "stream",
     "text": [
      "Cosine Distance Between vec_1 and vec_2: [[0.75746437]]\n",
      "\n",
      "Cosine Distance Between vec_1, vec_2 and vec_3:\n",
      " [[0.         0.75746437 0.0298575 ]\n",
      " [0.75746437 0.         1.        ]\n",
      " [0.0298575  1.         0.        ]]\n"
     ]
    }
   ],
   "source": [
    "from sklearn.metrics import pairwise\n",
    "\n",
    "print(\"Cosine Distance Between vec_1 and vec_2:\", pairwise.cosine_distances([vec_1], [vec_2]))\n",
    "\n",
    "print()\n",
    "\n",
    "print(\"Cosine Distance Between vec_1, vec_2 and vec_3:\\n\", pairwise.cosine_distances([vec_1, vec_2, vec_3]))"
   ]
  },
  {
   "cell_type": "markdown",
   "id": "02408b14-b068-4e51-85a7-d7ad7a93bb69",
   "metadata": {},
   "source": [
    "# Angular Distance là góc thực sự giữa 2 vector trong không gian \n",
    "hiểu đơn giản ở trên ta chỉ tính cos chứ ta chưa tính góc\n",
    "còn đây nó là arccos tính luôn góc hco mình\n"
   ]
  },
  {
   "cell_type": "code",
   "execution_count": 24,
   "id": "c1adfc65-4cea-4783-a3f4-c40937cf7425",
   "metadata": {},
   "outputs": [
    {
     "name": "stdout",
     "output_type": "stream",
     "text": [
      "Angular Distance Between vec_1 and vec_2: [[75.96375653]]\n",
      "\n",
      "Angular Distance Between vec_1, vec_2 and vec_3:\n",
      " [[ 0. 76. 14.]\n",
      " [76.  0. 90.]\n",
      " [14. 90.  0.]]\n"
     ]
    }
   ],
   "source": [
    "from sklearn.metrics import pairwise\n",
    "\n",
    "cos_sim = pairwise.cosine_similarity([vec_1], [vec_2])\n",
    "print(\"Angular Distance Between vec_1 and vec_2:\", np.degrees(np.arccos(cos_sim)) )\n",
    "\n",
    "print()\n",
    "\n",
    "cos_sim = pairwise.cosine_similarity([vec_1, vec_2, vec_3])\n",
    "print(\"Angular Distance Between vec_1, vec_2 and vec_3:\\n\", np.round(np.degrees(np.arccos(cos_sim))) )"
   ]
  },
  {
   "cell_type": "markdown",
   "id": "ad15e26c-a4eb-4ec4-bb9c-d67c33592c8a",
   "metadata": {},
   "source": [
    "# Dot Product là tích vô hương là kiểu a.b = Ai.Bi + .... \n",
    "\n",
    "a.b = |a|.|b|.cos0 nếu 0 = 0 đọ thì max 90 độ thì bằng 0 còn 180 thì âm"
   ]
  },
  {
   "cell_type": "code",
   "execution_count": 26,
   "id": "448a111b-e579-404f-bde0-368ad9c82610",
   "metadata": {},
   "outputs": [
    {
     "name": "stdout",
     "output_type": "stream",
     "text": [
      "Dot Product :  1.5\n",
      "Dot Product: [[1.5]]\n"
     ]
    }
   ],
   "source": [
    "# Way 1 # sử dụng công thức\n",
    "print(\"Dot Product : \" , np.dot(vec_1, vec_2))\n",
    "# Computing magnitude of vec_1\n",
    "mag_vec_1 = np.linalg.norm(vec_1)\n",
    "\n",
    "# Computing magnitude of vec_2\n",
    "mag_vec_2 = np.linalg.norm(vec_2)\n",
    "\n",
    "# Computing cos theta between vec_1 and vec_2\n",
    "cos_sim = pairwise.cosine_similarity([vec_1], [vec_2])\n",
    "\n",
    "print(\"Dot Product:\", mag_vec_1 * mag_vec_2 * cos_sim)\n"
   ]
  },
  {
   "cell_type": "code",
   "execution_count": 27,
   "id": "5ee70d1c-ae23-480d-9af6-cbd263706add",
   "metadata": {},
   "outputs": [
    {
     "name": "stdout",
     "output_type": "stream",
     "text": [
      "Dot Product: 1.5\n",
      "Dot Product: [[1.5]]\n"
     ]
    }
   ],
   "source": [
    "# Way 2 # sử dụng khoảng cách euclidean\n",
    "\n",
    "print(\"Dot Product:\", np.dot(vec_1, vec_2))\n",
    "\n",
    "# Computing magnitude of vec_1\n",
    "mag_vec_1 = pairwise.euclidean_distances([[0, 0]], [vec_1])\n",
    "\n",
    "# Computing magnitude of vec_2\n",
    "mag_vec_2 = pairwise.euclidean_distances([[0, 0]], [vec_2])\n",
    "\n",
    "# Computing cos theta between vec_1 and vec_2\n",
    "cos_sim = pairwise.cosine_similarity([vec_1], [vec_2])\n",
    "\n",
    "print(\"Dot Product:\", mag_vec_1 * mag_vec_2 * cos_sim)"
   ]
  },
  {
   "cell_type": "markdown",
   "id": "b816de4c-40e4-4f16-86d7-2ad15a1c2958",
   "metadata": {},
   "source": [
    "# Matrix algebra Operations \n",
    "Matrix algebra operatios play a crucial role in ML, as they form the foundation for many algorithm and techniques. Here are some key operations\n",
    "\n",
    "1. Addition and Subtraction\n",
    "2. Scalar Multiplication\n",
    "3. Transpose\n",
    "4. Matrix Multiplication\n",
    "5. Inverse\n",
    "6. Matrix Factorization\n",
    "7. Eigenvalues and Eigenvectore"
   ]
  },
  {
   "cell_type": "markdown",
   "id": "074179ae-b941-4c90-86f0-15f566f65414",
   "metadata": {},
   "source": [
    "# Matrix Multiplication(Dot Product)"
   ]
  },
  {
   "cell_type": "code",
   "execution_count": 29,
   "id": "d56f6c20-85de-4872-96c3-baf660a6f704",
   "metadata": {},
   "outputs": [
    {
     "name": "stdout",
     "output_type": "stream",
     "text": [
      "Matrix Multiplication (A dot B):\n",
      " [[19 22]\n",
      " [43 50]]\n",
      "Matrix Multiplication (A dot B):\n",
      " [[19 22]\n",
      " [43 50]]\n"
     ]
    }
   ],
   "source": [
    "import numpy as np\n",
    "\n",
    "# Example matrices\n",
    "A = np.array([[1, 2], [3, 4]])  # Shape: 2x2\n",
    "B = np.array([[5, 6], [7, 8]])  # Shape: 2x2\n",
    "\n",
    "# Way 1 -Matrix multiplication\n",
    "C = np.dot(A, B)\n",
    "print(\"Matrix Multiplication (A dot B):\\n\", C)\n",
    "\n",
    "# Way 2 - Matrix multiplication\n",
    "D = np.matmul(A, B)\n",
    "print(\"Matrix Multiplication (A dot B):\\n\", D)"
   ]
  },
  {
   "cell_type": "markdown",
   "id": "73c73551-921c-43c2-bfad-d92652c7e6fc",
   "metadata": {},
   "source": [
    "# Matrix Inverse ( ma trận chuyển vị nhân với nhau  = 1 ấy)\n",
    "\n",
    "## Important Note \n",
    "However, not all matrics have inverses, In order for inverse to exits for a matrix, a matrix must be:\n",
    "\n",
    "- Square\n",
    "- non_singulare không phải là hình ảnh\n",
    "- "
   ]
  },
  {
   "cell_type": "code",
   "execution_count": 31,
   "id": "dd5d010d-6903-41aa-95bf-f30c1911d96f",
   "metadata": {},
   "outputs": [
    {
     "name": "stdout",
     "output_type": "stream",
     "text": [
      "determinant: -2.0000000000000004\n",
      "[[1 2]\n",
      " [3 4]]\n",
      "[[-2.   1. ]\n",
      " [ 1.5 -0.5]]\n"
     ]
    }
   ],
   "source": [
    "import numpy as np\n",
    "# example matrix\n",
    "\n",
    "A = np.array([[1, 2], [3, 4]])\n",
    "\n",
    "print(\"determinant:\", np.linalg.det(A)) #định thức\n",
    "\n",
    "A_inv = np.linalg.inv(A)\n",
    "\n",
    "print(A)\n",
    "print(A_inv) # Inverse("
   ]
  },
  {
   "cell_type": "code",
   "execution_count": null,
   "id": "b81a32e4-3bfd-4d61-95c3-b153f2e4934e",
   "metadata": {},
   "outputs": [],
   "source": []
  }
 ],
 "metadata": {
  "kernelspec": {
   "display_name": "Python [conda env:base] *",
   "language": "python",
   "name": "conda-base-py"
  },
  "language_info": {
   "codemirror_mode": {
    "name": "ipython",
    "version": 3
   },
   "file_extension": ".py",
   "mimetype": "text/x-python",
   "name": "python",
   "nbconvert_exporter": "python",
   "pygments_lexer": "ipython3",
   "version": "3.12.7"
  }
 },
 "nbformat": 4,
 "nbformat_minor": 5
}
