{
 "cells": [
  {
   "cell_type": "markdown",
   "id": "55dbebdd-7a6a-4e58-860f-4a943a88cd5a",
   "metadata": {},
   "source": [
    "# Application Programming InterFace(API)"
   ]
  },
  {
   "cell_type": "markdown",
   "id": "d0e542a1-25ec-4836-ad34-5bb6259af91c",
   "metadata": {},
   "source": [
    "## API definition\n",
    "- Application program interfaces or APIS, are commonly used to retrieve data from remote websites\n",
    "- to use an API, you make a request to a remote web server, and retrieve the data you need\n",
    "- "
   ]
  },
  {
   "cell_type": "markdown",
   "id": "01a077a1-b7e5-4449-9acc-ef5b14888009",
   "metadata": {},
   "source": [
    "## Why use API\n",
    "- Quickly changing data\n",
    "\n",
    "- in case you want a small piece of a much larger dataset .EG-twiter"
   ]
  },
  {
   "cell_type": "markdown",
   "id": "c69cf5be-5456-4e73-851a-2eabf8d48795",
   "metadata": {},
   "source": [
    "## Commuication Protocols\n",
    "- FTP (File Transfer Protocol): Chuyển file qua mạng.\n",
    "- SFTP (Secure File Transfer Protocol): Phiên bản bảo mật của FTP.\n",
    "- SMTP (Simple Mail Transfer Protocol): Gửi email.\n",
    "- HTTP (Hyper Text Transfer Protocol): Giao thức phổ biến cho web API.\n",
    "- HTTPS (Secure HTTP): Phiên bản bảo mật của HTTP (mã hóa SSL/TLS)."
   ]
  },
  {
   "cell_type": "markdown",
   "id": "c093ffce-a6bc-4337-97bb-1500d90ce7b3",
   "metadata": {},
   "source": [
    "## HTTP Request Methods\n",
    "- POST - Create\n",
    "- GET - Read\n",
    "- PUT - UPdate\n",
    "- Delete - delete\n"
   ]
  },
  {
   "cell_type": "markdown",
   "id": "c0174735-03a4-49df-9cf1-bc9c8a33dfc8",
   "metadata": {},
   "source": [
    "## API Request\n",
    "- in order to get the data, we make a HTTP request to a webserver\n",
    "- the server then replies with our data\n",
    "- in PYthon, we'll use the request module to do this\n",
    "- there are many different types of requests\n",
    "- the most commonly used one, a GET requests, is used to retrieve data\n",
    "- "
   ]
  },
  {
   "cell_type": "markdown",
   "id": "d035c5e8-5088-488f-83db-8268f5edd4a6",
   "metadata": {},
   "source": [
    "## How do you send a request to open Google Home page?\n",
    "- step1 - open browser\n",
    "- step2 -  Type Google.com in the URL section\n",
    "- enter\n",
    "- "
   ]
  },
  {
   "cell_type": "code",
   "execution_count": 4,
   "id": "a98b9386-eac8-4eed-ba3c-7c237050405c",
   "metadata": {},
   "outputs": [],
   "source": [
    "# import requests\n",
    "# URL = \"google.com\"\n",
    "\n",
    "# response = requests.get(URL)\n"
   ]
  },
  {
   "cell_type": "code",
   "execution_count": 2,
   "id": "d72c3c4b-369f-4fba-9f42-4639e4bdfde9",
   "metadata": {},
   "outputs": [],
   "source": [
    "# Response - Status Code\n",
    "\n",
    "# 1xx - Info\n",
    "# 2xx - Success\n",
    "# 3xx - Redirection\n",
    "# 4xx - Client Error\n",
    "# 5xx - Server Error"
   ]
  },
  {
   "cell_type": "markdown",
   "id": "6c402677-aaa6-4f4c-9a08-f96a1e9f3999",
   "metadata": {},
   "source": [
    "# Request and response from GG web server\n"
   ]
  },
  {
   "cell_type": "code",
   "execution_count": 6,
   "id": "96038fb8-3057-4d8a-bd45-9b08dba574cd",
   "metadata": {},
   "outputs": [
    {
     "name": "stdout",
     "output_type": "stream",
     "text": [
      "<Response [200]>\n",
      "{'Content-Type': 'text/html; charset=ISO-8859-1', 'Content-Security-Policy': \"object-src 'none';base-uri 'self';script-src 'nonce-APMpk5MTP_r-E_NNiIAALg' 'strict-dynamic' 'report-sample' 'unsafe-eval' 'unsafe-inline' https: http:;report-uri https://csp.withgoogle.com/csp/gws/xsrp\", 'Accept-CH': 'Sec-CH-Prefers-Color-Scheme', 'P3P': 'CP=\"This is not a P3P policy! See g.co/p3phelp for more info.\"', 'Content-Encoding': 'gzip', 'Date': 'Mon, 04 Aug 2025 11:14:16 GMT', 'Server': 'gws', 'X-XSS-Protection': '0', 'X-Frame-Options': 'SAMEORIGIN', 'Expires': 'Mon, 04 Aug 2025 11:14:16 GMT', 'Cache-Control': 'private', 'Set-Cookie': 'AEC=AVh_V2jgEfVMdHTW-OI3mGN3qQHgsgK0HNb74_-pR4b6FwS72I5pOwEC5-o; expires=Sat, 31-Jan-2026 11:14:16 GMT; path=/; domain=.google.com; Secure; HttpOnly; SameSite=lax, NID=525=FMZm8JJzMuzf8Ry2m8xBAnBqmo-25ms3bzrB9dwgga40qzGdk9FQewAevDM4r4GfbRfXw2WKjYsrn09COSvmDN1vRbSmFdFqJx4qVRiC7Oj5uYbJwoSYvItLFTjj75gDxOXz6GpvNMdCEJ-AkmeW8mFP77NNPycBw9K6JvI68wVdDbCON-G2sCUuEk8PPEQnSwi1t8GJcgYiQgk; expires=Tue, 03-Feb-2026 11:14:16 GMT; path=/; domain=.google.com; HttpOnly', 'Alt-Svc': 'h3=\":443\"; ma=2592000,h3-29=\":443\"; ma=2592000', 'Transfer-Encoding': 'chunked'}\n"
     ]
    }
   ],
   "source": [
    "import requests\n",
    "response = requests.get(\"https://google.com/search?q=thataiguy\")\n",
    "\n",
    "print(response)\n",
    "print(response.headers)"
   ]
  },
  {
   "cell_type": "code",
   "execution_count": 7,
   "id": "3922cdc1-6d7a-4bba-bc8d-2f1e9c1b3257",
   "metadata": {},
   "outputs": [
    {
     "name": "stdout",
     "output_type": "stream",
     "text": [
      "https://www.google.com/search?q=thataiguy\n"
     ]
    }
   ],
   "source": [
    "print(response.url)"
   ]
  },
  {
   "cell_type": "code",
   "execution_count": 8,
   "id": "8cf6af5d-30c9-4ee0-a333-e6a96d6538b7",
   "metadata": {},
   "outputs": [
    {
     "name": "stdout",
     "output_type": "stream",
     "text": [
      "200\n"
     ]
    }
   ],
   "source": [
    "print(response.status_code)"
   ]
  },
  {
   "cell_type": "code",
   "execution_count": 9,
   "id": "5e91cb56-d76e-44e0-b497-71eaecfa8b61",
   "metadata": {},
   "outputs": [
    {
     "name": "stdout",
     "output_type": "stream",
     "text": [
      "ISO-8859-1\n"
     ]
    }
   ],
   "source": [
    "print(response.encoding)"
   ]
  },
  {
   "cell_type": "code",
   "execution_count": 10,
   "id": "a617917e-e0c6-4146-a650-2b0f4fcc9af2",
   "metadata": {},
   "outputs": [
    {
     "name": "stdout",
     "output_type": "stream",
     "text": [
      "text/html; charset=ISO-8859-1\n"
     ]
    }
   ],
   "source": [
    "# check the response content type\n",
    "print(response.headers[\"Content-Type\"])"
   ]
  },
  {
   "cell_type": "code",
   "execution_count": 12,
   "id": "e763928a-a7d0-4d04-9de8-cf03aa63546d",
   "metadata": {},
   "outputs": [
    {
     "name": "stdout",
     "output_type": "stream",
     "text": [
      "<!DOCTYPE html><html lang=\"vi\"><head><title>Google Search</title><style>body{background-color:#fff}<\n",
      "b'<!DOCTYPE html><html lang=\"vi\"><head><title>Google Search</title><style>body{background-color:#fff}<'\n"
     ]
    }
   ],
   "source": [
    "# text response Content\n",
    "print(response.text[0:100]) # trả vể kí tự từ 0 đến 99\n",
    "print(response.content[:100])"
   ]
  },
  {
   "cell_type": "markdown",
   "id": "587609e6-537e-44b3-9747-f37018cffda6",
   "metadata": {},
   "source": [
    "# Status Code \n",
    "# 1xx – Informational (Thông tin)\n",
    "# 2xx – Success (Thành công)\n",
    "# 3xx – Redirection (Chuyển hướng)\n",
    "# 4xx – Client Error (Lỗi từ phía client)\n",
    "# 5xx – Server Error (Lỗi từ phía serve)\n",
    "- 100 Continue : máy chủ đã nhận phần đầu của yeu cầu, tiếp tục gửi phần còn lại\n",
    "- 101 Switching Protocols -  chuyển đổi giao thức theo yêu cầu của client(ví dụ từ HTTP sang WebSocket)\n",
    "- 200 OK : thành công, trả về dữ liệu (thường dùng nhất)\n",
    "- 201 Created : đã tạo tài nguyên mới thành công (Ví dụ Post tạo user mới)\n",
    "- 204 No Content : Thành công nhưng không có dữ liệu trả về(ví dụ xóa tài nguyên)\n",
    "- 301 Moved Permanently - URL được chuuyeern hẳn sang địa chỉ mới\n",
    "- 302 Found : URL tạm thời chuyển hươngs\n",
    "- 304 Not Modified - Dữ liệu chưa thay đổi , dùng dữ liệu Cache\n",
    "- 400 Bad Request : yêu cầu k hợp lệ (thiếu tham số, JSON sai Format)\n",
    "- 401 Unauthorized :  chưa xác thực hoặc token sai\n",
    "- 403 Forbidden: đã xác thực nhưng kc ó quyền truy cập\n",
    "- 404 NOT FOund: không tìm thấy tài nguyên\n",
    "- 500 internal server Erroe - lỗi chungc ủa server\n",
    "- 502 Bad GateWay - GateWay nhận phản hồi lỗi từ upstream server\n",
    "- 503 Service Unavailable - dịch vụ đang bảo trì hoặc đang quá tải\n",
    "- 504 Gateway Timeour P: hết thời gian chờ từ upstream("
   ]
  },
  {
   "cell_type": "code",
   "execution_count": 14,
   "id": "22f2cbca-4b0c-4573-bfc4-2bcb45ea7644",
   "metadata": {},
   "outputs": [
    {
     "name": "stdout",
     "output_type": "stream",
     "text": [
      "404\n"
     ]
    }
   ],
   "source": [
    "# try the endpoiint\n",
    "response = requests.get(\"https://google.com/abcd\")\n",
    "print(response.status_code)\n",
    "# NOT FOUND"
   ]
  },
  {
   "cell_type": "code",
   "execution_count": 15,
   "id": "5a4fa61d-af3c-4701-a6ca-d14816a03fe9",
   "metadata": {},
   "outputs": [
    {
     "name": "stdout",
     "output_type": "stream",
     "text": [
      "200\n"
     ]
    }
   ],
   "source": [
    "\n",
    "response = requests.get(\"https://google.com/search\")\n",
    "\n",
    "print(response.status_code)\n",
    "# OK\n"
   ]
  },
  {
   "cell_type": "markdown",
   "id": "350bf6ef-2b06-4561-8c45-bf53fa57a6bd",
   "metadata": {},
   "source": [
    "# Query Parameters giúp mình tìm kiếm dữ liệu nhanh hơn đỡ phải vào server chính"
   ]
  },
  {
   "cell_type": "code",
   "execution_count": 16,
   "id": "54dd9b91-c1ac-40b5-9bfa-da906751ee91",
   "metadata": {},
   "outputs": [
    {
     "name": "stdout",
     "output_type": "stream",
     "text": [
      "200\n"
     ]
    }
   ],
   "source": [
    "parameters = {\"q\": \"Kanav Bansal\"}\n",
    "\n",
    "# Request with query parameter\n",
    "response = requests.get(\"https://google.com/search\", params=parameters)\n",
    "\n",
    "print(response.status_code)"
   ]
  },
  {
   "cell_type": "markdown",
   "id": "84964eda-f03c-4de3-b894-dd1b70b5485a",
   "metadata": {},
   "source": [
    "# Request và response khi gọi International Space Station (Iss) API\n",
    "- http://api.open-notify.org/iss-now.json\n",
    "- mục đích trả về vị trí hiện tại của trạm vũ trụ ISS"
   ]
  },
  {
   "cell_type": "code",
   "execution_count": 17,
   "id": "f1f937dc-387a-4648-955c-95dff2c1a0cc",
   "metadata": {},
   "outputs": [
    {
     "name": "stdout",
     "output_type": "stream",
     "text": [
      "{'Server': 'nginx/1.10.3', 'Date': 'Mon, 04 Aug 2025 11:34:17 GMT', 'Content-Type': 'application/json', 'Content-Length': '112', 'Connection': 'keep-alive', 'access-control-allow-origin': '*'}\n"
     ]
    }
   ],
   "source": [
    "response = requests.get(\"http://api.open-notify.org/iss-now.json\")\n",
    "print(response.headers)"
   ]
  },
  {
   "cell_type": "code",
   "execution_count": 18,
   "id": "943d3465-3103-4c9e-a6b7-ebf4433225ed",
   "metadata": {},
   "outputs": [
    {
     "name": "stdout",
     "output_type": "stream",
     "text": [
      "application/json\n"
     ]
    }
   ],
   "source": [
    "# Check the response content type\n",
    "\n",
    "print(response.headers['Content-Type'])"
   ]
  },
  {
   "cell_type": "code",
   "execution_count": 19,
   "id": "2cfe248d-08ec-4971-9aea-f9fe10e8abcf",
   "metadata": {},
   "outputs": [
    {
     "name": "stdout",
     "output_type": "stream",
     "text": [
      "http://api.open-notify.org/iss-now.json\n"
     ]
    }
   ],
   "source": [
    "# Check the response URL\n",
    "\n",
    "print(response.url)"
   ]
  },
  {
   "cell_type": "code",
   "execution_count": 20,
   "id": "196fadd0-b0fa-434f-ad77-fde79eecc44b",
   "metadata": {},
   "outputs": [
    {
     "name": "stdout",
     "output_type": "stream",
     "text": [
      "200\n"
     ]
    }
   ],
   "source": [
    "# Check the status code of the response\n",
    "\n",
    "print(response.status_code)\n"
   ]
  },
  {
   "cell_type": "code",
   "execution_count": 21,
   "id": "97e53d58-ae7b-44f1-8540-9ccd468269ba",
   "metadata": {},
   "outputs": [
    {
     "name": "stdout",
     "output_type": "stream",
     "text": [
      "utf-8\n"
     ]
    }
   ],
   "source": [
    "# Check the response encoding\n",
    "\n",
    "print(response.encoding)"
   ]
  },
  {
   "cell_type": "code",
   "execution_count": 22,
   "id": "f82968d7-094f-4486-a77c-d4e357a9b1d9",
   "metadata": {},
   "outputs": [
    {
     "name": "stdout",
     "output_type": "stream",
     "text": [
      "{\"message\": \"success\", \"timestamp\": 1754307257, \"iss_position\": {\"latitude\": \"2.4667\", \"longitude\": \"-57.2039\"}}\n"
     ]
    }
   ],
   "source": [
    "# Text Response Content\n",
    "# This is useful if the response body contains text data\n",
    "\n",
    "print(response.text)"
   ]
  },
  {
   "cell_type": "code",
   "execution_count": 23,
   "id": "5ae8706e-e416-4253-8102-f09db1808acb",
   "metadata": {},
   "outputs": [
    {
     "name": "stdout",
     "output_type": "stream",
     "text": [
      "{'message': 'success', 'timestamp': 1754307257, 'iss_position': {'latitude': '2.4667', 'longitude': '-57.2039'}}\n"
     ]
    }
   ],
   "source": [
    "# JSON Response Content\n",
    "# This is useful if the response body contains JSON data\n",
    "\n",
    "print(response.json())"
   ]
  },
  {
   "cell_type": "markdown",
   "id": "eda5f47c-a66a-4e86-9728-947b3e11cda7",
   "metadata": {},
   "source": [
    "# Are there people in Space Right Now?"
   ]
  },
  {
   "cell_type": "code",
   "execution_count": 25,
   "id": "28a5d628-be93-4829-8dee-9dab7798abe2",
   "metadata": {},
   "outputs": [],
   "source": [
    "# /astros.json endpoint\n",
    "\n",
    "# This API returns the current number of people in space.\n",
    "# When known it also returns the names and spacecraft those people are on."
   ]
  },
  {
   "cell_type": "code",
   "execution_count": 29,
   "id": "6e1a1c28-0d8f-4f37-94a0-2dba6922683d",
   "metadata": {},
   "outputs": [
    {
     "name": "stdout",
     "output_type": "stream",
     "text": [
      "application/json\n",
      "{\n",
      "    \"people\": [\n",
      "        {\n",
      "            \"craft\": \"ISS\",\n",
      "            \"name\": \"Oleg Kononenko\"\n",
      "        },\n",
      "        {\n",
      "            \"craft\": \"ISS\",\n",
      "            \"name\": \"Nikolai Chub\"\n",
      "        },\n",
      "        {\n",
      "            \"craft\": \"ISS\",\n",
      "            \"name\": \"Tracy Caldwell Dyson\"\n",
      "        },\n",
      "        {\n",
      "            \"craft\": \"ISS\",\n",
      "            \"name\": \"Matthew Dominick\"\n",
      "        },\n",
      "        {\n",
      "            \"craft\": \"ISS\",\n",
      "            \"name\": \"Michael Barratt\"\n",
      "        },\n",
      "        {\n",
      "            \"craft\": \"ISS\",\n",
      "            \"name\": \"Jeanette Epps\"\n",
      "        },\n",
      "        {\n",
      "            \"craft\": \"ISS\",\n",
      "            \"name\": \"Alexander Grebenkin\"\n",
      "        },\n",
      "        {\n",
      "            \"craft\": \"ISS\",\n",
      "            \"name\": \"Butch Wilmore\"\n",
      "        },\n",
      "        {\n",
      "            \"craft\": \"ISS\",\n",
      "            \"name\": \"Sunita Williams\"\n",
      "        },\n",
      "        {\n",
      "            \"craft\": \"Tiangong\",\n",
      "            \"name\": \"Li Guangsu\"\n",
      "        },\n",
      "        {\n",
      "            \"craft\": \"Tiangong\",\n",
      "            \"name\": \"Li Cong\"\n",
      "        },\n",
      "        {\n",
      "            \"craft\": \"Tiangong\",\n",
      "            \"name\": \"Ye Guangfu\"\n",
      "        }\n",
      "    ],\n",
      "    \"number\": 12,\n",
      "    \"message\": \"success\"\n",
      "}\n"
     ]
    }
   ],
   "source": [
    "response = requests.get(\"http://api.open-notify.org/astros.json\")\n",
    "\n",
    "print(response.headers[\"Content-Type\"])\n",
    "# Get the response data as a python object. Verify that it's a dictionary.\n",
    "data = response.json()\n",
    "\n",
    "print(json.dumps(data,indent = 4))\n"
   ]
  },
  {
   "cell_type": "code",
   "execution_count": 27,
   "id": "b3766a7c-3a25-4e97-a6df-289d5d371dae",
   "metadata": {},
   "outputs": [
    {
     "name": "stdout",
     "output_type": "stream",
     "text": [
      "{'Server': 'nginx/1.10.3', 'Date': 'Mon, 04 Aug 2025 11:36:18 GMT', 'Content-Type': 'application/json', 'Content-Length': '587', 'Connection': 'keep-alive', 'access-control-allow-origin': '*'}\n"
     ]
    }
   ],
   "source": [
    "print(response.headers)"
   ]
  },
  {
   "cell_type": "code",
   "execution_count": 28,
   "id": "66765762-0209-4404-9a34-23a7c186fc81",
   "metadata": {},
   "outputs": [
    {
     "name": "stdout",
     "output_type": "stream",
     "text": [
      "{\n",
      "    \"people\": [\n",
      "        {\n",
      "            \"craft\": \"ISS\",\n",
      "            \"name\": \"Oleg Kononenko\"\n",
      "        },\n",
      "        {\n",
      "            \"craft\": \"ISS\",\n",
      "            \"name\": \"Nikolai Chub\"\n",
      "        },\n",
      "        {\n",
      "            \"craft\": \"ISS\",\n",
      "            \"name\": \"Tracy Caldwell Dyson\"\n",
      "        },\n",
      "        {\n",
      "            \"craft\": \"ISS\",\n",
      "            \"name\": \"Matthew Dominick\"\n",
      "        },\n",
      "        {\n",
      "            \"craft\": \"ISS\",\n",
      "            \"name\": \"Michael Barratt\"\n",
      "        },\n",
      "        {\n",
      "            \"craft\": \"ISS\",\n",
      "            \"name\": \"Jeanette Epps\"\n",
      "        },\n",
      "        {\n",
      "            \"craft\": \"ISS\",\n",
      "            \"name\": \"Alexander Grebenkin\"\n",
      "        },\n",
      "        {\n",
      "            \"craft\": \"ISS\",\n",
      "            \"name\": \"Butch Wilmore\"\n",
      "        },\n",
      "        {\n",
      "            \"craft\": \"ISS\",\n",
      "            \"name\": \"Sunita Williams\"\n",
      "        },\n",
      "        {\n",
      "            \"craft\": \"Tiangong\",\n",
      "            \"name\": \"Li Guangsu\"\n",
      "        },\n",
      "        {\n",
      "            \"craft\": \"Tiangong\",\n",
      "            \"name\": \"Li Cong\"\n",
      "        },\n",
      "        {\n",
      "            \"craft\": \"Tiangong\",\n",
      "            \"name\": \"Ye Guangfu\"\n",
      "        }\n",
      "    ],\n",
      "    \"number\": 12,\n",
      "    \"message\": \"success\"\n",
      "}\n"
     ]
    }
   ],
   "source": [
    "# Get the response data as a python object. Verify that it's a dictionary.\n",
    "data = response.json()\n",
    "\n",
    "print(json.dumps(data,indent = 4))\n"
   ]
  },
  {
   "cell_type": "code",
   "execution_count": 30,
   "id": "342c4970-6a3e-4fdb-8c97-4ae0e3ad1463",
   "metadata": {},
   "outputs": [
    {
     "data": {
      "text/plain": [
       "{'people': [{'craft': 'ISS', 'name': 'Oleg Kononenko'},\n",
       "  {'craft': 'ISS', 'name': 'Nikolai Chub'},\n",
       "  {'craft': 'ISS', 'name': 'Tracy Caldwell Dyson'},\n",
       "  {'craft': 'ISS', 'name': 'Matthew Dominick'},\n",
       "  {'craft': 'ISS', 'name': 'Michael Barratt'},\n",
       "  {'craft': 'ISS', 'name': 'Jeanette Epps'},\n",
       "  {'craft': 'ISS', 'name': 'Alexander Grebenkin'},\n",
       "  {'craft': 'ISS', 'name': 'Butch Wilmore'},\n",
       "  {'craft': 'ISS', 'name': 'Sunita Williams'},\n",
       "  {'craft': 'Tiangong', 'name': 'Li Guangsu'},\n",
       "  {'craft': 'Tiangong', 'name': 'Li Cong'},\n",
       "  {'craft': 'Tiangong', 'name': 'Ye Guangfu'}],\n",
       " 'number': 12,\n",
       " 'message': 'success'}"
      ]
     },
     "execution_count": 30,
     "metadata": {},
     "output_type": "execute_result"
    }
   ],
   "source": [
    "data"
   ]
  },
  {
   "cell_type": "code",
   "execution_count": 31,
   "id": "69719ba3-bb8d-4215-ad66-2769d2823548",
   "metadata": {},
   "outputs": [
    {
     "data": {
      "text/plain": [
       "dict_keys(['people', 'number', 'message'])"
      ]
     },
     "execution_count": 31,
     "metadata": {},
     "output_type": "execute_result"
    }
   ],
   "source": [
    "data.keys()"
   ]
  },
  {
   "cell_type": "code",
   "execution_count": 32,
   "id": "051b2413-1f19-43a9-8152-28b6a781991f",
   "metadata": {},
   "outputs": [
    {
     "name": "stdout",
     "output_type": "stream",
     "text": [
      "12\n"
     ]
    }
   ],
   "source": [
    "print(data['number'])"
   ]
  },
  {
   "cell_type": "code",
   "execution_count": 33,
   "id": "c8d6610b-b3e8-4afd-9257-ac44bb4178b4",
   "metadata": {},
   "outputs": [
    {
     "name": "stdout",
     "output_type": "stream",
     "text": [
      "[{'craft': 'ISS', 'name': 'Oleg Kononenko'}, {'craft': 'ISS', 'name': 'Nikolai Chub'}, {'craft': 'ISS', 'name': 'Tracy Caldwell Dyson'}, {'craft': 'ISS', 'name': 'Matthew Dominick'}, {'craft': 'ISS', 'name': 'Michael Barratt'}, {'craft': 'ISS', 'name': 'Jeanette Epps'}, {'craft': 'ISS', 'name': 'Alexander Grebenkin'}, {'craft': 'ISS', 'name': 'Butch Wilmore'}, {'craft': 'ISS', 'name': 'Sunita Williams'}, {'craft': 'Tiangong', 'name': 'Li Guangsu'}, {'craft': 'Tiangong', 'name': 'Li Cong'}, {'craft': 'Tiangong', 'name': 'Ye Guangfu'}]\n"
     ]
    }
   ],
   "source": [
    "print(data[\"people\"])"
   ]
  },
  {
   "cell_type": "code",
   "execution_count": 34,
   "id": "a5e5648f-ab03-41f6-a5bf-d55cb6ae68b5",
   "metadata": {},
   "outputs": [
    {
     "name": "stdout",
     "output_type": "stream",
     "text": [
      "Oleg Kononenko\n",
      "Nikolai Chub\n",
      "Tracy Caldwell Dyson\n",
      "Matthew Dominick\n",
      "Michael Barratt\n",
      "Jeanette Epps\n",
      "Alexander Grebenkin\n",
      "Butch Wilmore\n",
      "Sunita Williams\n",
      "Li Guangsu\n",
      "Li Cong\n",
      "Ye Guangfu\n"
     ]
    }
   ],
   "source": [
    "people_in_space = data[\"people\"]\n",
    "\n",
    "for astronaut in people_in_space:\n",
    "    print(astronaut['name'])\n",
    "# name of people"
   ]
  },
  {
   "cell_type": "markdown",
   "id": "1cc78cd3-7286-4f0d-af98-71e55b05f6d1",
   "metadata": {},
   "source": [
    "# Converting the JSON data from API to DataFrame\n"
   ]
  },
  {
   "cell_type": "code",
   "execution_count": 35,
   "id": "cf0422bb-8973-4283-b712-00554405e181",
   "metadata": {},
   "outputs": [],
   "source": [
    "import requests\n",
    "import pandas as pd"
   ]
  },
  {
   "cell_type": "code",
   "execution_count": 36,
   "id": "f44f7f78-e5f2-41a8-beb8-d0f7ec7ab606",
   "metadata": {},
   "outputs": [
    {
     "data": {
      "text/html": [
       "<div>\n",
       "<style scoped>\n",
       "    .dataframe tbody tr th:only-of-type {\n",
       "        vertical-align: middle;\n",
       "    }\n",
       "\n",
       "    .dataframe tbody tr th {\n",
       "        vertical-align: top;\n",
       "    }\n",
       "\n",
       "    .dataframe thead th {\n",
       "        text-align: right;\n",
       "    }\n",
       "</style>\n",
       "<table border=\"1\" class=\"dataframe\">\n",
       "  <thead>\n",
       "    <tr style=\"text-align: right;\">\n",
       "      <th></th>\n",
       "      <th>people</th>\n",
       "      <th>number</th>\n",
       "      <th>message</th>\n",
       "    </tr>\n",
       "  </thead>\n",
       "  <tbody>\n",
       "    <tr>\n",
       "      <th>0</th>\n",
       "      <td>{'craft': 'ISS', 'name': 'Oleg Kononenko'}</td>\n",
       "      <td>12</td>\n",
       "      <td>success</td>\n",
       "    </tr>\n",
       "    <tr>\n",
       "      <th>1</th>\n",
       "      <td>{'craft': 'ISS', 'name': 'Nikolai Chub'}</td>\n",
       "      <td>12</td>\n",
       "      <td>success</td>\n",
       "    </tr>\n",
       "    <tr>\n",
       "      <th>2</th>\n",
       "      <td>{'craft': 'ISS', 'name': 'Tracy Caldwell Dyson'}</td>\n",
       "      <td>12</td>\n",
       "      <td>success</td>\n",
       "    </tr>\n",
       "    <tr>\n",
       "      <th>3</th>\n",
       "      <td>{'craft': 'ISS', 'name': 'Matthew Dominick'}</td>\n",
       "      <td>12</td>\n",
       "      <td>success</td>\n",
       "    </tr>\n",
       "    <tr>\n",
       "      <th>4</th>\n",
       "      <td>{'craft': 'ISS', 'name': 'Michael Barratt'}</td>\n",
       "      <td>12</td>\n",
       "      <td>success</td>\n",
       "    </tr>\n",
       "    <tr>\n",
       "      <th>5</th>\n",
       "      <td>{'craft': 'ISS', 'name': 'Jeanette Epps'}</td>\n",
       "      <td>12</td>\n",
       "      <td>success</td>\n",
       "    </tr>\n",
       "    <tr>\n",
       "      <th>6</th>\n",
       "      <td>{'craft': 'ISS', 'name': 'Alexander Grebenkin'}</td>\n",
       "      <td>12</td>\n",
       "      <td>success</td>\n",
       "    </tr>\n",
       "    <tr>\n",
       "      <th>7</th>\n",
       "      <td>{'craft': 'ISS', 'name': 'Butch Wilmore'}</td>\n",
       "      <td>12</td>\n",
       "      <td>success</td>\n",
       "    </tr>\n",
       "    <tr>\n",
       "      <th>8</th>\n",
       "      <td>{'craft': 'ISS', 'name': 'Sunita Williams'}</td>\n",
       "      <td>12</td>\n",
       "      <td>success</td>\n",
       "    </tr>\n",
       "    <tr>\n",
       "      <th>9</th>\n",
       "      <td>{'craft': 'Tiangong', 'name': 'Li Guangsu'}</td>\n",
       "      <td>12</td>\n",
       "      <td>success</td>\n",
       "    </tr>\n",
       "    <tr>\n",
       "      <th>10</th>\n",
       "      <td>{'craft': 'Tiangong', 'name': 'Li Cong'}</td>\n",
       "      <td>12</td>\n",
       "      <td>success</td>\n",
       "    </tr>\n",
       "    <tr>\n",
       "      <th>11</th>\n",
       "      <td>{'craft': 'Tiangong', 'name': 'Ye Guangfu'}</td>\n",
       "      <td>12</td>\n",
       "      <td>success</td>\n",
       "    </tr>\n",
       "  </tbody>\n",
       "</table>\n",
       "</div>"
      ],
      "text/plain": [
       "                                              people  number  message\n",
       "0         {'craft': 'ISS', 'name': 'Oleg Kononenko'}      12  success\n",
       "1           {'craft': 'ISS', 'name': 'Nikolai Chub'}      12  success\n",
       "2   {'craft': 'ISS', 'name': 'Tracy Caldwell Dyson'}      12  success\n",
       "3       {'craft': 'ISS', 'name': 'Matthew Dominick'}      12  success\n",
       "4        {'craft': 'ISS', 'name': 'Michael Barratt'}      12  success\n",
       "5          {'craft': 'ISS', 'name': 'Jeanette Epps'}      12  success\n",
       "6    {'craft': 'ISS', 'name': 'Alexander Grebenkin'}      12  success\n",
       "7          {'craft': 'ISS', 'name': 'Butch Wilmore'}      12  success\n",
       "8        {'craft': 'ISS', 'name': 'Sunita Williams'}      12  success\n",
       "9        {'craft': 'Tiangong', 'name': 'Li Guangsu'}      12  success\n",
       "10          {'craft': 'Tiangong', 'name': 'Li Cong'}      12  success\n",
       "11       {'craft': 'Tiangong', 'name': 'Ye Guangfu'}      12  success"
      ]
     },
     "execution_count": 36,
     "metadata": {},
     "output_type": "execute_result"
    }
   ],
   "source": [
    "# Way 1\n",
    "\n",
    "# Using \"requests\" library make a HTTP request to \"/astros.json\" endpoint\n",
    "response = requests.get(\"http://api.open-notify.org/astros.json\")\n",
    "\n",
    "# Retrieve the data from the \"response\"\n",
    "data = response.json()\n",
    "\n",
    "# Push data to dataframe\n",
    "df = pd.DataFrame(data)\n",
    "\n",
    "df"
   ]
  },
  {
   "cell_type": "code",
   "execution_count": 37,
   "id": "5fa97dbb-d14a-48a1-9284-684300cabafe",
   "metadata": {},
   "outputs": [
    {
     "data": {
      "text/html": [
       "<div>\n",
       "<style scoped>\n",
       "    .dataframe tbody tr th:only-of-type {\n",
       "        vertical-align: middle;\n",
       "    }\n",
       "\n",
       "    .dataframe tbody tr th {\n",
       "        vertical-align: top;\n",
       "    }\n",
       "\n",
       "    .dataframe thead th {\n",
       "        text-align: right;\n",
       "    }\n",
       "</style>\n",
       "<table border=\"1\" class=\"dataframe\">\n",
       "  <thead>\n",
       "    <tr style=\"text-align: right;\">\n",
       "      <th></th>\n",
       "      <th>craft</th>\n",
       "      <th>name</th>\n",
       "    </tr>\n",
       "  </thead>\n",
       "  <tbody>\n",
       "    <tr>\n",
       "      <th>0</th>\n",
       "      <td>ISS</td>\n",
       "      <td>Oleg Kononenko</td>\n",
       "    </tr>\n",
       "    <tr>\n",
       "      <th>1</th>\n",
       "      <td>ISS</td>\n",
       "      <td>Nikolai Chub</td>\n",
       "    </tr>\n",
       "    <tr>\n",
       "      <th>2</th>\n",
       "      <td>ISS</td>\n",
       "      <td>Tracy Caldwell Dyson</td>\n",
       "    </tr>\n",
       "    <tr>\n",
       "      <th>3</th>\n",
       "      <td>ISS</td>\n",
       "      <td>Matthew Dominick</td>\n",
       "    </tr>\n",
       "    <tr>\n",
       "      <th>4</th>\n",
       "      <td>ISS</td>\n",
       "      <td>Michael Barratt</td>\n",
       "    </tr>\n",
       "    <tr>\n",
       "      <th>5</th>\n",
       "      <td>ISS</td>\n",
       "      <td>Jeanette Epps</td>\n",
       "    </tr>\n",
       "    <tr>\n",
       "      <th>6</th>\n",
       "      <td>ISS</td>\n",
       "      <td>Alexander Grebenkin</td>\n",
       "    </tr>\n",
       "    <tr>\n",
       "      <th>7</th>\n",
       "      <td>ISS</td>\n",
       "      <td>Butch Wilmore</td>\n",
       "    </tr>\n",
       "    <tr>\n",
       "      <th>8</th>\n",
       "      <td>ISS</td>\n",
       "      <td>Sunita Williams</td>\n",
       "    </tr>\n",
       "    <tr>\n",
       "      <th>9</th>\n",
       "      <td>Tiangong</td>\n",
       "      <td>Li Guangsu</td>\n",
       "    </tr>\n",
       "    <tr>\n",
       "      <th>10</th>\n",
       "      <td>Tiangong</td>\n",
       "      <td>Li Cong</td>\n",
       "    </tr>\n",
       "    <tr>\n",
       "      <th>11</th>\n",
       "      <td>Tiangong</td>\n",
       "      <td>Ye Guangfu</td>\n",
       "    </tr>\n",
       "  </tbody>\n",
       "</table>\n",
       "</div>"
      ],
      "text/plain": [
       "       craft                  name\n",
       "0        ISS        Oleg Kononenko\n",
       "1        ISS          Nikolai Chub\n",
       "2        ISS  Tracy Caldwell Dyson\n",
       "3        ISS      Matthew Dominick\n",
       "4        ISS       Michael Barratt\n",
       "5        ISS         Jeanette Epps\n",
       "6        ISS   Alexander Grebenkin\n",
       "7        ISS         Butch Wilmore\n",
       "8        ISS       Sunita Williams\n",
       "9   Tiangong            Li Guangsu\n",
       "10  Tiangong               Li Cong\n",
       "11  Tiangong            Ye Guangfu"
      ]
     },
     "execution_count": 37,
     "metadata": {},
     "output_type": "execute_result"
    }
   ],
   "source": [
    "astronaut = pd.DataFrame(data['people'])\n",
    "astronaut"
   ]
  },
  {
   "cell_type": "markdown",
   "id": "73f5f18d-1887-4af4-bbc7-f0cbf6511e75",
   "metadata": {},
   "source": [
    "## Way2 - Using pd.json_normalizze()"
   ]
  },
  {
   "cell_type": "code",
   "execution_count": 38,
   "id": "1f50c52f-63ae-49d2-ae36-70362fc93b79",
   "metadata": {},
   "outputs": [
    {
     "data": {
      "text/html": [
       "<div>\n",
       "<style scoped>\n",
       "    .dataframe tbody tr th:only-of-type {\n",
       "        vertical-align: middle;\n",
       "    }\n",
       "\n",
       "    .dataframe tbody tr th {\n",
       "        vertical-align: top;\n",
       "    }\n",
       "\n",
       "    .dataframe thead th {\n",
       "        text-align: right;\n",
       "    }\n",
       "</style>\n",
       "<table border=\"1\" class=\"dataframe\">\n",
       "  <thead>\n",
       "    <tr style=\"text-align: right;\">\n",
       "      <th></th>\n",
       "      <th>people</th>\n",
       "      <th>number</th>\n",
       "      <th>message</th>\n",
       "    </tr>\n",
       "  </thead>\n",
       "  <tbody>\n",
       "    <tr>\n",
       "      <th>0</th>\n",
       "      <td>[{'craft': 'ISS', 'name': 'Oleg Kononenko'}, {...</td>\n",
       "      <td>12</td>\n",
       "      <td>success</td>\n",
       "    </tr>\n",
       "  </tbody>\n",
       "</table>\n",
       "</div>"
      ],
      "text/plain": [
       "                                              people  number  message\n",
       "0  [{'craft': 'ISS', 'name': 'Oleg Kononenko'}, {...      12  success"
      ]
     },
     "execution_count": 38,
     "metadata": {},
     "output_type": "execute_result"
    }
   ],
   "source": [
    "# Way 2\n",
    "\n",
    "# Using \"requests\" library make a HTTP request to \"/astros.json\" endpoint\n",
    "response = requests.get(\"http://api.open-notify.org/astros.json\")\n",
    "\n",
    "# Retrieve the data from the \"response\"\n",
    "data = response.json()\n",
    "\n",
    "# Use \"json_normalize()\" to normalize JSON data into flat table\n",
    "df = pd.json_normalize(data)\n",
    "\n",
    "df"
   ]
  },
  {
   "cell_type": "code",
   "execution_count": 40,
   "id": "a2035c08-b442-48f6-98e4-f9b581d39b0b",
   "metadata": {},
   "outputs": [
    {
     "data": {
      "text/html": [
       "<div>\n",
       "<style scoped>\n",
       "    .dataframe tbody tr th:only-of-type {\n",
       "        vertical-align: middle;\n",
       "    }\n",
       "\n",
       "    .dataframe tbody tr th {\n",
       "        vertical-align: top;\n",
       "    }\n",
       "\n",
       "    .dataframe thead th {\n",
       "        text-align: right;\n",
       "    }\n",
       "</style>\n",
       "<table border=\"1\" class=\"dataframe\">\n",
       "  <thead>\n",
       "    <tr style=\"text-align: right;\">\n",
       "      <th></th>\n",
       "      <th>craft</th>\n",
       "      <th>name</th>\n",
       "      <th>number</th>\n",
       "      <th>message</th>\n",
       "    </tr>\n",
       "  </thead>\n",
       "  <tbody>\n",
       "    <tr>\n",
       "      <th>0</th>\n",
       "      <td>ISS</td>\n",
       "      <td>Oleg Kononenko</td>\n",
       "      <td>12</td>\n",
       "      <td>success</td>\n",
       "    </tr>\n",
       "    <tr>\n",
       "      <th>1</th>\n",
       "      <td>ISS</td>\n",
       "      <td>Nikolai Chub</td>\n",
       "      <td>12</td>\n",
       "      <td>success</td>\n",
       "    </tr>\n",
       "    <tr>\n",
       "      <th>2</th>\n",
       "      <td>ISS</td>\n",
       "      <td>Tracy Caldwell Dyson</td>\n",
       "      <td>12</td>\n",
       "      <td>success</td>\n",
       "    </tr>\n",
       "    <tr>\n",
       "      <th>3</th>\n",
       "      <td>ISS</td>\n",
       "      <td>Matthew Dominick</td>\n",
       "      <td>12</td>\n",
       "      <td>success</td>\n",
       "    </tr>\n",
       "    <tr>\n",
       "      <th>4</th>\n",
       "      <td>ISS</td>\n",
       "      <td>Michael Barratt</td>\n",
       "      <td>12</td>\n",
       "      <td>success</td>\n",
       "    </tr>\n",
       "    <tr>\n",
       "      <th>5</th>\n",
       "      <td>ISS</td>\n",
       "      <td>Jeanette Epps</td>\n",
       "      <td>12</td>\n",
       "      <td>success</td>\n",
       "    </tr>\n",
       "    <tr>\n",
       "      <th>6</th>\n",
       "      <td>ISS</td>\n",
       "      <td>Alexander Grebenkin</td>\n",
       "      <td>12</td>\n",
       "      <td>success</td>\n",
       "    </tr>\n",
       "    <tr>\n",
       "      <th>7</th>\n",
       "      <td>ISS</td>\n",
       "      <td>Butch Wilmore</td>\n",
       "      <td>12</td>\n",
       "      <td>success</td>\n",
       "    </tr>\n",
       "    <tr>\n",
       "      <th>8</th>\n",
       "      <td>ISS</td>\n",
       "      <td>Sunita Williams</td>\n",
       "      <td>12</td>\n",
       "      <td>success</td>\n",
       "    </tr>\n",
       "    <tr>\n",
       "      <th>9</th>\n",
       "      <td>Tiangong</td>\n",
       "      <td>Li Guangsu</td>\n",
       "      <td>12</td>\n",
       "      <td>success</td>\n",
       "    </tr>\n",
       "    <tr>\n",
       "      <th>10</th>\n",
       "      <td>Tiangong</td>\n",
       "      <td>Li Cong</td>\n",
       "      <td>12</td>\n",
       "      <td>success</td>\n",
       "    </tr>\n",
       "    <tr>\n",
       "      <th>11</th>\n",
       "      <td>Tiangong</td>\n",
       "      <td>Ye Guangfu</td>\n",
       "      <td>12</td>\n",
       "      <td>success</td>\n",
       "    </tr>\n",
       "  </tbody>\n",
       "</table>\n",
       "</div>"
      ],
      "text/plain": [
       "       craft                  name number  message\n",
       "0        ISS        Oleg Kononenko     12  success\n",
       "1        ISS          Nikolai Chub     12  success\n",
       "2        ISS  Tracy Caldwell Dyson     12  success\n",
       "3        ISS      Matthew Dominick     12  success\n",
       "4        ISS       Michael Barratt     12  success\n",
       "5        ISS         Jeanette Epps     12  success\n",
       "6        ISS   Alexander Grebenkin     12  success\n",
       "7        ISS         Butch Wilmore     12  success\n",
       "8        ISS       Sunita Williams     12  success\n",
       "9   Tiangong            Li Guangsu     12  success\n",
       "10  Tiangong               Li Cong     12  success\n",
       "11  Tiangong            Ye Guangfu     12  success"
      ]
     },
     "execution_count": 40,
     "metadata": {},
     "output_type": "execute_result"
    }
   ],
   "source": [
    "# # This is not the expected outcome\n",
    "# # Fixing way 2\n",
    "\n",
    "# Using \"requests\" library make a HTTP request to \"/astros.json\" endpoint\n",
    "response = requests.get(\"http://api.open-notify.org/astros.json\")\n",
    "\n",
    "# Retrieve the data from the \"response\"\n",
    "data = response.json()\n",
    "\n",
    "# Convert JSON data to DataFrame\n",
    "astronauts = pd.json_normalize(data, record_path=['people'], meta = ['number', 'message'])\n",
    "\n",
    "astronauts"
   ]
  },
  {
   "cell_type": "markdown",
   "id": "13824452-6ed1-4465-8768-05d9a593b53f",
   "metadata": {},
   "source": [
    "## Way 3"
   ]
  },
  {
   "cell_type": "code",
   "execution_count": 41,
   "id": "2d71d586-fd2b-42da-a5ee-2a8af2e3cf85",
   "metadata": {},
   "outputs": [
    {
     "data": {
      "text/html": [
       "<div>\n",
       "<style scoped>\n",
       "    .dataframe tbody tr th:only-of-type {\n",
       "        vertical-align: middle;\n",
       "    }\n",
       "\n",
       "    .dataframe tbody tr th {\n",
       "        vertical-align: top;\n",
       "    }\n",
       "\n",
       "    .dataframe thead th {\n",
       "        text-align: right;\n",
       "    }\n",
       "</style>\n",
       "<table border=\"1\" class=\"dataframe\">\n",
       "  <thead>\n",
       "    <tr style=\"text-align: right;\">\n",
       "      <th></th>\n",
       "      <th>people</th>\n",
       "      <th>number</th>\n",
       "      <th>message</th>\n",
       "    </tr>\n",
       "  </thead>\n",
       "  <tbody>\n",
       "    <tr>\n",
       "      <th>0</th>\n",
       "      <td>{'craft': 'ISS', 'name': 'Oleg Kononenko'}</td>\n",
       "      <td>12</td>\n",
       "      <td>success</td>\n",
       "    </tr>\n",
       "    <tr>\n",
       "      <th>1</th>\n",
       "      <td>{'craft': 'ISS', 'name': 'Nikolai Chub'}</td>\n",
       "      <td>12</td>\n",
       "      <td>success</td>\n",
       "    </tr>\n",
       "    <tr>\n",
       "      <th>2</th>\n",
       "      <td>{'craft': 'ISS', 'name': 'Tracy Caldwell Dyson'}</td>\n",
       "      <td>12</td>\n",
       "      <td>success</td>\n",
       "    </tr>\n",
       "    <tr>\n",
       "      <th>3</th>\n",
       "      <td>{'craft': 'ISS', 'name': 'Matthew Dominick'}</td>\n",
       "      <td>12</td>\n",
       "      <td>success</td>\n",
       "    </tr>\n",
       "    <tr>\n",
       "      <th>4</th>\n",
       "      <td>{'craft': 'ISS', 'name': 'Michael Barratt'}</td>\n",
       "      <td>12</td>\n",
       "      <td>success</td>\n",
       "    </tr>\n",
       "    <tr>\n",
       "      <th>5</th>\n",
       "      <td>{'craft': 'ISS', 'name': 'Jeanette Epps'}</td>\n",
       "      <td>12</td>\n",
       "      <td>success</td>\n",
       "    </tr>\n",
       "    <tr>\n",
       "      <th>6</th>\n",
       "      <td>{'craft': 'ISS', 'name': 'Alexander Grebenkin'}</td>\n",
       "      <td>12</td>\n",
       "      <td>success</td>\n",
       "    </tr>\n",
       "    <tr>\n",
       "      <th>7</th>\n",
       "      <td>{'craft': 'ISS', 'name': 'Butch Wilmore'}</td>\n",
       "      <td>12</td>\n",
       "      <td>success</td>\n",
       "    </tr>\n",
       "    <tr>\n",
       "      <th>8</th>\n",
       "      <td>{'craft': 'ISS', 'name': 'Sunita Williams'}</td>\n",
       "      <td>12</td>\n",
       "      <td>success</td>\n",
       "    </tr>\n",
       "    <tr>\n",
       "      <th>9</th>\n",
       "      <td>{'craft': 'Tiangong', 'name': 'Li Guangsu'}</td>\n",
       "      <td>12</td>\n",
       "      <td>success</td>\n",
       "    </tr>\n",
       "    <tr>\n",
       "      <th>10</th>\n",
       "      <td>{'craft': 'Tiangong', 'name': 'Li Cong'}</td>\n",
       "      <td>12</td>\n",
       "      <td>success</td>\n",
       "    </tr>\n",
       "    <tr>\n",
       "      <th>11</th>\n",
       "      <td>{'craft': 'Tiangong', 'name': 'Ye Guangfu'}</td>\n",
       "      <td>12</td>\n",
       "      <td>success</td>\n",
       "    </tr>\n",
       "  </tbody>\n",
       "</table>\n",
       "</div>"
      ],
      "text/plain": [
       "                                              people  number  message\n",
       "0         {'craft': 'ISS', 'name': 'Oleg Kononenko'}      12  success\n",
       "1           {'craft': 'ISS', 'name': 'Nikolai Chub'}      12  success\n",
       "2   {'craft': 'ISS', 'name': 'Tracy Caldwell Dyson'}      12  success\n",
       "3       {'craft': 'ISS', 'name': 'Matthew Dominick'}      12  success\n",
       "4        {'craft': 'ISS', 'name': 'Michael Barratt'}      12  success\n",
       "5          {'craft': 'ISS', 'name': 'Jeanette Epps'}      12  success\n",
       "6    {'craft': 'ISS', 'name': 'Alexander Grebenkin'}      12  success\n",
       "7          {'craft': 'ISS', 'name': 'Butch Wilmore'}      12  success\n",
       "8        {'craft': 'ISS', 'name': 'Sunita Williams'}      12  success\n",
       "9        {'craft': 'Tiangong', 'name': 'Li Guangsu'}      12  success\n",
       "10          {'craft': 'Tiangong', 'name': 'Li Cong'}      12  success\n",
       "11       {'craft': 'Tiangong', 'name': 'Ye Guangfu'}      12  success"
      ]
     },
     "execution_count": 41,
     "metadata": {},
     "output_type": "execute_result"
    }
   ],
   "source": [
    "# Way 3\n",
    "\n",
    "df = pd.read_json(\"http://api.open-notify.org/astros.json\")\n",
    "\n",
    "df"
   ]
  },
  {
   "cell_type": "code",
   "execution_count": 42,
   "id": "ccecabb5-c011-46d3-a676-17111f94e4b6",
   "metadata": {},
   "outputs": [
    {
     "data": {
      "text/html": [
       "<div>\n",
       "<style scoped>\n",
       "    .dataframe tbody tr th:only-of-type {\n",
       "        vertical-align: middle;\n",
       "    }\n",
       "\n",
       "    .dataframe tbody tr th {\n",
       "        vertical-align: top;\n",
       "    }\n",
       "\n",
       "    .dataframe thead th {\n",
       "        text-align: right;\n",
       "    }\n",
       "</style>\n",
       "<table border=\"1\" class=\"dataframe\">\n",
       "  <thead>\n",
       "    <tr style=\"text-align: right;\">\n",
       "      <th></th>\n",
       "      <th>craft</th>\n",
       "      <th>name</th>\n",
       "    </tr>\n",
       "  </thead>\n",
       "  <tbody>\n",
       "    <tr>\n",
       "      <th>0</th>\n",
       "      <td>ISS</td>\n",
       "      <td>Oleg Kononenko</td>\n",
       "    </tr>\n",
       "    <tr>\n",
       "      <th>1</th>\n",
       "      <td>ISS</td>\n",
       "      <td>Nikolai Chub</td>\n",
       "    </tr>\n",
       "    <tr>\n",
       "      <th>2</th>\n",
       "      <td>ISS</td>\n",
       "      <td>Tracy Caldwell Dyson</td>\n",
       "    </tr>\n",
       "    <tr>\n",
       "      <th>3</th>\n",
       "      <td>ISS</td>\n",
       "      <td>Matthew Dominick</td>\n",
       "    </tr>\n",
       "    <tr>\n",
       "      <th>4</th>\n",
       "      <td>ISS</td>\n",
       "      <td>Michael Barratt</td>\n",
       "    </tr>\n",
       "    <tr>\n",
       "      <th>5</th>\n",
       "      <td>ISS</td>\n",
       "      <td>Jeanette Epps</td>\n",
       "    </tr>\n",
       "    <tr>\n",
       "      <th>6</th>\n",
       "      <td>ISS</td>\n",
       "      <td>Alexander Grebenkin</td>\n",
       "    </tr>\n",
       "    <tr>\n",
       "      <th>7</th>\n",
       "      <td>ISS</td>\n",
       "      <td>Butch Wilmore</td>\n",
       "    </tr>\n",
       "    <tr>\n",
       "      <th>8</th>\n",
       "      <td>ISS</td>\n",
       "      <td>Sunita Williams</td>\n",
       "    </tr>\n",
       "    <tr>\n",
       "      <th>9</th>\n",
       "      <td>Tiangong</td>\n",
       "      <td>Li Guangsu</td>\n",
       "    </tr>\n",
       "    <tr>\n",
       "      <th>10</th>\n",
       "      <td>Tiangong</td>\n",
       "      <td>Li Cong</td>\n",
       "    </tr>\n",
       "    <tr>\n",
       "      <th>11</th>\n",
       "      <td>Tiangong</td>\n",
       "      <td>Ye Guangfu</td>\n",
       "    </tr>\n",
       "  </tbody>\n",
       "</table>\n",
       "</div>"
      ],
      "text/plain": [
       "       craft                  name\n",
       "0        ISS        Oleg Kononenko\n",
       "1        ISS          Nikolai Chub\n",
       "2        ISS  Tracy Caldwell Dyson\n",
       "3        ISS      Matthew Dominick\n",
       "4        ISS       Michael Barratt\n",
       "5        ISS         Jeanette Epps\n",
       "6        ISS   Alexander Grebenkin\n",
       "7        ISS         Butch Wilmore\n",
       "8        ISS       Sunita Williams\n",
       "9   Tiangong            Li Guangsu\n",
       "10  Tiangong               Li Cong\n",
       "11  Tiangong            Ye Guangfu"
      ]
     },
     "execution_count": 42,
     "metadata": {},
     "output_type": "execute_result"
    }
   ],
   "source": [
    "# We don't need message and number column. We want two columns with Person Name and Craft. \n",
    "# Fixing way 3\n",
    "\n",
    "# Convert JSON data to DataFrame\n",
    "astronauts = pd.json_normalize(df['people'])\n",
    "\n",
    "astronauts"
   ]
  },
  {
   "cell_type": "markdown",
   "id": "198fa967-2bef-4c4d-9eb8-ea53b4eb8115",
   "metadata": {},
   "source": [
    "## Working with JSON\n",
    "- Converting Python Objects to JSON and vice versa using dumps() and loads()\n",
    "- Saving the data to JSON Files and vice versa using dump and load()\n",
    "- "
   ]
  },
  {
   "cell_type": "code",
   "execution_count": 1,
   "id": "502e4558-7cd3-4353-95b6-37046db5619e",
   "metadata": {},
   "outputs": [
    {
     "name": "stdout",
     "output_type": "stream",
     "text": [
      "<class 'list'>\n",
      "['Shaktiman', 'Krish', 'Flying Jatt', 'Bhavesh Joshi']\n"
     ]
    }
   ],
   "source": [
    "import json\n",
    "\n",
    "# make a list\n",
    "sup_hero = ['Shaktiman', 'Krish', 'Flying Jatt', 'Bhavesh Joshi']\n",
    "# Checking the type of \"sup_hero\"\n",
    "print(type(sup_hero)) \n",
    "\n",
    "print(sup_hero)"
   ]
  },
  {
   "cell_type": "code",
   "execution_count": 2,
   "id": "499357e8-670c-43d6-94a1-92490dc3da68",
   "metadata": {},
   "outputs": [
    {
     "name": "stdout",
     "output_type": "stream",
     "text": [
      "<class 'str'>\n",
      "[\"Shaktiman\", \"Krish\", \"Flying Jatt\", \"Bhavesh Joshi\"]\n"
     ]
    }
   ],
   "source": [
    "# Use json.dumps() to convert \"sup_hero\" to a string\n",
    "\n",
    "sup_hero_str = json.dumps(sup_hero)\n",
    "\n",
    "print(type(sup_hero_str))\n",
    "print(sup_hero_str)"
   ]
  },
  {
   "cell_type": "code",
   "execution_count": 4,
   "id": "ddd1b859-0f18-4f41-b9d7-29d6f14759c7",
   "metadata": {},
   "outputs": [
    {
     "name": "stdout",
     "output_type": "stream",
     "text": [
      "<class 'list'>\n",
      "['Shaktiman', 'Krish', 'Flying Jatt', 'Bhavesh Joshi']\n"
     ]
    }
   ],
   "source": [
    "sup_hero_lst = json.loads(sup_hero_str)\n",
    "\n",
    "print(type(sup_hero_lst))\n",
    "print(sup_hero_lst)\n",
    "# khi sử dụng loads ddeer đọc JSON String thì nó trả về list\n"
   ]
  },
  {
   "cell_type": "markdown",
   "id": "b2b23b53-a716-446c-a20f-af08f5e50002",
   "metadata": {},
   "source": [
    "### Dumps() and Loads() on Python Dictionary"
   ]
  },
  {
   "cell_type": "code",
   "execution_count": 5,
   "id": "905eafe0-0b12-4063-8de0-b8229c4b80f8",
   "metadata": {},
   "outputs": [
    {
     "name": "stdout",
     "output_type": "stream",
     "text": [
      "<class 'dict'>\n",
      "{'Subway': 24722, 'McDonalds': 14098, 'Starbucks': 10821, 'Pizza Hut': 7600}\n"
     ]
    }
   ],
   "source": [
    "# Make a dictionary\n",
    "fast_food_franchise = {\n",
    "    \"Subway\": 24722,\n",
    "    \"McDonalds\": 14098,\n",
    "    \"Starbucks\": 10821,\n",
    "    \"Pizza Hut\": 7600\n",
    "}\n",
    "\n",
    "print(type(fast_food_franchise))\n",
    "\n",
    "print(fast_food_franchise)"
   ]
  },
  {
   "cell_type": "code",
   "execution_count": 7,
   "id": "1a200166-d978-4e72-b62d-6902bc6b1b9c",
   "metadata": {},
   "outputs": [
    {
     "name": "stdout",
     "output_type": "stream",
     "text": [
      "<class 'str'>\n",
      "{\"Subway\": 24722, \"McDonalds\": 14098, \"Starbucks\": 10821, \"Pizza Hut\": 7600}\n"
     ]
    }
   ],
   "source": [
    "# we can also dump a dictionary to a string and load it\n",
    "\n",
    "fast_food_franchise_str = json.dumps(fast_food_franchise)\n",
    "\n",
    "print(type(fast_food_franchise_str))\n",
    "\n",
    "print(fast_food_franchise_str)"
   ]
  },
  {
   "cell_type": "code",
   "execution_count": 8,
   "id": "63651f73-a6c2-4821-bb82-519224122884",
   "metadata": {},
   "outputs": [
    {
     "name": "stdout",
     "output_type": "stream",
     "text": [
      "<class 'dict'>\n",
      "{'Subway': 24722, 'McDonalds': 14098, 'Starbucks': 10821, 'Pizza Hut': 7600}\n"
     ]
    }
   ],
   "source": [
    "fast_food_franchise_lst = json.loads(fast_food_franchise_str)\n",
    "\n",
    "print(type(fast_food_franchise_lst))\n",
    "\n",
    "print(fast_food_franchise_lst)\n",
    "\n",
    "# khi đọc dict thì nó sẽ trả về dict "
   ]
  },
  {
   "cell_type": "markdown",
   "id": "577f4b8e-afe6-453d-b8ba-042922e45d1f",
   "metadata": {},
   "source": [
    "### dumps() and loads() on Python tuple()\n"
   ]
  },
  {
   "cell_type": "code",
   "execution_count": 9,
   "id": "76f30390-14ca-4c4a-8090-3ed71898540f",
   "metadata": {},
   "outputs": [
    {
     "name": "stdout",
     "output_type": "stream",
     "text": [
      "<class 'tuple'>\n",
      "('Kanav', 'Bansal', 'Data Science')\n"
     ]
    }
   ],
   "source": [
    "tup = ('Kanav', \"Bansal\", \"Data Science\")\n",
    "\n",
    "print(type(tup))\n",
    "\n",
    "print(tup)"
   ]
  },
  {
   "cell_type": "code",
   "execution_count": 10,
   "id": "3c5e8cd0-5b04-4381-87b5-fc95d627ffa9",
   "metadata": {},
   "outputs": [
    {
     "name": "stdout",
     "output_type": "stream",
     "text": [
      "<class 'str'>\n",
      "[\"Kanav\", \"Bansal\", \"Data Science\"]\n"
     ]
    }
   ],
   "source": [
    "# convert tuple to string\n",
    "tup_str = json.dumps(tup)\n",
    "\n",
    "print(type(tup_str))\n",
    "print(tup_str)"
   ]
  },
  {
   "cell_type": "code",
   "execution_count": 11,
   "id": "9dc5b6bf-461f-4641-afbf-c097375e26a4",
   "metadata": {},
   "outputs": [
    {
     "name": "stdout",
     "output_type": "stream",
     "text": [
      "<class 'list'>\n",
      "['Kanav', 'Bansal', 'Data Science']\n"
     ]
    }
   ],
   "source": [
    "tup_lst = json.loads(tup_str)\n",
    "\n",
    "print(type(tup_lst))\n",
    "\n",
    "print(tup_lst)\n",
    "# Remeber loads() function converts JSON string to Python String, List or Dictionary"
   ]
  },
  {
   "cell_type": "code",
   "execution_count": 12,
   "id": "9e76a4d3-952e-490b-89d2-8791ee11e0e1",
   "metadata": {},
   "outputs": [],
   "source": [
    "# sử dụng load có thể biến đổi JSON string thành Python string, List or dict"
   ]
  },
  {
   "cell_type": "markdown",
   "id": "46103a8c-7fa7-40a6-911e-b71ab8e96b2a",
   "metadata": {},
   "source": [
    "### Dump() and Load()"
   ]
  },
  {
   "cell_type": "code",
   "execution_count": 13,
   "id": "5b87edb4-d19d-4a1d-ae09-f564839b2601",
   "metadata": {},
   "outputs": [],
   "source": [
    "# json.dump(data, file_object)\n",
    "# json.load(file_object)"
   ]
  },
  {
   "cell_type": "code",
   "execution_count": 15,
   "id": "8ed7af5c-5985-4b13-bd7c-2af0980c832c",
   "metadata": {},
   "outputs": [],
   "source": [
    "with open(\"C:/Users/Admin/OneDrive - ptit.edu.vn/Desktop/File JSON/Web API/fast_food.json\", \"w\") as file:\n",
    "    json.dump(fast_food_franchise, file)"
   ]
  },
  {
   "cell_type": "code",
   "execution_count": 16,
   "id": "352db907-2f20-403b-888b-48ea20737443",
   "metadata": {},
   "outputs": [],
   "source": [
    "with open(\"C:/Users/Admin/OneDrive - ptit.edu.vn/Desktop/File JSON/Web API/sup_hero.json\", \"w\") as file:\n",
    "    json.dump(sup_hero, file)"
   ]
  },
  {
   "cell_type": "code",
   "execution_count": 17,
   "id": "b9cb4cc5-3d29-4cd1-816d-99eb8507c223",
   "metadata": {},
   "outputs": [
    {
     "name": "stdout",
     "output_type": "stream",
     "text": [
      "['Shaktiman', 'Krish', 'Flying Jatt', 'Bhavesh Joshi']\n",
      "<class 'list'>\n"
     ]
    }
   ],
   "source": [
    "with open(\"C:/Users/Admin/OneDrive - ptit.edu.vn/Desktop/File JSON/Web API/sup_hero.json\", \"r\") as file:\n",
    "    data = json.load(file)\n",
    "\n",
    "print(data)\n",
    "print(type(data))"
   ]
  },
  {
   "cell_type": "code",
   "execution_count": null,
   "id": "2ca604ad-ffa5-4ab5-968a-8f2acb690484",
   "metadata": {},
   "outputs": [],
   "source": []
  }
 ],
 "metadata": {
  "kernelspec": {
   "display_name": "Python [conda env:base] *",
   "language": "python",
   "name": "conda-base-py"
  },
  "language_info": {
   "codemirror_mode": {
    "name": "ipython",
    "version": 3
   },
   "file_extension": ".py",
   "mimetype": "text/x-python",
   "name": "python",
   "nbconvert_exporter": "python",
   "pygments_lexer": "ipython3",
   "version": "3.12.7"
  }
 },
 "nbformat": 4,
 "nbformat_minor": 5
}
