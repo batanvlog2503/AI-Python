{
 "cells": [
  {
   "cell_type": "code",
   "execution_count": 2,
   "id": "33fab2c6-4714-43f5-96e1-cab35d37f826",
   "metadata": {},
   "outputs": [],
   "source": [
    "import pandas as pd\n",
    "\n",
    "df = pd.read_csv(\"C:/Users/Admin/OneDrive - ptit.edu.vn/Desktop/online_store_sales.csv\", parse_dates = [\"Order Date\", \"Ship Date\"])"
   ]
  },
  {
   "cell_type": "code",
   "execution_count": 2,
   "id": "fb566366-28fc-4936-b28c-00ac692098b1",
   "metadata": {},
   "outputs": [
    {
     "data": {
      "text/html": [
       "<div>\n",
       "<style scoped>\n",
       "    .dataframe tbody tr th:only-of-type {\n",
       "        vertical-align: middle;\n",
       "    }\n",
       "\n",
       "    .dataframe tbody tr th {\n",
       "        vertical-align: top;\n",
       "    }\n",
       "\n",
       "    .dataframe thead th {\n",
       "        text-align: right;\n",
       "    }\n",
       "</style>\n",
       "<table border=\"1\" class=\"dataframe\">\n",
       "  <thead>\n",
       "    <tr style=\"text-align: right;\">\n",
       "      <th></th>\n",
       "      <th>Order ID</th>\n",
       "      <th>Row ID</th>\n",
       "      <th>Order ID.1</th>\n",
       "      <th>Order Date</th>\n",
       "      <th>Ship Date</th>\n",
       "      <th>Ship Mode</th>\n",
       "      <th>Customer ID</th>\n",
       "      <th>Customer Name</th>\n",
       "      <th>Segment</th>\n",
       "      <th>Country</th>\n",
       "      <th>City</th>\n",
       "      <th>State</th>\n",
       "      <th>Postal Code</th>\n",
       "      <th>Region</th>\n",
       "      <th>Product ID</th>\n",
       "      <th>Category</th>\n",
       "      <th>Sub-Category</th>\n",
       "      <th>Product Name</th>\n",
       "      <th>Sales</th>\n",
       "      <th>Unnamed: 19</th>\n",
       "    </tr>\n",
       "  </thead>\n",
       "  <tbody>\n",
       "    <tr>\n",
       "      <th>0</th>\n",
       "      <td>0</td>\n",
       "      <td>1</td>\n",
       "      <td>CA-2017-152156</td>\n",
       "      <td>8/11/2017</td>\n",
       "      <td>11/11/2017</td>\n",
       "      <td>Second Class</td>\n",
       "      <td>CG-12520</td>\n",
       "      <td>Claire Gute</td>\n",
       "      <td>Consumer</td>\n",
       "      <td>United States</td>\n",
       "      <td>Henderson</td>\n",
       "      <td>Kentucky</td>\n",
       "      <td>42420</td>\n",
       "      <td>South</td>\n",
       "      <td>FUR-BO-10001798</td>\n",
       "      <td>Furniture</td>\n",
       "      <td>Bookcases</td>\n",
       "      <td>Bush Somerset Collection Bookcase</td>\n",
       "      <td>261.9600</td>\n",
       "      <td>NaN</td>\n",
       "    </tr>\n",
       "    <tr>\n",
       "      <th>1</th>\n",
       "      <td>1</td>\n",
       "      <td>2</td>\n",
       "      <td>CA-2017-152156</td>\n",
       "      <td>8/11/2017</td>\n",
       "      <td>11/11/2017</td>\n",
       "      <td>Second Class</td>\n",
       "      <td>CG-12520</td>\n",
       "      <td>Claire Gute</td>\n",
       "      <td>Consumer</td>\n",
       "      <td>United States</td>\n",
       "      <td>Henderson</td>\n",
       "      <td>Kentucky</td>\n",
       "      <td>42420</td>\n",
       "      <td>South</td>\n",
       "      <td>FUR-CH-10000454</td>\n",
       "      <td>Furniture</td>\n",
       "      <td>Chairs</td>\n",
       "      <td>Hon Deluxe Fabric Upholstered Stacking Chairs,...</td>\n",
       "      <td>731.9400</td>\n",
       "      <td>NaN</td>\n",
       "    </tr>\n",
       "    <tr>\n",
       "      <th>2</th>\n",
       "      <td>2</td>\n",
       "      <td>3</td>\n",
       "      <td>CA-2017-138688</td>\n",
       "      <td>12/6/2017</td>\n",
       "      <td>16/06/2017</td>\n",
       "      <td>Second Class</td>\n",
       "      <td>DV-13045</td>\n",
       "      <td>Darrin Van Huff</td>\n",
       "      <td>Corporate</td>\n",
       "      <td>United States</td>\n",
       "      <td>Los Angeles</td>\n",
       "      <td>California</td>\n",
       "      <td>90036</td>\n",
       "      <td>West</td>\n",
       "      <td>OFF-LA-10000240</td>\n",
       "      <td>Office Supplies</td>\n",
       "      <td>Labels</td>\n",
       "      <td>Self-Adhesive Address Labels for Typewriters b...</td>\n",
       "      <td>14.6200</td>\n",
       "      <td>NaN</td>\n",
       "    </tr>\n",
       "    <tr>\n",
       "      <th>3</th>\n",
       "      <td>3</td>\n",
       "      <td>4</td>\n",
       "      <td>US-2016-108966</td>\n",
       "      <td>11/10/2016</td>\n",
       "      <td>18/10/2016</td>\n",
       "      <td>Standard Class</td>\n",
       "      <td>SO-20335</td>\n",
       "      <td>Sean O'Donnell</td>\n",
       "      <td>Consumer</td>\n",
       "      <td>United States</td>\n",
       "      <td>Fort Lauderdale</td>\n",
       "      <td>Florida</td>\n",
       "      <td>33311</td>\n",
       "      <td>South</td>\n",
       "      <td>FUR-TA-10000577</td>\n",
       "      <td>Furniture</td>\n",
       "      <td>Tables</td>\n",
       "      <td>Bretford CR4500 Series Slim Rectangular Table</td>\n",
       "      <td>957.5775</td>\n",
       "      <td>NaN</td>\n",
       "    </tr>\n",
       "    <tr>\n",
       "      <th>4</th>\n",
       "      <td>4</td>\n",
       "      <td>5</td>\n",
       "      <td>US-2016-108966</td>\n",
       "      <td>11/10/2016</td>\n",
       "      <td>18/10/2016</td>\n",
       "      <td>Standard Class</td>\n",
       "      <td>SO-20335</td>\n",
       "      <td>Sean O'Donnell</td>\n",
       "      <td>Consumer</td>\n",
       "      <td>United States</td>\n",
       "      <td>Fort Lauderdale</td>\n",
       "      <td>Florida</td>\n",
       "      <td>33311</td>\n",
       "      <td>South</td>\n",
       "      <td>OFF-ST-10000760</td>\n",
       "      <td>Office Supplies</td>\n",
       "      <td>Storage</td>\n",
       "      <td>Eldon Fold 'N Roll Cart System</td>\n",
       "      <td>22.3680</td>\n",
       "      <td>NaN</td>\n",
       "    </tr>\n",
       "  </tbody>\n",
       "</table>\n",
       "</div>"
      ],
      "text/plain": [
       "   Order ID  Row ID      Order ID.1  Order Date   Ship Date       Ship Mode  \\\n",
       "0         0       1  CA-2017-152156   8/11/2017  11/11/2017    Second Class   \n",
       "1         1       2  CA-2017-152156   8/11/2017  11/11/2017    Second Class   \n",
       "2         2       3  CA-2017-138688   12/6/2017  16/06/2017    Second Class   \n",
       "3         3       4  US-2016-108966  11/10/2016  18/10/2016  Standard Class   \n",
       "4         4       5  US-2016-108966  11/10/2016  18/10/2016  Standard Class   \n",
       "\n",
       "  Customer ID    Customer Name    Segment        Country             City  \\\n",
       "0    CG-12520      Claire Gute   Consumer  United States        Henderson   \n",
       "1    CG-12520      Claire Gute   Consumer  United States        Henderson   \n",
       "2    DV-13045  Darrin Van Huff  Corporate  United States      Los Angeles   \n",
       "3    SO-20335   Sean O'Donnell   Consumer  United States  Fort Lauderdale   \n",
       "4    SO-20335   Sean O'Donnell   Consumer  United States  Fort Lauderdale   \n",
       "\n",
       "        State  Postal Code Region       Product ID         Category  \\\n",
       "0    Kentucky        42420  South  FUR-BO-10001798        Furniture   \n",
       "1    Kentucky        42420  South  FUR-CH-10000454        Furniture   \n",
       "2  California        90036   West  OFF-LA-10000240  Office Supplies   \n",
       "3     Florida        33311  South  FUR-TA-10000577        Furniture   \n",
       "4     Florida        33311  South  OFF-ST-10000760  Office Supplies   \n",
       "\n",
       "  Sub-Category                                       Product Name     Sales  \\\n",
       "0    Bookcases                  Bush Somerset Collection Bookcase  261.9600   \n",
       "1       Chairs  Hon Deluxe Fabric Upholstered Stacking Chairs,...  731.9400   \n",
       "2       Labels  Self-Adhesive Address Labels for Typewriters b...   14.6200   \n",
       "3       Tables      Bretford CR4500 Series Slim Rectangular Table  957.5775   \n",
       "4      Storage                     Eldon Fold 'N Roll Cart System   22.3680   \n",
       "\n",
       "   Unnamed: 19  \n",
       "0          NaN  \n",
       "1          NaN  \n",
       "2          NaN  \n",
       "3          NaN  \n",
       "4          NaN  "
      ]
     },
     "execution_count": 2,
     "metadata": {},
     "output_type": "execute_result"
    }
   ],
   "source": [
    "df.head(5)"
   ]
  },
  {
   "cell_type": "code",
   "execution_count": 7,
   "id": "b2b6bc1b-4133-4006-99a8-86432a2ee233",
   "metadata": {},
   "outputs": [
    {
     "name": "stdout",
     "output_type": "stream",
     "text": [
      "<class 'pandas.core.frame.DataFrame'>\n",
      "RangeIndex: 5 entries, 0 to 4\n",
      "Data columns (total 20 columns):\n",
      " #   Column         Non-Null Count  Dtype         \n",
      "---  ------         --------------  -----         \n",
      " 0   Order ID       5 non-null      int64         \n",
      " 1   Row ID         5 non-null      int64         \n",
      " 2   Order ID.1     5 non-null      object        \n",
      " 3   Order Date     5 non-null      datetime64[ns]\n",
      " 4   Ship Date      5 non-null      object        \n",
      " 5   Ship Mode      5 non-null      object        \n",
      " 6   Customer ID    5 non-null      object        \n",
      " 7   Customer Name  5 non-null      object        \n",
      " 8   Segment        5 non-null      object        \n",
      " 9   Country        5 non-null      object        \n",
      " 10  City           5 non-null      object        \n",
      " 11  State          5 non-null      object        \n",
      " 12  Postal Code    5 non-null      int64         \n",
      " 13  Region         5 non-null      object        \n",
      " 14  Product ID     5 non-null      object        \n",
      " 15  Category       5 non-null      object        \n",
      " 16  Sub-Category   5 non-null      object        \n",
      " 17  Product Name   5 non-null      object        \n",
      " 18  Sales          5 non-null      float64       \n",
      " 19  Unnamed: 19    0 non-null      float64       \n",
      "dtypes: datetime64[ns](1), float64(2), int64(3), object(14)\n",
      "memory usage: 932.0+ bytes\n"
     ]
    }
   ],
   "source": [
    "df.info()"
   ]
  },
  {
   "cell_type": "code",
   "execution_count": 17,
   "id": "c7f86240-d49c-4799-83b7-f89c056b3407",
   "metadata": {},
   "outputs": [
    {
     "name": "stdout",
     "output_type": "stream",
     "text": [
      "datetime64[ns]\n"
     ]
    }
   ],
   "source": [
    "print(df[\"ship_date\"].dtype)\n"
   ]
  },
  {
   "cell_type": "code",
   "execution_count": 11,
   "id": "50e2ce7f-73f8-4fbf-bfa0-5a56eb8dee70",
   "metadata": {},
   "outputs": [
    {
     "data": {
      "text/plain": [
       "Index(['order_id', 'row_id', 'order_id.1', 'order_date', 'ship_date',\n",
       "       'ship_mode', 'customer_id', 'customer_name', 'segment', 'country',\n",
       "       'city', 'state', 'postal_code', 'region', 'product_id', 'category',\n",
       "       'sub_category', 'product_name', 'sales', 'unnamed:_19'],\n",
       "      dtype='object')"
      ]
     },
     "execution_count": 11,
     "metadata": {},
     "output_type": "execute_result"
    }
   ],
   "source": [
    "new_col = [col.strip().lower().replace(\"-\", \"_\").replace(\" \", \"_\") for col in df.columns]\n",
    "df.columns = new_col\n",
    "df.columns"
   ]
  },
  {
   "cell_type": "code",
   "execution_count": 12,
   "id": "49fc67a4-4ea1-4622-b0ea-2a6d3b69e6d2",
   "metadata": {},
   "outputs": [
    {
     "name": "stdout",
     "output_type": "stream",
     "text": [
      "<class 'pandas.core.frame.DataFrame'>\n",
      "RangeIndex: 5 entries, 0 to 4\n",
      "Data columns (total 20 columns):\n",
      " #   Column         Non-Null Count  Dtype         \n",
      "---  ------         --------------  -----         \n",
      " 0   order_id       5 non-null      int64         \n",
      " 1   row_id         5 non-null      int64         \n",
      " 2   order_id.1     5 non-null      object        \n",
      " 3   order_date     5 non-null      datetime64[ns]\n",
      " 4   ship_date      5 non-null      object        \n",
      " 5   ship_mode      5 non-null      object        \n",
      " 6   customer_id    5 non-null      object        \n",
      " 7   customer_name  5 non-null      object        \n",
      " 8   segment        5 non-null      object        \n",
      " 9   country        5 non-null      object        \n",
      " 10  city           5 non-null      object        \n",
      " 11  state          5 non-null      object        \n",
      " 12  postal_code    5 non-null      int64         \n",
      " 13  region         5 non-null      object        \n",
      " 14  product_id     5 non-null      object        \n",
      " 15  category       5 non-null      object        \n",
      " 16  sub_category   5 non-null      object        \n",
      " 17  product_name   5 non-null      object        \n",
      " 18  sales          5 non-null      float64       \n",
      " 19  unnamed:_19    0 non-null      float64       \n",
      "dtypes: datetime64[ns](1), float64(2), int64(3), object(14)\n",
      "memory usage: 932.0+ bytes\n"
     ]
    }
   ],
   "source": [
    "df.info()"
   ]
  },
  {
   "cell_type": "code",
   "execution_count": 14,
   "id": "2a2af6c7-4128-4f2e-9ea6-6a70873a338e",
   "metadata": {},
   "outputs": [],
   "source": [
    "df[\"ship_date\"] = pd.to_datetime(df[\"ship_date\"][0]) # thêm [0]"
   ]
  },
  {
   "cell_type": "code",
   "execution_count": 15,
   "id": "58dda22e-7288-4325-867a-114319f016dd",
   "metadata": {},
   "outputs": [
    {
     "name": "stdout",
     "output_type": "stream",
     "text": [
      "<class 'pandas.core.frame.DataFrame'>\n",
      "RangeIndex: 5 entries, 0 to 4\n",
      "Data columns (total 20 columns):\n",
      " #   Column         Non-Null Count  Dtype         \n",
      "---  ------         --------------  -----         \n",
      " 0   order_id       5 non-null      int64         \n",
      " 1   row_id         5 non-null      int64         \n",
      " 2   order_id.1     5 non-null      object        \n",
      " 3   order_date     5 non-null      datetime64[ns]\n",
      " 4   ship_date      5 non-null      datetime64[ns]\n",
      " 5   ship_mode      5 non-null      object        \n",
      " 6   customer_id    5 non-null      object        \n",
      " 7   customer_name  5 non-null      object        \n",
      " 8   segment        5 non-null      object        \n",
      " 9   country        5 non-null      object        \n",
      " 10  city           5 non-null      object        \n",
      " 11  state          5 non-null      object        \n",
      " 12  postal_code    5 non-null      int64         \n",
      " 13  region         5 non-null      object        \n",
      " 14  product_id     5 non-null      object        \n",
      " 15  category       5 non-null      object        \n",
      " 16  sub_category   5 non-null      object        \n",
      " 17  product_name   5 non-null      object        \n",
      " 18  sales          5 non-null      float64       \n",
      " 19  unnamed:_19    0 non-null      float64       \n",
      "dtypes: datetime64[ns](2), float64(2), int64(3), object(13)\n",
      "memory usage: 932.0+ bytes\n"
     ]
    }
   ],
   "source": [
    "df.info()"
   ]
  },
  {
   "cell_type": "markdown",
   "id": "e89b25e7-6258-4203-8177-5df8f7683864",
   "metadata": {},
   "source": [
    "## Groupby the Data on the basis of Product Category\n"
   ]
  },
  {
   "cell_type": "code",
   "execution_count": 20,
   "id": "12dd31db-06c8-4d88-a67d-e55ae8c3dd54",
   "metadata": {},
   "outputs": [
    {
     "data": {
      "text/plain": [
       "{'Furniture': [0, 1, 3], 'Office Supplies': [2, 4]}"
      ]
     },
     "execution_count": 20,
     "metadata": {},
     "output_type": "execute_result"
    }
   ],
   "source": [
    "group_df = df.groupby(\"category\")\n",
    "group_df.groups"
   ]
  },
  {
   "cell_type": "code",
   "execution_count": 21,
   "id": "76622213-cf84-4b75-9aa2-06a06a27f749",
   "metadata": {},
   "outputs": [],
   "source": [
    "# nó sẽ tạo ra cặp key values\n"
   ]
  },
  {
   "cell_type": "markdown",
   "id": "06838bd8-65e0-4d55-b2e8-f19549a09b70",
   "metadata": {},
   "source": [
    "## Get unique group Keys"
   ]
  },
  {
   "cell_type": "code",
   "execution_count": 23,
   "id": "b0d28546-28df-42fe-8d58-6b50a66b71b0",
   "metadata": {},
   "outputs": [
    {
     "data": {
      "text/plain": [
       "dict_keys(['Furniture', 'Office Supplies'])"
      ]
     },
     "execution_count": 23,
     "metadata": {},
     "output_type": "execute_result"
    }
   ],
   "source": [
    "group_df.groups.keys() # trong chỗ category chỉ có "
   ]
  },
  {
   "cell_type": "code",
   "execution_count": 24,
   "id": "fa75d606-ad07-4b7b-8a8a-d47fefe302ac",
   "metadata": {},
   "outputs": [],
   "source": [
    "# Furniture và Office Supplies"
   ]
  },
  {
   "cell_type": "code",
   "execution_count": 28,
   "id": "0b4adaac-1e42-4292-91fd-5651d90ed75e",
   "metadata": {},
   "outputs": [
    {
     "data": {
      "text/html": [
       "<div>\n",
       "<style scoped>\n",
       "    .dataframe tbody tr th:only-of-type {\n",
       "        vertical-align: middle;\n",
       "    }\n",
       "\n",
       "    .dataframe tbody tr th {\n",
       "        vertical-align: top;\n",
       "    }\n",
       "\n",
       "    .dataframe thead th {\n",
       "        text-align: right;\n",
       "    }\n",
       "</style>\n",
       "<table border=\"1\" class=\"dataframe\">\n",
       "  <thead>\n",
       "    <tr style=\"text-align: right;\">\n",
       "      <th></th>\n",
       "      <th>order_id</th>\n",
       "      <th>row_id</th>\n",
       "      <th>order_id.1</th>\n",
       "      <th>order_date</th>\n",
       "      <th>ship_date</th>\n",
       "      <th>ship_mode</th>\n",
       "      <th>customer_id</th>\n",
       "      <th>customer_name</th>\n",
       "      <th>segment</th>\n",
       "      <th>country</th>\n",
       "      <th>city</th>\n",
       "      <th>state</th>\n",
       "      <th>postal_code</th>\n",
       "      <th>region</th>\n",
       "      <th>product_id</th>\n",
       "      <th>category</th>\n",
       "      <th>sub_category</th>\n",
       "      <th>product_name</th>\n",
       "      <th>sales</th>\n",
       "      <th>unnamed:_19</th>\n",
       "    </tr>\n",
       "  </thead>\n",
       "  <tbody>\n",
       "    <tr>\n",
       "      <th>0</th>\n",
       "      <td>0</td>\n",
       "      <td>1</td>\n",
       "      <td>CA-2017-152156</td>\n",
       "      <td>2017-08-11</td>\n",
       "      <td>2017-11-11</td>\n",
       "      <td>Second Class</td>\n",
       "      <td>CG-12520</td>\n",
       "      <td>Claire Gute</td>\n",
       "      <td>Consumer</td>\n",
       "      <td>United States</td>\n",
       "      <td>Henderson</td>\n",
       "      <td>Kentucky</td>\n",
       "      <td>42420</td>\n",
       "      <td>South</td>\n",
       "      <td>FUR-BO-10001798</td>\n",
       "      <td>Furniture</td>\n",
       "      <td>Bookcases</td>\n",
       "      <td>Bush Somerset Collection Bookcase</td>\n",
       "      <td>261.9600</td>\n",
       "      <td>NaN</td>\n",
       "    </tr>\n",
       "    <tr>\n",
       "      <th>1</th>\n",
       "      <td>1</td>\n",
       "      <td>2</td>\n",
       "      <td>CA-2017-152156</td>\n",
       "      <td>2017-08-11</td>\n",
       "      <td>2017-11-11</td>\n",
       "      <td>Second Class</td>\n",
       "      <td>CG-12520</td>\n",
       "      <td>Claire Gute</td>\n",
       "      <td>Consumer</td>\n",
       "      <td>United States</td>\n",
       "      <td>Henderson</td>\n",
       "      <td>Kentucky</td>\n",
       "      <td>42420</td>\n",
       "      <td>South</td>\n",
       "      <td>FUR-CH-10000454</td>\n",
       "      <td>Furniture</td>\n",
       "      <td>Chairs</td>\n",
       "      <td>Hon Deluxe Fabric Upholstered Stacking Chairs,...</td>\n",
       "      <td>731.9400</td>\n",
       "      <td>NaN</td>\n",
       "    </tr>\n",
       "    <tr>\n",
       "      <th>3</th>\n",
       "      <td>3</td>\n",
       "      <td>4</td>\n",
       "      <td>US-2016-108966</td>\n",
       "      <td>2016-11-10</td>\n",
       "      <td>2017-11-11</td>\n",
       "      <td>Standard Class</td>\n",
       "      <td>SO-20335</td>\n",
       "      <td>Sean O'Donnell</td>\n",
       "      <td>Consumer</td>\n",
       "      <td>United States</td>\n",
       "      <td>Fort Lauderdale</td>\n",
       "      <td>Florida</td>\n",
       "      <td>33311</td>\n",
       "      <td>South</td>\n",
       "      <td>FUR-TA-10000577</td>\n",
       "      <td>Furniture</td>\n",
       "      <td>Tables</td>\n",
       "      <td>Bretford CR4500 Series Slim Rectangular Table</td>\n",
       "      <td>957.5775</td>\n",
       "      <td>NaN</td>\n",
       "    </tr>\n",
       "  </tbody>\n",
       "</table>\n",
       "</div>"
      ],
      "text/plain": [
       "   order_id  row_id      order_id.1 order_date  ship_date       ship_mode  \\\n",
       "0         0       1  CA-2017-152156 2017-08-11 2017-11-11    Second Class   \n",
       "1         1       2  CA-2017-152156 2017-08-11 2017-11-11    Second Class   \n",
       "3         3       4  US-2016-108966 2016-11-10 2017-11-11  Standard Class   \n",
       "\n",
       "  customer_id   customer_name   segment        country             city  \\\n",
       "0    CG-12520     Claire Gute  Consumer  United States        Henderson   \n",
       "1    CG-12520     Claire Gute  Consumer  United States        Henderson   \n",
       "3    SO-20335  Sean O'Donnell  Consumer  United States  Fort Lauderdale   \n",
       "\n",
       "      state  postal_code region       product_id   category sub_category  \\\n",
       "0  Kentucky        42420  South  FUR-BO-10001798  Furniture    Bookcases   \n",
       "1  Kentucky        42420  South  FUR-CH-10000454  Furniture       Chairs   \n",
       "3   Florida        33311  South  FUR-TA-10000577  Furniture       Tables   \n",
       "\n",
       "                                        product_name     sales  unnamed:_19  \n",
       "0                  Bush Somerset Collection Bookcase  261.9600          NaN  \n",
       "1  Hon Deluxe Fabric Upholstered Stacking Chairs,...  731.9400          NaN  \n",
       "3      Bretford CR4500 Series Slim Rectangular Table  957.5775          NaN  "
      ]
     },
     "execution_count": 28,
     "metadata": {},
     "output_type": "execute_result"
    }
   ],
   "source": [
    "# tôi chỉ muons lấy finiture\n",
    "group_df.get_group(\"Furniture\")\n",
    "# nó sẽ gióng df.head() nhưng nó chỉ hiện ra furniture"
   ]
  },
  {
   "cell_type": "code",
   "execution_count": 29,
   "id": "a8db904d-078e-4335-8e6c-17a2cb130c67",
   "metadata": {},
   "outputs": [],
   "source": [
    "# ví dụ tôi có 2 loại là furniture và Office Supplies"
   ]
  },
  {
   "cell_type": "code",
   "execution_count": 30,
   "id": "72cac62e-2d4c-4460-bf1f-58b63a3aa074",
   "metadata": {},
   "outputs": [],
   "source": [
    "# tôi muốn in ra 2 loại đầu tiên của 2 laoij trên\n"
   ]
  },
  {
   "cell_type": "markdown",
   "id": "73e847fe-7310-4171-a5ff-c14836ee2313",
   "metadata": {},
   "source": [
    "## return first row, lastrow and nth row for each group"
   ]
  },
  {
   "cell_type": "code",
   "execution_count": 31,
   "id": "fcf85e49-f682-4fae-8df2-1e21666c2b31",
   "metadata": {},
   "outputs": [
    {
     "data": {
      "text/html": [
       "<div>\n",
       "<style scoped>\n",
       "    .dataframe tbody tr th:only-of-type {\n",
       "        vertical-align: middle;\n",
       "    }\n",
       "\n",
       "    .dataframe tbody tr th {\n",
       "        vertical-align: top;\n",
       "    }\n",
       "\n",
       "    .dataframe thead th {\n",
       "        text-align: right;\n",
       "    }\n",
       "</style>\n",
       "<table border=\"1\" class=\"dataframe\">\n",
       "  <thead>\n",
       "    <tr style=\"text-align: right;\">\n",
       "      <th></th>\n",
       "      <th>order_id</th>\n",
       "      <th>row_id</th>\n",
       "      <th>order_id.1</th>\n",
       "      <th>order_date</th>\n",
       "      <th>ship_date</th>\n",
       "      <th>ship_mode</th>\n",
       "      <th>customer_id</th>\n",
       "      <th>customer_name</th>\n",
       "      <th>segment</th>\n",
       "      <th>country</th>\n",
       "      <th>city</th>\n",
       "      <th>state</th>\n",
       "      <th>postal_code</th>\n",
       "      <th>region</th>\n",
       "      <th>product_id</th>\n",
       "      <th>sub_category</th>\n",
       "      <th>product_name</th>\n",
       "      <th>sales</th>\n",
       "      <th>unnamed:_19</th>\n",
       "    </tr>\n",
       "    <tr>\n",
       "      <th>category</th>\n",
       "      <th></th>\n",
       "      <th></th>\n",
       "      <th></th>\n",
       "      <th></th>\n",
       "      <th></th>\n",
       "      <th></th>\n",
       "      <th></th>\n",
       "      <th></th>\n",
       "      <th></th>\n",
       "      <th></th>\n",
       "      <th></th>\n",
       "      <th></th>\n",
       "      <th></th>\n",
       "      <th></th>\n",
       "      <th></th>\n",
       "      <th></th>\n",
       "      <th></th>\n",
       "      <th></th>\n",
       "      <th></th>\n",
       "    </tr>\n",
       "  </thead>\n",
       "  <tbody>\n",
       "    <tr>\n",
       "      <th>Furniture</th>\n",
       "      <td>0</td>\n",
       "      <td>1</td>\n",
       "      <td>CA-2017-152156</td>\n",
       "      <td>2017-08-11</td>\n",
       "      <td>2017-11-11</td>\n",
       "      <td>Second Class</td>\n",
       "      <td>CG-12520</td>\n",
       "      <td>Claire Gute</td>\n",
       "      <td>Consumer</td>\n",
       "      <td>United States</td>\n",
       "      <td>Henderson</td>\n",
       "      <td>Kentucky</td>\n",
       "      <td>42420</td>\n",
       "      <td>South</td>\n",
       "      <td>FUR-BO-10001798</td>\n",
       "      <td>Bookcases</td>\n",
       "      <td>Bush Somerset Collection Bookcase</td>\n",
       "      <td>261.96</td>\n",
       "      <td>NaN</td>\n",
       "    </tr>\n",
       "    <tr>\n",
       "      <th>Office Supplies</th>\n",
       "      <td>2</td>\n",
       "      <td>3</td>\n",
       "      <td>CA-2017-138688</td>\n",
       "      <td>2017-12-06</td>\n",
       "      <td>2017-11-11</td>\n",
       "      <td>Second Class</td>\n",
       "      <td>DV-13045</td>\n",
       "      <td>Darrin Van Huff</td>\n",
       "      <td>Corporate</td>\n",
       "      <td>United States</td>\n",
       "      <td>Los Angeles</td>\n",
       "      <td>California</td>\n",
       "      <td>90036</td>\n",
       "      <td>West</td>\n",
       "      <td>OFF-LA-10000240</td>\n",
       "      <td>Labels</td>\n",
       "      <td>Self-Adhesive Address Labels for Typewriters b...</td>\n",
       "      <td>14.62</td>\n",
       "      <td>NaN</td>\n",
       "    </tr>\n",
       "  </tbody>\n",
       "</table>\n",
       "</div>"
      ],
      "text/plain": [
       "                 order_id  row_id      order_id.1 order_date  ship_date  \\\n",
       "category                                                                  \n",
       "Furniture               0       1  CA-2017-152156 2017-08-11 2017-11-11   \n",
       "Office Supplies         2       3  CA-2017-138688 2017-12-06 2017-11-11   \n",
       "\n",
       "                    ship_mode customer_id    customer_name    segment  \\\n",
       "category                                                                \n",
       "Furniture        Second Class    CG-12520      Claire Gute   Consumer   \n",
       "Office Supplies  Second Class    DV-13045  Darrin Van Huff  Corporate   \n",
       "\n",
       "                       country         city       state  postal_code region  \\\n",
       "category                                                                      \n",
       "Furniture        United States    Henderson    Kentucky        42420  South   \n",
       "Office Supplies  United States  Los Angeles  California        90036   West   \n",
       "\n",
       "                      product_id sub_category  \\\n",
       "category                                        \n",
       "Furniture        FUR-BO-10001798    Bookcases   \n",
       "Office Supplies  OFF-LA-10000240       Labels   \n",
       "\n",
       "                                                      product_name   sales  \\\n",
       "category                                                                     \n",
       "Furniture                        Bush Somerset Collection Bookcase  261.96   \n",
       "Office Supplies  Self-Adhesive Address Labels for Typewriters b...   14.62   \n",
       "\n",
       "                 unnamed:_19  \n",
       "category                      \n",
       "Furniture                NaN  \n",
       "Office Supplies          NaN  "
      ]
     },
     "execution_count": 31,
     "metadata": {},
     "output_type": "execute_result"
    }
   ],
   "source": [
    "group_df.first()"
   ]
  },
  {
   "cell_type": "code",
   "execution_count": 32,
   "id": "c83350b2-8f11-4bf9-af9e-02c92aa2aec9",
   "metadata": {},
   "outputs": [
    {
     "data": {
      "text/html": [
       "<div>\n",
       "<style scoped>\n",
       "    .dataframe tbody tr th:only-of-type {\n",
       "        vertical-align: middle;\n",
       "    }\n",
       "\n",
       "    .dataframe tbody tr th {\n",
       "        vertical-align: top;\n",
       "    }\n",
       "\n",
       "    .dataframe thead th {\n",
       "        text-align: right;\n",
       "    }\n",
       "</style>\n",
       "<table border=\"1\" class=\"dataframe\">\n",
       "  <thead>\n",
       "    <tr style=\"text-align: right;\">\n",
       "      <th></th>\n",
       "      <th>order_id</th>\n",
       "      <th>row_id</th>\n",
       "      <th>order_id.1</th>\n",
       "      <th>order_date</th>\n",
       "      <th>ship_date</th>\n",
       "      <th>ship_mode</th>\n",
       "      <th>customer_id</th>\n",
       "      <th>customer_name</th>\n",
       "      <th>segment</th>\n",
       "      <th>country</th>\n",
       "      <th>city</th>\n",
       "      <th>state</th>\n",
       "      <th>postal_code</th>\n",
       "      <th>region</th>\n",
       "      <th>product_id</th>\n",
       "      <th>sub_category</th>\n",
       "      <th>product_name</th>\n",
       "      <th>sales</th>\n",
       "      <th>unnamed:_19</th>\n",
       "    </tr>\n",
       "    <tr>\n",
       "      <th>category</th>\n",
       "      <th></th>\n",
       "      <th></th>\n",
       "      <th></th>\n",
       "      <th></th>\n",
       "      <th></th>\n",
       "      <th></th>\n",
       "      <th></th>\n",
       "      <th></th>\n",
       "      <th></th>\n",
       "      <th></th>\n",
       "      <th></th>\n",
       "      <th></th>\n",
       "      <th></th>\n",
       "      <th></th>\n",
       "      <th></th>\n",
       "      <th></th>\n",
       "      <th></th>\n",
       "      <th></th>\n",
       "      <th></th>\n",
       "    </tr>\n",
       "  </thead>\n",
       "  <tbody>\n",
       "    <tr>\n",
       "      <th>Furniture</th>\n",
       "      <td>3</td>\n",
       "      <td>4</td>\n",
       "      <td>US-2016-108966</td>\n",
       "      <td>2016-11-10</td>\n",
       "      <td>2017-11-11</td>\n",
       "      <td>Standard Class</td>\n",
       "      <td>SO-20335</td>\n",
       "      <td>Sean O'Donnell</td>\n",
       "      <td>Consumer</td>\n",
       "      <td>United States</td>\n",
       "      <td>Fort Lauderdale</td>\n",
       "      <td>Florida</td>\n",
       "      <td>33311</td>\n",
       "      <td>South</td>\n",
       "      <td>FUR-TA-10000577</td>\n",
       "      <td>Tables</td>\n",
       "      <td>Bretford CR4500 Series Slim Rectangular Table</td>\n",
       "      <td>957.5775</td>\n",
       "      <td>NaN</td>\n",
       "    </tr>\n",
       "    <tr>\n",
       "      <th>Office Supplies</th>\n",
       "      <td>4</td>\n",
       "      <td>5</td>\n",
       "      <td>US-2016-108966</td>\n",
       "      <td>2016-11-10</td>\n",
       "      <td>2017-11-11</td>\n",
       "      <td>Standard Class</td>\n",
       "      <td>SO-20335</td>\n",
       "      <td>Sean O'Donnell</td>\n",
       "      <td>Consumer</td>\n",
       "      <td>United States</td>\n",
       "      <td>Fort Lauderdale</td>\n",
       "      <td>Florida</td>\n",
       "      <td>33311</td>\n",
       "      <td>South</td>\n",
       "      <td>OFF-ST-10000760</td>\n",
       "      <td>Storage</td>\n",
       "      <td>Eldon Fold 'N Roll Cart System</td>\n",
       "      <td>22.3680</td>\n",
       "      <td>NaN</td>\n",
       "    </tr>\n",
       "  </tbody>\n",
       "</table>\n",
       "</div>"
      ],
      "text/plain": [
       "                 order_id  row_id      order_id.1 order_date  ship_date  \\\n",
       "category                                                                  \n",
       "Furniture               3       4  US-2016-108966 2016-11-10 2017-11-11   \n",
       "Office Supplies         4       5  US-2016-108966 2016-11-10 2017-11-11   \n",
       "\n",
       "                      ship_mode customer_id   customer_name   segment  \\\n",
       "category                                                                \n",
       "Furniture        Standard Class    SO-20335  Sean O'Donnell  Consumer   \n",
       "Office Supplies  Standard Class    SO-20335  Sean O'Donnell  Consumer   \n",
       "\n",
       "                       country             city    state  postal_code region  \\\n",
       "category                                                                       \n",
       "Furniture        United States  Fort Lauderdale  Florida        33311  South   \n",
       "Office Supplies  United States  Fort Lauderdale  Florida        33311  South   \n",
       "\n",
       "                      product_id sub_category  \\\n",
       "category                                        \n",
       "Furniture        FUR-TA-10000577       Tables   \n",
       "Office Supplies  OFF-ST-10000760      Storage   \n",
       "\n",
       "                                                  product_name     sales  \\\n",
       "category                                                                   \n",
       "Furniture        Bretford CR4500 Series Slim Rectangular Table  957.5775   \n",
       "Office Supplies                 Eldon Fold 'N Roll Cart System   22.3680   \n",
       "\n",
       "                 unnamed:_19  \n",
       "category                      \n",
       "Furniture                NaN  \n",
       "Office Supplies          NaN  "
      ]
     },
     "execution_count": 32,
     "metadata": {},
     "output_type": "execute_result"
    }
   ],
   "source": [
    "group_df.last()"
   ]
  },
  {
   "cell_type": "code",
   "execution_count": 33,
   "id": "51037440-287c-4760-870c-e4578df43121",
   "metadata": {},
   "outputs": [
    {
     "data": {
      "text/html": [
       "<div>\n",
       "<style scoped>\n",
       "    .dataframe tbody tr th:only-of-type {\n",
       "        vertical-align: middle;\n",
       "    }\n",
       "\n",
       "    .dataframe tbody tr th {\n",
       "        vertical-align: top;\n",
       "    }\n",
       "\n",
       "    .dataframe thead th {\n",
       "        text-align: right;\n",
       "    }\n",
       "</style>\n",
       "<table border=\"1\" class=\"dataframe\">\n",
       "  <thead>\n",
       "    <tr style=\"text-align: right;\">\n",
       "      <th></th>\n",
       "      <th>order_id</th>\n",
       "      <th>row_id</th>\n",
       "      <th>order_id.1</th>\n",
       "      <th>order_date</th>\n",
       "      <th>ship_date</th>\n",
       "      <th>ship_mode</th>\n",
       "      <th>customer_id</th>\n",
       "      <th>customer_name</th>\n",
       "      <th>segment</th>\n",
       "      <th>country</th>\n",
       "      <th>city</th>\n",
       "      <th>state</th>\n",
       "      <th>postal_code</th>\n",
       "      <th>region</th>\n",
       "      <th>product_id</th>\n",
       "      <th>category</th>\n",
       "      <th>sub_category</th>\n",
       "      <th>product_name</th>\n",
       "      <th>sales</th>\n",
       "      <th>unnamed:_19</th>\n",
       "    </tr>\n",
       "  </thead>\n",
       "  <tbody>\n",
       "    <tr>\n",
       "      <th>1</th>\n",
       "      <td>1</td>\n",
       "      <td>2</td>\n",
       "      <td>CA-2017-152156</td>\n",
       "      <td>2017-08-11</td>\n",
       "      <td>2017-11-11</td>\n",
       "      <td>Second Class</td>\n",
       "      <td>CG-12520</td>\n",
       "      <td>Claire Gute</td>\n",
       "      <td>Consumer</td>\n",
       "      <td>United States</td>\n",
       "      <td>Henderson</td>\n",
       "      <td>Kentucky</td>\n",
       "      <td>42420</td>\n",
       "      <td>South</td>\n",
       "      <td>FUR-CH-10000454</td>\n",
       "      <td>Furniture</td>\n",
       "      <td>Chairs</td>\n",
       "      <td>Hon Deluxe Fabric Upholstered Stacking Chairs,...</td>\n",
       "      <td>731.940</td>\n",
       "      <td>NaN</td>\n",
       "    </tr>\n",
       "    <tr>\n",
       "      <th>4</th>\n",
       "      <td>4</td>\n",
       "      <td>5</td>\n",
       "      <td>US-2016-108966</td>\n",
       "      <td>2016-11-10</td>\n",
       "      <td>2017-11-11</td>\n",
       "      <td>Standard Class</td>\n",
       "      <td>SO-20335</td>\n",
       "      <td>Sean O'Donnell</td>\n",
       "      <td>Consumer</td>\n",
       "      <td>United States</td>\n",
       "      <td>Fort Lauderdale</td>\n",
       "      <td>Florida</td>\n",
       "      <td>33311</td>\n",
       "      <td>South</td>\n",
       "      <td>OFF-ST-10000760</td>\n",
       "      <td>Office Supplies</td>\n",
       "      <td>Storage</td>\n",
       "      <td>Eldon Fold 'N Roll Cart System</td>\n",
       "      <td>22.368</td>\n",
       "      <td>NaN</td>\n",
       "    </tr>\n",
       "  </tbody>\n",
       "</table>\n",
       "</div>"
      ],
      "text/plain": [
       "   order_id  row_id      order_id.1 order_date  ship_date       ship_mode  \\\n",
       "1         1       2  CA-2017-152156 2017-08-11 2017-11-11    Second Class   \n",
       "4         4       5  US-2016-108966 2016-11-10 2017-11-11  Standard Class   \n",
       "\n",
       "  customer_id   customer_name   segment        country             city  \\\n",
       "1    CG-12520     Claire Gute  Consumer  United States        Henderson   \n",
       "4    SO-20335  Sean O'Donnell  Consumer  United States  Fort Lauderdale   \n",
       "\n",
       "      state  postal_code region       product_id         category  \\\n",
       "1  Kentucky        42420  South  FUR-CH-10000454        Furniture   \n",
       "4   Florida        33311  South  OFF-ST-10000760  Office Supplies   \n",
       "\n",
       "  sub_category                                       product_name    sales  \\\n",
       "1       Chairs  Hon Deluxe Fabric Upholstered Stacking Chairs,...  731.940   \n",
       "4      Storage                     Eldon Fold 'N Roll Cart System   22.368   \n",
       "\n",
       "   unnamed:_19  \n",
       "1          NaN  \n",
       "4          NaN  "
      ]
     },
     "execution_count": 33,
     "metadata": {},
     "output_type": "execute_result"
    }
   ],
   "source": [
    "group_df.nth(1) # layas vị trị thứ 1"
   ]
  },
  {
   "cell_type": "code",
   "execution_count": 34,
   "id": "d67649f6-74e3-44c9-b940-29476e25b63c",
   "metadata": {},
   "outputs": [],
   "source": [
    "# bên trên là chỉ gộp 1 tiêu đề\n"
   ]
  },
  {
   "cell_type": "markdown",
   "id": "2a46c5e3-ebfe-4861-b304-61a4a824790d",
   "metadata": {},
   "source": [
    "## Grouping the Data Based on Product Category and Sub-Category"
   ]
  },
  {
   "cell_type": "code",
   "execution_count": 35,
   "id": "0265f059-eb26-4d23-9a7d-91ac3ba9a9a9",
   "metadata": {},
   "outputs": [],
   "source": [
    "grouped_df = df.groupby(['category', 'sub_category'])"
   ]
  },
  {
   "cell_type": "code",
   "execution_count": 36,
   "id": "1a6671ff-e52a-4159-a88f-c4baa6927906",
   "metadata": {},
   "outputs": [
    {
     "data": {
      "text/plain": [
       "{('Furniture', 'Bookcases'): [0], ('Furniture', 'Chairs'): [1], ('Furniture', 'Tables'): [3], ('Office Supplies', 'Labels'): [2], ('Office Supplies', 'Storage'): [4]}"
      ]
     },
     "execution_count": 36,
     "metadata": {},
     "output_type": "execute_result"
    }
   ],
   "source": [
    "grouped_df.groups"
   ]
  },
  {
   "cell_type": "code",
   "execution_count": 37,
   "id": "c9d35412-7ce7-44cb-9e50-d7a08a873b43",
   "metadata": {},
   "outputs": [
    {
     "data": {
      "text/plain": [
       "dict_keys([('Furniture', 'Bookcases'), ('Furniture', 'Chairs'), ('Furniture', 'Tables'), ('Office Supplies', 'Labels'), ('Office Supplies', 'Storage')])"
      ]
     },
     "execution_count": 37,
     "metadata": {},
     "output_type": "execute_result"
    }
   ],
   "source": [
    "grouped_df.groups.keys()"
   ]
  },
  {
   "cell_type": "code",
   "execution_count": 38,
   "id": "5bf890ad-7f25-4f7d-9298-d4184d0ff3b5",
   "metadata": {},
   "outputs": [
    {
     "data": {
      "text/plain": [
       "dict_values([Index([0], dtype='int64'), Index([1], dtype='int64'), Index([3], dtype='int64'), Index([2], dtype='int64'), Index([4], dtype='int64')])"
      ]
     },
     "execution_count": 38,
     "metadata": {},
     "output_type": "execute_result"
    }
   ],
   "source": [
    "grouped_df.groups.values()"
   ]
  },
  {
   "cell_type": "code",
   "execution_count": 48,
   "id": "defef296-432b-4798-bb4a-d642ac11d733",
   "metadata": {},
   "outputs": [
    {
     "data": {
      "text/html": [
       "<div>\n",
       "<style scoped>\n",
       "    .dataframe tbody tr th:only-of-type {\n",
       "        vertical-align: middle;\n",
       "    }\n",
       "\n",
       "    .dataframe tbody tr th {\n",
       "        vertical-align: top;\n",
       "    }\n",
       "\n",
       "    .dataframe thead th {\n",
       "        text-align: right;\n",
       "    }\n",
       "</style>\n",
       "<table border=\"1\" class=\"dataframe\">\n",
       "  <thead>\n",
       "    <tr style=\"text-align: right;\">\n",
       "      <th></th>\n",
       "      <th>order_id</th>\n",
       "      <th>row_id</th>\n",
       "      <th>order_id.1</th>\n",
       "      <th>order_date</th>\n",
       "      <th>ship_date</th>\n",
       "      <th>ship_mode</th>\n",
       "      <th>customer_id</th>\n",
       "      <th>customer_name</th>\n",
       "      <th>segment</th>\n",
       "      <th>country</th>\n",
       "      <th>city</th>\n",
       "      <th>state</th>\n",
       "      <th>postal_code</th>\n",
       "      <th>region</th>\n",
       "      <th>product_id</th>\n",
       "      <th>category</th>\n",
       "      <th>sub_category</th>\n",
       "      <th>product_name</th>\n",
       "      <th>sales</th>\n",
       "      <th>unnamed:_19</th>\n",
       "    </tr>\n",
       "  </thead>\n",
       "  <tbody>\n",
       "    <tr>\n",
       "      <th>1</th>\n",
       "      <td>1</td>\n",
       "      <td>2</td>\n",
       "      <td>CA-2017-152156</td>\n",
       "      <td>2017-08-11</td>\n",
       "      <td>2017-11-11</td>\n",
       "      <td>Second Class</td>\n",
       "      <td>CG-12520</td>\n",
       "      <td>Claire Gute</td>\n",
       "      <td>Consumer</td>\n",
       "      <td>United States</td>\n",
       "      <td>Henderson</td>\n",
       "      <td>Kentucky</td>\n",
       "      <td>42420</td>\n",
       "      <td>South</td>\n",
       "      <td>FUR-CH-10000454</td>\n",
       "      <td>Furniture</td>\n",
       "      <td>Chairs</td>\n",
       "      <td>Hon Deluxe Fabric Upholstered Stacking Chairs,...</td>\n",
       "      <td>731.94</td>\n",
       "      <td>NaN</td>\n",
       "    </tr>\n",
       "  </tbody>\n",
       "</table>\n",
       "</div>"
      ],
      "text/plain": [
       "   order_id  row_id      order_id.1 order_date  ship_date     ship_mode  \\\n",
       "1         1       2  CA-2017-152156 2017-08-11 2017-11-11  Second Class   \n",
       "\n",
       "  customer_id customer_name   segment        country       city     state  \\\n",
       "1    CG-12520   Claire Gute  Consumer  United States  Henderson  Kentucky   \n",
       "\n",
       "   postal_code region       product_id   category sub_category  \\\n",
       "1        42420  South  FUR-CH-10000454  Furniture       Chairs   \n",
       "\n",
       "                                        product_name   sales  unnamed:_19  \n",
       "1  Hon Deluxe Fabric Upholstered Stacking Chairs,...  731.94          NaN  "
      ]
     },
     "execution_count": 48,
     "metadata": {},
     "output_type": "execute_result"
    }
   ],
   "source": [
    "grouped_df.get_group((\"Furniture\", \"Chairs\"))\n",
    "# khôn ghải get_group là lấy furniture và chairs của Category \n",
    "# mà là lấy furniture của category\n",
    "# và chairs của sub_catergory"
   ]
  },
  {
   "cell_type": "code",
   "execution_count": 43,
   "id": "271f60b6-0907-4851-a1b8-abba66696df5",
   "metadata": {},
   "outputs": [
    {
     "ename": "KeyError",
     "evalue": "('Technology', 'Phones')",
     "output_type": "error",
     "traceback": [
      "\u001b[1;31m---------------------------------------------------------------------------\u001b[0m",
      "\u001b[1;31mKeyError\u001b[0m                                  Traceback (most recent call last)",
      "Cell \u001b[1;32mIn[43], line 1\u001b[0m\n\u001b[1;32m----> 1\u001b[0m grouped_df\u001b[38;5;241m.\u001b[39mget_group((\u001b[38;5;124m'\u001b[39m\u001b[38;5;124mTechnology\u001b[39m\u001b[38;5;124m'\u001b[39m, \u001b[38;5;124m'\u001b[39m\u001b[38;5;124mPhones\u001b[39m\u001b[38;5;124m'\u001b[39m))\n",
      "File \u001b[1;32m~\\anaconda3\\Lib\\site-packages\\pandas\\core\\groupby\\groupby.py:1114\u001b[0m, in \u001b[0;36mBaseGroupBy.get_group\u001b[1;34m(self, name, obj)\u001b[0m\n\u001b[0;32m   1112\u001b[0m inds \u001b[38;5;241m=\u001b[39m \u001b[38;5;28mself\u001b[39m\u001b[38;5;241m.\u001b[39m_get_index(name)\n\u001b[0;32m   1113\u001b[0m \u001b[38;5;28;01mif\u001b[39;00m \u001b[38;5;129;01mnot\u001b[39;00m \u001b[38;5;28mlen\u001b[39m(inds):\n\u001b[1;32m-> 1114\u001b[0m     \u001b[38;5;28;01mraise\u001b[39;00m \u001b[38;5;167;01mKeyError\u001b[39;00m(name)\n\u001b[0;32m   1116\u001b[0m \u001b[38;5;28;01mif\u001b[39;00m obj \u001b[38;5;129;01mis\u001b[39;00m \u001b[38;5;28;01mNone\u001b[39;00m:\n\u001b[0;32m   1117\u001b[0m     indexer \u001b[38;5;241m=\u001b[39m inds \u001b[38;5;28;01mif\u001b[39;00m \u001b[38;5;28mself\u001b[39m\u001b[38;5;241m.\u001b[39maxis \u001b[38;5;241m==\u001b[39m \u001b[38;5;241m0\u001b[39m \u001b[38;5;28;01melse\u001b[39;00m (\u001b[38;5;28mslice\u001b[39m(\u001b[38;5;28;01mNone\u001b[39;00m), inds)\n",
      "\u001b[1;31mKeyError\u001b[0m: ('Technology', 'Phones')"
     ]
    }
   ],
   "source": [
    "grouped_df.get_group(('Technology', 'Phones'))"
   ]
  },
  {
   "cell_type": "code",
   "execution_count": 49,
   "id": "7949c18a-6ec0-4d82-9ffd-63beca81f61f",
   "metadata": {},
   "outputs": [
    {
     "data": {
      "text/html": [
       "<div>\n",
       "<style scoped>\n",
       "    .dataframe tbody tr th:only-of-type {\n",
       "        vertical-align: middle;\n",
       "    }\n",
       "\n",
       "    .dataframe tbody tr th {\n",
       "        vertical-align: top;\n",
       "    }\n",
       "\n",
       "    .dataframe thead th {\n",
       "        text-align: right;\n",
       "    }\n",
       "</style>\n",
       "<table border=\"1\" class=\"dataframe\">\n",
       "  <thead>\n",
       "    <tr style=\"text-align: right;\">\n",
       "      <th></th>\n",
       "      <th></th>\n",
       "      <th>order_id</th>\n",
       "      <th>row_id</th>\n",
       "      <th>order_id.1</th>\n",
       "      <th>order_date</th>\n",
       "      <th>ship_date</th>\n",
       "      <th>ship_mode</th>\n",
       "      <th>customer_id</th>\n",
       "      <th>customer_name</th>\n",
       "      <th>segment</th>\n",
       "      <th>country</th>\n",
       "      <th>city</th>\n",
       "      <th>state</th>\n",
       "      <th>postal_code</th>\n",
       "      <th>region</th>\n",
       "      <th>product_id</th>\n",
       "      <th>product_name</th>\n",
       "      <th>sales</th>\n",
       "      <th>unnamed:_19</th>\n",
       "    </tr>\n",
       "    <tr>\n",
       "      <th>category</th>\n",
       "      <th>sub_category</th>\n",
       "      <th></th>\n",
       "      <th></th>\n",
       "      <th></th>\n",
       "      <th></th>\n",
       "      <th></th>\n",
       "      <th></th>\n",
       "      <th></th>\n",
       "      <th></th>\n",
       "      <th></th>\n",
       "      <th></th>\n",
       "      <th></th>\n",
       "      <th></th>\n",
       "      <th></th>\n",
       "      <th></th>\n",
       "      <th></th>\n",
       "      <th></th>\n",
       "      <th></th>\n",
       "      <th></th>\n",
       "    </tr>\n",
       "  </thead>\n",
       "  <tbody>\n",
       "    <tr>\n",
       "      <th rowspan=\"3\" valign=\"top\">Furniture</th>\n",
       "      <th>Bookcases</th>\n",
       "      <td>0</td>\n",
       "      <td>1</td>\n",
       "      <td>CA-2017-152156</td>\n",
       "      <td>2017-08-11</td>\n",
       "      <td>2017-11-11</td>\n",
       "      <td>Second Class</td>\n",
       "      <td>CG-12520</td>\n",
       "      <td>Claire Gute</td>\n",
       "      <td>Consumer</td>\n",
       "      <td>United States</td>\n",
       "      <td>Henderson</td>\n",
       "      <td>Kentucky</td>\n",
       "      <td>42420</td>\n",
       "      <td>South</td>\n",
       "      <td>FUR-BO-10001798</td>\n",
       "      <td>Bush Somerset Collection Bookcase</td>\n",
       "      <td>261.9600</td>\n",
       "      <td>NaN</td>\n",
       "    </tr>\n",
       "    <tr>\n",
       "      <th>Chairs</th>\n",
       "      <td>1</td>\n",
       "      <td>2</td>\n",
       "      <td>CA-2017-152156</td>\n",
       "      <td>2017-08-11</td>\n",
       "      <td>2017-11-11</td>\n",
       "      <td>Second Class</td>\n",
       "      <td>CG-12520</td>\n",
       "      <td>Claire Gute</td>\n",
       "      <td>Consumer</td>\n",
       "      <td>United States</td>\n",
       "      <td>Henderson</td>\n",
       "      <td>Kentucky</td>\n",
       "      <td>42420</td>\n",
       "      <td>South</td>\n",
       "      <td>FUR-CH-10000454</td>\n",
       "      <td>Hon Deluxe Fabric Upholstered Stacking Chairs,...</td>\n",
       "      <td>731.9400</td>\n",
       "      <td>NaN</td>\n",
       "    </tr>\n",
       "    <tr>\n",
       "      <th>Tables</th>\n",
       "      <td>3</td>\n",
       "      <td>4</td>\n",
       "      <td>US-2016-108966</td>\n",
       "      <td>2016-11-10</td>\n",
       "      <td>2017-11-11</td>\n",
       "      <td>Standard Class</td>\n",
       "      <td>SO-20335</td>\n",
       "      <td>Sean O'Donnell</td>\n",
       "      <td>Consumer</td>\n",
       "      <td>United States</td>\n",
       "      <td>Fort Lauderdale</td>\n",
       "      <td>Florida</td>\n",
       "      <td>33311</td>\n",
       "      <td>South</td>\n",
       "      <td>FUR-TA-10000577</td>\n",
       "      <td>Bretford CR4500 Series Slim Rectangular Table</td>\n",
       "      <td>957.5775</td>\n",
       "      <td>NaN</td>\n",
       "    </tr>\n",
       "    <tr>\n",
       "      <th rowspan=\"2\" valign=\"top\">Office Supplies</th>\n",
       "      <th>Labels</th>\n",
       "      <td>2</td>\n",
       "      <td>3</td>\n",
       "      <td>CA-2017-138688</td>\n",
       "      <td>2017-12-06</td>\n",
       "      <td>2017-11-11</td>\n",
       "      <td>Second Class</td>\n",
       "      <td>DV-13045</td>\n",
       "      <td>Darrin Van Huff</td>\n",
       "      <td>Corporate</td>\n",
       "      <td>United States</td>\n",
       "      <td>Los Angeles</td>\n",
       "      <td>California</td>\n",
       "      <td>90036</td>\n",
       "      <td>West</td>\n",
       "      <td>OFF-LA-10000240</td>\n",
       "      <td>Self-Adhesive Address Labels for Typewriters b...</td>\n",
       "      <td>14.6200</td>\n",
       "      <td>NaN</td>\n",
       "    </tr>\n",
       "    <tr>\n",
       "      <th>Storage</th>\n",
       "      <td>4</td>\n",
       "      <td>5</td>\n",
       "      <td>US-2016-108966</td>\n",
       "      <td>2016-11-10</td>\n",
       "      <td>2017-11-11</td>\n",
       "      <td>Standard Class</td>\n",
       "      <td>SO-20335</td>\n",
       "      <td>Sean O'Donnell</td>\n",
       "      <td>Consumer</td>\n",
       "      <td>United States</td>\n",
       "      <td>Fort Lauderdale</td>\n",
       "      <td>Florida</td>\n",
       "      <td>33311</td>\n",
       "      <td>South</td>\n",
       "      <td>OFF-ST-10000760</td>\n",
       "      <td>Eldon Fold 'N Roll Cart System</td>\n",
       "      <td>22.3680</td>\n",
       "      <td>NaN</td>\n",
       "    </tr>\n",
       "  </tbody>\n",
       "</table>\n",
       "</div>"
      ],
      "text/plain": [
       "                              order_id  row_id      order_id.1 order_date  \\\n",
       "category        sub_category                                                \n",
       "Furniture       Bookcases            0       1  CA-2017-152156 2017-08-11   \n",
       "                Chairs               1       2  CA-2017-152156 2017-08-11   \n",
       "                Tables               3       4  US-2016-108966 2016-11-10   \n",
       "Office Supplies Labels               2       3  CA-2017-138688 2017-12-06   \n",
       "                Storage              4       5  US-2016-108966 2016-11-10   \n",
       "\n",
       "                              ship_date       ship_mode customer_id  \\\n",
       "category        sub_category                                          \n",
       "Furniture       Bookcases    2017-11-11    Second Class    CG-12520   \n",
       "                Chairs       2017-11-11    Second Class    CG-12520   \n",
       "                Tables       2017-11-11  Standard Class    SO-20335   \n",
       "Office Supplies Labels       2017-11-11    Second Class    DV-13045   \n",
       "                Storage      2017-11-11  Standard Class    SO-20335   \n",
       "\n",
       "                                customer_name    segment        country  \\\n",
       "category        sub_category                                              \n",
       "Furniture       Bookcases         Claire Gute   Consumer  United States   \n",
       "                Chairs            Claire Gute   Consumer  United States   \n",
       "                Tables         Sean O'Donnell   Consumer  United States   \n",
       "Office Supplies Labels        Darrin Van Huff  Corporate  United States   \n",
       "                Storage        Sean O'Donnell   Consumer  United States   \n",
       "\n",
       "                                         city       state  postal_code region  \\\n",
       "category        sub_category                                                    \n",
       "Furniture       Bookcases           Henderson    Kentucky        42420  South   \n",
       "                Chairs              Henderson    Kentucky        42420  South   \n",
       "                Tables        Fort Lauderdale     Florida        33311  South   \n",
       "Office Supplies Labels            Los Angeles  California        90036   West   \n",
       "                Storage       Fort Lauderdale     Florida        33311  South   \n",
       "\n",
       "                                   product_id  \\\n",
       "category        sub_category                    \n",
       "Furniture       Bookcases     FUR-BO-10001798   \n",
       "                Chairs        FUR-CH-10000454   \n",
       "                Tables        FUR-TA-10000577   \n",
       "Office Supplies Labels        OFF-LA-10000240   \n",
       "                Storage       OFF-ST-10000760   \n",
       "\n",
       "                                                                   product_name  \\\n",
       "category        sub_category                                                      \n",
       "Furniture       Bookcases                     Bush Somerset Collection Bookcase   \n",
       "                Chairs        Hon Deluxe Fabric Upholstered Stacking Chairs,...   \n",
       "                Tables            Bretford CR4500 Series Slim Rectangular Table   \n",
       "Office Supplies Labels        Self-Adhesive Address Labels for Typewriters b...   \n",
       "                Storage                          Eldon Fold 'N Roll Cart System   \n",
       "\n",
       "                                 sales  unnamed:_19  \n",
       "category        sub_category                         \n",
       "Furniture       Bookcases     261.9600          NaN  \n",
       "                Chairs        731.9400          NaN  \n",
       "                Tables        957.5775          NaN  \n",
       "Office Supplies Labels         14.6200          NaN  \n",
       "                Storage        22.3680          NaN  "
      ]
     },
     "execution_count": 49,
     "metadata": {},
     "output_type": "execute_result"
    }
   ],
   "source": [
    "grouped_df.first()"
   ]
  },
  {
   "cell_type": "markdown",
   "id": "4a42a6a1-0a20-4626-a93e-fb4715e54f3e",
   "metadata": {},
   "source": [
    "# Split-apply-combine\n",
    "## Split\n",
    "## Apply\n",
    "## Combine"
   ]
  },
  {
   "cell_type": "markdown",
   "id": "6cc0fa9f-2603-4668-a1c4-93b3e5b9be37",
   "metadata": {},
   "source": [
    "## Aggreation"
   ]
  },
  {
   "cell_type": "markdown",
   "id": "c30f9a7b-bb8a-4567-b244-6c6c4cd9a235",
   "metadata": {},
   "source": [
    "## Built-in Aggregation Methods"
   ]
  },
  {
   "cell_type": "code",
   "execution_count": 50,
   "id": "ed50cd9f-f95b-49ba-834a-2518a1b6eed6",
   "metadata": {},
   "outputs": [],
   "source": [
    "# Method\tDescription\n",
    "# any()\tCompute whether any of the values in the groups are truthy\n",
    "# all()\tCompute whether all of the values in the groups are truthy\n",
    "# count()\tCompute the number of non-NA values in the groups\n",
    "# cov() *\tCompute the covariance of the groups\n",
    "# first()\tCompute the first occurring value in each group\n",
    "# idxmax() *\tCompute the index of the maximum value in each group\n",
    "# idxmin() *\tCompute the index of the minimum value in each group\n",
    "# last()\tCompute the last occurring value in each group\n",
    "# max()\tCompute the maximum value in each group\n",
    "# mean()\tCompute the mean of each group\n",
    "# median()\tCompute the median of each group\n",
    "# min()\tCompute the minimum value in each group\n",
    "# nunique()\tCompute the number of unique values in each group\n",
    "# prod()\tCompute the product of the values in each group\n",
    "# quantile()\tCompute a given quantile of the values in each group\n",
    "# sem()\tCompute the standard error of the mean of the values in each group\n",
    "# size()\tCompute the number of values in each group\n",
    "# skew() *\tCompute the skew of the values in each group\n",
    "# std()\tCompute the standard deviation of the values in each group\n",
    "# sum()\tCompute the sum of the values in each group\n",
    "# var()\tCompute the variance of the values in each group"
   ]
  },
  {
   "cell_type": "code",
   "execution_count": 52,
   "id": "333de77b-e502-4905-aa22-9a6e090a97d8",
   "metadata": {},
   "outputs": [],
   "source": [
    "grouped_df = df.groupby(\"category\")"
   ]
  },
  {
   "cell_type": "code",
   "execution_count": 53,
   "id": "bf981f4f-5606-495e-a3b5-17bf1addf912",
   "metadata": {},
   "outputs": [
    {
     "data": {
      "text/plain": [
       "{'Furniture': [0, 1, 3], 'Office Supplies': [2, 4]}"
      ]
     },
     "execution_count": 53,
     "metadata": {},
     "output_type": "execute_result"
    }
   ],
   "source": [
    "grouped_df.groups"
   ]
  },
  {
   "cell_type": "code",
   "execution_count": 55,
   "id": "0cea7dac-ab21-4346-b62d-74f9c44d7515",
   "metadata": {},
   "outputs": [
    {
     "data": {
      "text/plain": [
       "category\n",
       "Furniture          3\n",
       "Office Supplies    2\n",
       "Name: category, dtype: int64"
      ]
     },
     "execution_count": 55,
     "metadata": {},
     "output_type": "execute_result"
    }
   ],
   "source": [
    "# count()\n",
    "grouped_df[\"category\"].count()"
   ]
  },
  {
   "cell_type": "code",
   "execution_count": 56,
   "id": "b90e3306-b04f-4150-b406-e89fa212ce90",
   "metadata": {},
   "outputs": [],
   "source": [
    "# min, max"
   ]
  },
  {
   "cell_type": "code",
   "execution_count": 57,
   "id": "cfcdc20a-ed4c-4ebc-bb96-9a96301c7988",
   "metadata": {},
   "outputs": [
    {
     "data": {
      "text/plain": [
       "category\n",
       "Furniture          957.5775\n",
       "Office Supplies     22.3680\n",
       "Name: sales, dtype: float64"
      ]
     },
     "execution_count": 57,
     "metadata": {},
     "output_type": "execute_result"
    }
   ],
   "source": [
    "grouped_df[\"sales\"].max()"
   ]
  },
  {
   "cell_type": "code",
   "execution_count": 58,
   "id": "42bcf7cb-5493-4d04-8683-b05518177fed",
   "metadata": {},
   "outputs": [
    {
     "data": {
      "text/plain": [
       "category\n",
       "Furniture          650.4925\n",
       "Office Supplies     18.4940\n",
       "Name: sales, dtype: float64"
      ]
     },
     "execution_count": 58,
     "metadata": {},
     "output_type": "execute_result"
    }
   ],
   "source": [
    "grouped_df['sales'].mean()"
   ]
  },
  {
   "cell_type": "code",
   "execution_count": 59,
   "id": "922df919-0fe7-4c2a-96d6-336ed60e7e63",
   "metadata": {},
   "outputs": [],
   "source": [
    "group_df = df.groupby(['category', 'sub_category'])\n"
   ]
  },
  {
   "cell_type": "code",
   "execution_count": 61,
   "id": "922cab89-8612-44e7-ae21-983fd65d5371",
   "metadata": {},
   "outputs": [
    {
     "data": {
      "text/plain": [
       "category         sub_category\n",
       "Furniture        Bookcases       1\n",
       "                 Chairs          1\n",
       "                 Tables          1\n",
       "Office Supplies  Labels          1\n",
       "                 Storage         1\n",
       "Name: sub_category, dtype: int64"
      ]
     },
     "execution_count": 61,
     "metadata": {},
     "output_type": "execute_result"
    }
   ],
   "source": [
    "group_df['sub_category'].count()"
   ]
  },
  {
   "cell_type": "code",
   "execution_count": 62,
   "id": "fda33211-454f-4674-9435-751c66696372",
   "metadata": {},
   "outputs": [
    {
     "data": {
      "text/plain": [
       "category         sub_category\n",
       "Furniture        Bookcases       1\n",
       "                 Chairs          1\n",
       "                 Tables          1\n",
       "Office Supplies  Labels          1\n",
       "                 Storage         1\n",
       "Name: category, dtype: int64"
      ]
     },
     "execution_count": 62,
     "metadata": {},
     "output_type": "execute_result"
    }
   ],
   "source": [
    "group_df['category'].count()"
   ]
  },
  {
   "cell_type": "code",
   "execution_count": 63,
   "id": "d50451b6-de70-4824-8d96-f375dfd9739a",
   "metadata": {},
   "outputs": [
    {
     "data": {
      "text/plain": [
       "category         sub_category\n",
       "Furniture        Bookcases       261.9600\n",
       "                 Chairs          731.9400\n",
       "                 Tables          957.5775\n",
       "Office Supplies  Labels           14.6200\n",
       "                 Storage          22.3680\n",
       "Name: sales, dtype: float64"
      ]
     },
     "execution_count": 63,
     "metadata": {},
     "output_type": "execute_result"
    }
   ],
   "source": [
    "group_df[\"sales\"].min()"
   ]
  },
  {
   "cell_type": "code",
   "execution_count": 64,
   "id": "86f13fdd-7d43-4b28-8722-03201d2851f0",
   "metadata": {},
   "outputs": [
    {
     "data": {
      "text/plain": [
       "category         sub_category\n",
       "Furniture        Bookcases       0\n",
       "                 Chairs          1\n",
       "                 Tables          3\n",
       "Office Supplies  Labels          2\n",
       "                 Storage         4\n",
       "Name: sales, dtype: int64"
      ]
     },
     "execution_count": 64,
     "metadata": {},
     "output_type": "execute_result"
    }
   ],
   "source": [
    "# sử dụng idxmaxx, idx min\n",
    "group_df['sales'].idxmax() # trả về vị trí"
   ]
  },
  {
   "cell_type": "code",
   "execution_count": 66,
   "id": "86117d0f-8d60-4fc5-bf0b-2966bf25c4dc",
   "metadata": {},
   "outputs": [
    {
     "data": {
      "text/plain": [
       "order_id                                                         2\n",
       "row_id                                                           3\n",
       "order_id.1                                          CA-2017-138688\n",
       "order_date                                     2017-12-06 00:00:00\n",
       "ship_date                                      2017-11-11 00:00:00\n",
       "ship_mode                                             Second Class\n",
       "customer_id                                               DV-13045\n",
       "customer_name                                      Darrin Van Huff\n",
       "segment                                                  Corporate\n",
       "country                                              United States\n",
       "city                                                   Los Angeles\n",
       "state                                                   California\n",
       "postal_code                                                  90036\n",
       "region                                                        West\n",
       "product_id                                         OFF-LA-10000240\n",
       "category                                           Office Supplies\n",
       "sub_category                                                Labels\n",
       "product_name     Self-Adhesive Address Labels for Typewriters b...\n",
       "sales                                                        14.62\n",
       "unnamed:_19                                                    NaN\n",
       "Name: 2, dtype: object"
      ]
     },
     "execution_count": 66,
     "metadata": {},
     "output_type": "execute_result"
    }
   ],
   "source": [
    "df.loc[2]"
   ]
  },
  {
   "cell_type": "markdown",
   "id": "5fc93f59-af85-47ed-8049-fb9e2ce00427",
   "metadata": {},
   "source": [
    "## Aggregation With User-Defined Functions\n"
   ]
  },
  {
   "cell_type": "code",
   "execution_count": 70,
   "id": "838f584b-99f5-4340-aca2-d8ab2581dcb0",
   "metadata": {},
   "outputs": [
    {
     "data": {
      "text/html": [
       "<div>\n",
       "<style scoped>\n",
       "    .dataframe tbody tr th:only-of-type {\n",
       "        vertical-align: middle;\n",
       "    }\n",
       "\n",
       "    .dataframe tbody tr th {\n",
       "        vertical-align: top;\n",
       "    }\n",
       "\n",
       "    .dataframe thead th {\n",
       "        text-align: right;\n",
       "    }\n",
       "</style>\n",
       "<table border=\"1\" class=\"dataframe\">\n",
       "  <thead>\n",
       "    <tr style=\"text-align: right;\">\n",
       "      <th></th>\n",
       "      <th></th>\n",
       "      <th>min</th>\n",
       "      <th>mean</th>\n",
       "      <th>max</th>\n",
       "    </tr>\n",
       "    <tr>\n",
       "      <th>category</th>\n",
       "      <th>sub_category</th>\n",
       "      <th></th>\n",
       "      <th></th>\n",
       "      <th></th>\n",
       "    </tr>\n",
       "  </thead>\n",
       "  <tbody>\n",
       "    <tr>\n",
       "      <th rowspan=\"3\" valign=\"top\">Furniture</th>\n",
       "      <th>Bookcases</th>\n",
       "      <td>261.9600</td>\n",
       "      <td>261.9600</td>\n",
       "      <td>261.9600</td>\n",
       "    </tr>\n",
       "    <tr>\n",
       "      <th>Chairs</th>\n",
       "      <td>731.9400</td>\n",
       "      <td>731.9400</td>\n",
       "      <td>731.9400</td>\n",
       "    </tr>\n",
       "    <tr>\n",
       "      <th>Tables</th>\n",
       "      <td>957.5775</td>\n",
       "      <td>957.5775</td>\n",
       "      <td>957.5775</td>\n",
       "    </tr>\n",
       "    <tr>\n",
       "      <th rowspan=\"2\" valign=\"top\">Office Supplies</th>\n",
       "      <th>Labels</th>\n",
       "      <td>14.6200</td>\n",
       "      <td>14.6200</td>\n",
       "      <td>14.6200</td>\n",
       "    </tr>\n",
       "    <tr>\n",
       "      <th>Storage</th>\n",
       "      <td>22.3680</td>\n",
       "      <td>22.3680</td>\n",
       "      <td>22.3680</td>\n",
       "    </tr>\n",
       "  </tbody>\n",
       "</table>\n",
       "</div>"
      ],
      "text/plain": [
       "                                   min      mean       max\n",
       "category        sub_category                              \n",
       "Furniture       Bookcases     261.9600  261.9600  261.9600\n",
       "                Chairs        731.9400  731.9400  731.9400\n",
       "                Tables        957.5775  957.5775  957.5775\n",
       "Office Supplies Labels         14.6200   14.6200   14.6200\n",
       "                Storage        22.3680   22.3680   22.3680"
      ]
     },
     "execution_count": 70,
     "metadata": {},
     "output_type": "execute_result"
    }
   ],
   "source": [
    "group_df['sales'].agg([\"min\", \"mean\", \"max\"])\n",
    "# tạo bảng với các ggias trị \n",
    "# cũng na ná giống describe() nhưng tôi chỉ cần lấy nhuwnxg thuộc tính cần thiết"
   ]
  },
  {
   "cell_type": "code",
   "execution_count": 69,
   "id": "0e7830f3-a7e2-49f0-87f1-6269f746c65b",
   "metadata": {},
   "outputs": [
    {
     "data": {
      "text/html": [
       "<div>\n",
       "<style scoped>\n",
       "    .dataframe tbody tr th:only-of-type {\n",
       "        vertical-align: middle;\n",
       "    }\n",
       "\n",
       "    .dataframe tbody tr th {\n",
       "        vertical-align: top;\n",
       "    }\n",
       "\n",
       "    .dataframe thead tr th {\n",
       "        text-align: left;\n",
       "    }\n",
       "\n",
       "    .dataframe thead tr:last-of-type th {\n",
       "        text-align: right;\n",
       "    }\n",
       "</style>\n",
       "<table border=\"1\" class=\"dataframe\">\n",
       "  <thead>\n",
       "    <tr>\n",
       "      <th></th>\n",
       "      <th></th>\n",
       "      <th colspan=\"8\" halign=\"left\">order_id</th>\n",
       "      <th colspan=\"2\" halign=\"left\">row_id</th>\n",
       "      <th>...</th>\n",
       "      <th colspan=\"2\" halign=\"left\">sales</th>\n",
       "      <th colspan=\"8\" halign=\"left\">unnamed:_19</th>\n",
       "    </tr>\n",
       "    <tr>\n",
       "      <th></th>\n",
       "      <th></th>\n",
       "      <th>count</th>\n",
       "      <th>mean</th>\n",
       "      <th>min</th>\n",
       "      <th>25%</th>\n",
       "      <th>50%</th>\n",
       "      <th>75%</th>\n",
       "      <th>max</th>\n",
       "      <th>std</th>\n",
       "      <th>count</th>\n",
       "      <th>mean</th>\n",
       "      <th>...</th>\n",
       "      <th>max</th>\n",
       "      <th>std</th>\n",
       "      <th>count</th>\n",
       "      <th>mean</th>\n",
       "      <th>min</th>\n",
       "      <th>25%</th>\n",
       "      <th>50%</th>\n",
       "      <th>75%</th>\n",
       "      <th>max</th>\n",
       "      <th>std</th>\n",
       "    </tr>\n",
       "    <tr>\n",
       "      <th>category</th>\n",
       "      <th>sub_category</th>\n",
       "      <th></th>\n",
       "      <th></th>\n",
       "      <th></th>\n",
       "      <th></th>\n",
       "      <th></th>\n",
       "      <th></th>\n",
       "      <th></th>\n",
       "      <th></th>\n",
       "      <th></th>\n",
       "      <th></th>\n",
       "      <th></th>\n",
       "      <th></th>\n",
       "      <th></th>\n",
       "      <th></th>\n",
       "      <th></th>\n",
       "      <th></th>\n",
       "      <th></th>\n",
       "      <th></th>\n",
       "      <th></th>\n",
       "      <th></th>\n",
       "      <th></th>\n",
       "    </tr>\n",
       "  </thead>\n",
       "  <tbody>\n",
       "    <tr>\n",
       "      <th rowspan=\"3\" valign=\"top\">Furniture</th>\n",
       "      <th>Bookcases</th>\n",
       "      <td>1.0</td>\n",
       "      <td>0.0</td>\n",
       "      <td>0.0</td>\n",
       "      <td>0.0</td>\n",
       "      <td>0.0</td>\n",
       "      <td>0.0</td>\n",
       "      <td>0.0</td>\n",
       "      <td>NaN</td>\n",
       "      <td>1.0</td>\n",
       "      <td>1.0</td>\n",
       "      <td>...</td>\n",
       "      <td>261.9600</td>\n",
       "      <td>NaN</td>\n",
       "      <td>0.0</td>\n",
       "      <td>NaN</td>\n",
       "      <td>NaN</td>\n",
       "      <td>NaN</td>\n",
       "      <td>NaN</td>\n",
       "      <td>NaN</td>\n",
       "      <td>NaN</td>\n",
       "      <td>NaN</td>\n",
       "    </tr>\n",
       "    <tr>\n",
       "      <th>Chairs</th>\n",
       "      <td>1.0</td>\n",
       "      <td>1.0</td>\n",
       "      <td>1.0</td>\n",
       "      <td>1.0</td>\n",
       "      <td>1.0</td>\n",
       "      <td>1.0</td>\n",
       "      <td>1.0</td>\n",
       "      <td>NaN</td>\n",
       "      <td>1.0</td>\n",
       "      <td>2.0</td>\n",
       "      <td>...</td>\n",
       "      <td>731.9400</td>\n",
       "      <td>NaN</td>\n",
       "      <td>0.0</td>\n",
       "      <td>NaN</td>\n",
       "      <td>NaN</td>\n",
       "      <td>NaN</td>\n",
       "      <td>NaN</td>\n",
       "      <td>NaN</td>\n",
       "      <td>NaN</td>\n",
       "      <td>NaN</td>\n",
       "    </tr>\n",
       "    <tr>\n",
       "      <th>Tables</th>\n",
       "      <td>1.0</td>\n",
       "      <td>3.0</td>\n",
       "      <td>3.0</td>\n",
       "      <td>3.0</td>\n",
       "      <td>3.0</td>\n",
       "      <td>3.0</td>\n",
       "      <td>3.0</td>\n",
       "      <td>NaN</td>\n",
       "      <td>1.0</td>\n",
       "      <td>4.0</td>\n",
       "      <td>...</td>\n",
       "      <td>957.5775</td>\n",
       "      <td>NaN</td>\n",
       "      <td>0.0</td>\n",
       "      <td>NaN</td>\n",
       "      <td>NaN</td>\n",
       "      <td>NaN</td>\n",
       "      <td>NaN</td>\n",
       "      <td>NaN</td>\n",
       "      <td>NaN</td>\n",
       "      <td>NaN</td>\n",
       "    </tr>\n",
       "    <tr>\n",
       "      <th rowspan=\"2\" valign=\"top\">Office Supplies</th>\n",
       "      <th>Labels</th>\n",
       "      <td>1.0</td>\n",
       "      <td>2.0</td>\n",
       "      <td>2.0</td>\n",
       "      <td>2.0</td>\n",
       "      <td>2.0</td>\n",
       "      <td>2.0</td>\n",
       "      <td>2.0</td>\n",
       "      <td>NaN</td>\n",
       "      <td>1.0</td>\n",
       "      <td>3.0</td>\n",
       "      <td>...</td>\n",
       "      <td>14.6200</td>\n",
       "      <td>NaN</td>\n",
       "      <td>0.0</td>\n",
       "      <td>NaN</td>\n",
       "      <td>NaN</td>\n",
       "      <td>NaN</td>\n",
       "      <td>NaN</td>\n",
       "      <td>NaN</td>\n",
       "      <td>NaN</td>\n",
       "      <td>NaN</td>\n",
       "    </tr>\n",
       "    <tr>\n",
       "      <th>Storage</th>\n",
       "      <td>1.0</td>\n",
       "      <td>4.0</td>\n",
       "      <td>4.0</td>\n",
       "      <td>4.0</td>\n",
       "      <td>4.0</td>\n",
       "      <td>4.0</td>\n",
       "      <td>4.0</td>\n",
       "      <td>NaN</td>\n",
       "      <td>1.0</td>\n",
       "      <td>5.0</td>\n",
       "      <td>...</td>\n",
       "      <td>22.3680</td>\n",
       "      <td>NaN</td>\n",
       "      <td>0.0</td>\n",
       "      <td>NaN</td>\n",
       "      <td>NaN</td>\n",
       "      <td>NaN</td>\n",
       "      <td>NaN</td>\n",
       "      <td>NaN</td>\n",
       "      <td>NaN</td>\n",
       "      <td>NaN</td>\n",
       "    </tr>\n",
       "  </tbody>\n",
       "</table>\n",
       "<p>5 rows × 56 columns</p>\n",
       "</div>"
      ],
      "text/plain": [
       "                             order_id                                    \\\n",
       "                                count mean  min  25%  50%  75%  max std   \n",
       "category        sub_category                                              \n",
       "Furniture       Bookcases         1.0  0.0  0.0  0.0  0.0  0.0  0.0 NaN   \n",
       "                Chairs            1.0  1.0  1.0  1.0  1.0  1.0  1.0 NaN   \n",
       "                Tables            1.0  3.0  3.0  3.0  3.0  3.0  3.0 NaN   \n",
       "Office Supplies Labels            1.0  2.0  2.0  2.0  2.0  2.0  2.0 NaN   \n",
       "                Storage           1.0  4.0  4.0  4.0  4.0  4.0  4.0 NaN   \n",
       "\n",
       "                             row_id       ...     sales     unnamed:_19       \\\n",
       "                              count mean  ...       max std       count mean   \n",
       "category        sub_category              ...                                  \n",
       "Furniture       Bookcases       1.0  1.0  ...  261.9600 NaN         0.0  NaN   \n",
       "                Chairs          1.0  2.0  ...  731.9400 NaN         0.0  NaN   \n",
       "                Tables          1.0  4.0  ...  957.5775 NaN         0.0  NaN   \n",
       "Office Supplies Labels          1.0  3.0  ...   14.6200 NaN         0.0  NaN   \n",
       "                Storage         1.0  5.0  ...   22.3680 NaN         0.0  NaN   \n",
       "\n",
       "                                                      \n",
       "                             min 25% 50% 75% max std  \n",
       "category        sub_category                          \n",
       "Furniture       Bookcases    NaN NaN NaN NaN NaN NaN  \n",
       "                Chairs       NaN NaN NaN NaN NaN NaN  \n",
       "                Tables       NaN NaN NaN NaN NaN NaN  \n",
       "Office Supplies Labels       NaN NaN NaN NaN NaN NaN  \n",
       "                Storage      NaN NaN NaN NaN NaN NaN  \n",
       "\n",
       "[5 rows x 56 columns]"
      ]
     },
     "execution_count": 69,
     "metadata": {},
     "output_type": "execute_result"
    }
   ],
   "source": [
    "group_df.describe()"
   ]
  },
  {
   "cell_type": "code",
   "execution_count": 71,
   "id": "fb5a4030-b284-4c02-ad10-cd766a4216bd",
   "metadata": {},
   "outputs": [
    {
     "data": {
      "text/plain": [
       "category         sub_category\n",
       "Furniture        Bookcases       261.9600\n",
       "                 Chairs          731.9400\n",
       "                 Tables          957.5775\n",
       "Office Supplies  Labels           14.6200\n",
       "                 Storage          22.3680\n",
       "Name: sales, dtype: float64"
      ]
     },
     "execution_count": 71,
     "metadata": {},
     "output_type": "execute_result"
    }
   ],
   "source": [
    "group_df[\"sales\"].min() # tôi có thể dùng lambda"
   ]
  },
  {
   "cell_type": "code",
   "execution_count": 72,
   "id": "e21673ce-aae0-47a9-ae82-35f8e99c1393",
   "metadata": {},
   "outputs": [
    {
     "data": {
      "text/plain": [
       "category         sub_category\n",
       "Furniture        Bookcases       261.9600\n",
       "                 Chairs          731.9400\n",
       "                 Tables          957.5775\n",
       "Office Supplies  Labels           14.6200\n",
       "                 Storage          22.3680\n",
       "Name: sales, dtype: float64"
      ]
     },
     "execution_count": 72,
     "metadata": {},
     "output_type": "execute_result"
    }
   ],
   "source": [
    "group_df['sales'].agg(lambda values: min(values))"
   ]
  },
  {
   "cell_type": "markdown",
   "id": "a6a1d5aa-8735-4a02-b369-c94ec8855d1a",
   "metadata": {},
   "source": [
    "## Applying different aggregation Functions to DataFrame columns"
   ]
  },
  {
   "cell_type": "code",
   "execution_count": 75,
   "id": "6a2a95b8-8bfa-40fc-a83d-b9a101e30d3f",
   "metadata": {},
   "outputs": [
    {
     "data": {
      "text/html": [
       "<div>\n",
       "<style scoped>\n",
       "    .dataframe tbody tr th:only-of-type {\n",
       "        vertical-align: middle;\n",
       "    }\n",
       "\n",
       "    .dataframe tbody tr th {\n",
       "        vertical-align: top;\n",
       "    }\n",
       "\n",
       "    .dataframe thead tr th {\n",
       "        text-align: left;\n",
       "    }\n",
       "\n",
       "    .dataframe thead tr:last-of-type th {\n",
       "        text-align: right;\n",
       "    }\n",
       "</style>\n",
       "<table border=\"1\" class=\"dataframe\">\n",
       "  <thead>\n",
       "    <tr>\n",
       "      <th></th>\n",
       "      <th></th>\n",
       "      <th colspan=\"2\" halign=\"left\">order_date</th>\n",
       "      <th colspan=\"2\" halign=\"left\">sales</th>\n",
       "    </tr>\n",
       "    <tr>\n",
       "      <th></th>\n",
       "      <th></th>\n",
       "      <th>min</th>\n",
       "      <th>max</th>\n",
       "      <th>mean</th>\n",
       "      <th>std</th>\n",
       "    </tr>\n",
       "    <tr>\n",
       "      <th>category</th>\n",
       "      <th>sub_category</th>\n",
       "      <th></th>\n",
       "      <th></th>\n",
       "      <th></th>\n",
       "      <th></th>\n",
       "    </tr>\n",
       "  </thead>\n",
       "  <tbody>\n",
       "    <tr>\n",
       "      <th rowspan=\"3\" valign=\"top\">Furniture</th>\n",
       "      <th>Bookcases</th>\n",
       "      <td>2017-08-11</td>\n",
       "      <td>2017-08-11</td>\n",
       "      <td>261.9600</td>\n",
       "      <td>NaN</td>\n",
       "    </tr>\n",
       "    <tr>\n",
       "      <th>Chairs</th>\n",
       "      <td>2017-08-11</td>\n",
       "      <td>2017-08-11</td>\n",
       "      <td>731.9400</td>\n",
       "      <td>NaN</td>\n",
       "    </tr>\n",
       "    <tr>\n",
       "      <th>Tables</th>\n",
       "      <td>2016-11-10</td>\n",
       "      <td>2016-11-10</td>\n",
       "      <td>957.5775</td>\n",
       "      <td>NaN</td>\n",
       "    </tr>\n",
       "    <tr>\n",
       "      <th rowspan=\"2\" valign=\"top\">Office Supplies</th>\n",
       "      <th>Labels</th>\n",
       "      <td>2017-12-06</td>\n",
       "      <td>2017-12-06</td>\n",
       "      <td>14.6200</td>\n",
       "      <td>NaN</td>\n",
       "    </tr>\n",
       "    <tr>\n",
       "      <th>Storage</th>\n",
       "      <td>2016-11-10</td>\n",
       "      <td>2016-11-10</td>\n",
       "      <td>22.3680</td>\n",
       "      <td>NaN</td>\n",
       "    </tr>\n",
       "  </tbody>\n",
       "</table>\n",
       "</div>"
      ],
      "text/plain": [
       "                             order_date                sales    \n",
       "                                    min        max      mean std\n",
       "category        sub_category                                    \n",
       "Furniture       Bookcases    2017-08-11 2017-08-11  261.9600 NaN\n",
       "                Chairs       2017-08-11 2017-08-11  731.9400 NaN\n",
       "                Tables       2016-11-10 2016-11-10  957.5775 NaN\n",
       "Office Supplies Labels       2017-12-06 2017-12-06   14.6200 NaN\n",
       "                Storage      2016-11-10 2016-11-10   22.3680 NaN"
      ]
     },
     "execution_count": 75,
     "metadata": {},
     "output_type": "execute_result"
    }
   ],
   "source": [
    "group_df.agg({'order_date':['min', 'max'], 'sales':['mean','std']})\n"
   ]
  },
  {
   "cell_type": "code",
   "execution_count": 76,
   "id": "dfb90341-87c7-472c-8a8d-b3aa86855de0",
   "metadata": {},
   "outputs": [
    {
     "data": {
      "text/plain": [
       "category         sub_category\n",
       "Furniture        Bookcases       261.9600\n",
       "                 Chairs          731.9400\n",
       "                 Tables          957.5775\n",
       "Office Supplies  Labels           14.6200\n",
       "                 Storage          22.3680\n",
       "Name: sales, dtype: float64"
      ]
     },
     "execution_count": 76,
     "metadata": {},
     "output_type": "execute_result"
    }
   ],
   "source": [
    "group_df['sales'].mean()"
   ]
  },
  {
   "cell_type": "markdown",
   "id": "1422377d-c8ff-491f-aaba-88d19bcac8e2",
   "metadata": {},
   "source": [
    "## Sử dụng filter"
   ]
  },
  {
   "cell_type": "code",
   "execution_count": 78,
   "id": "1585b079-4fb4-4635-b686-847a5cc7d852",
   "metadata": {},
   "outputs": [
    {
     "data": {
      "text/html": [
       "<div>\n",
       "<style scoped>\n",
       "    .dataframe tbody tr th:only-of-type {\n",
       "        vertical-align: middle;\n",
       "    }\n",
       "\n",
       "    .dataframe tbody tr th {\n",
       "        vertical-align: top;\n",
       "    }\n",
       "\n",
       "    .dataframe thead th {\n",
       "        text-align: right;\n",
       "    }\n",
       "</style>\n",
       "<table border=\"1\" class=\"dataframe\">\n",
       "  <thead>\n",
       "    <tr style=\"text-align: right;\">\n",
       "      <th></th>\n",
       "      <th>order_id</th>\n",
       "      <th>row_id</th>\n",
       "      <th>order_id.1</th>\n",
       "      <th>order_date</th>\n",
       "      <th>ship_date</th>\n",
       "      <th>ship_mode</th>\n",
       "      <th>customer_id</th>\n",
       "      <th>customer_name</th>\n",
       "      <th>segment</th>\n",
       "      <th>country</th>\n",
       "      <th>city</th>\n",
       "      <th>state</th>\n",
       "      <th>postal_code</th>\n",
       "      <th>region</th>\n",
       "      <th>product_id</th>\n",
       "      <th>category</th>\n",
       "      <th>sub_category</th>\n",
       "      <th>product_name</th>\n",
       "      <th>sales</th>\n",
       "      <th>unnamed:_19</th>\n",
       "    </tr>\n",
       "  </thead>\n",
       "  <tbody>\n",
       "    <tr>\n",
       "      <th>1</th>\n",
       "      <td>1</td>\n",
       "      <td>2</td>\n",
       "      <td>CA-2017-152156</td>\n",
       "      <td>2017-08-11</td>\n",
       "      <td>2017-11-11</td>\n",
       "      <td>Second Class</td>\n",
       "      <td>CG-12520</td>\n",
       "      <td>Claire Gute</td>\n",
       "      <td>Consumer</td>\n",
       "      <td>United States</td>\n",
       "      <td>Henderson</td>\n",
       "      <td>Kentucky</td>\n",
       "      <td>42420</td>\n",
       "      <td>South</td>\n",
       "      <td>FUR-CH-10000454</td>\n",
       "      <td>Furniture</td>\n",
       "      <td>Chairs</td>\n",
       "      <td>Hon Deluxe Fabric Upholstered Stacking Chairs,...</td>\n",
       "      <td>731.9400</td>\n",
       "      <td>NaN</td>\n",
       "    </tr>\n",
       "    <tr>\n",
       "      <th>3</th>\n",
       "      <td>3</td>\n",
       "      <td>4</td>\n",
       "      <td>US-2016-108966</td>\n",
       "      <td>2016-11-10</td>\n",
       "      <td>2017-11-11</td>\n",
       "      <td>Standard Class</td>\n",
       "      <td>SO-20335</td>\n",
       "      <td>Sean O'Donnell</td>\n",
       "      <td>Consumer</td>\n",
       "      <td>United States</td>\n",
       "      <td>Fort Lauderdale</td>\n",
       "      <td>Florida</td>\n",
       "      <td>33311</td>\n",
       "      <td>South</td>\n",
       "      <td>FUR-TA-10000577</td>\n",
       "      <td>Furniture</td>\n",
       "      <td>Tables</td>\n",
       "      <td>Bretford CR4500 Series Slim Rectangular Table</td>\n",
       "      <td>957.5775</td>\n",
       "      <td>NaN</td>\n",
       "    </tr>\n",
       "  </tbody>\n",
       "</table>\n",
       "</div>"
      ],
      "text/plain": [
       "   order_id  row_id      order_id.1 order_date  ship_date       ship_mode  \\\n",
       "1         1       2  CA-2017-152156 2017-08-11 2017-11-11    Second Class   \n",
       "3         3       4  US-2016-108966 2016-11-10 2017-11-11  Standard Class   \n",
       "\n",
       "  customer_id   customer_name   segment        country             city  \\\n",
       "1    CG-12520     Claire Gute  Consumer  United States        Henderson   \n",
       "3    SO-20335  Sean O'Donnell  Consumer  United States  Fort Lauderdale   \n",
       "\n",
       "      state  postal_code region       product_id   category sub_category  \\\n",
       "1  Kentucky        42420  South  FUR-CH-10000454  Furniture       Chairs   \n",
       "3   Florida        33311  South  FUR-TA-10000577  Furniture       Tables   \n",
       "\n",
       "                                        product_name     sales  unnamed:_19  \n",
       "1  Hon Deluxe Fabric Upholstered Stacking Chairs,...  731.9400          NaN  \n",
       "3      Bretford CR4500 Series Slim Rectangular Table  957.5775          NaN  "
      ]
     },
     "execution_count": 78,
     "metadata": {},
     "output_type": "execute_result"
    }
   ],
   "source": [
    "group_df.filter(lambda group : group['sales'].mean() >300\n",
    "               )"
   ]
  },
  {
   "cell_type": "markdown",
   "id": "fa74e27b-37e8-483a-a342-ee8de69418bd",
   "metadata": {},
   "source": [
    "## Built-in Transformation"
   ]
  },
  {
   "cell_type": "code",
   "execution_count": 3,
   "id": "93ccf5f3-f1d2-4e32-aeac-aaaa57d4e55b",
   "metadata": {},
   "outputs": [],
   "source": [
    "import pandas as pd\n",
    "\n",
    "df = pd.read_csv(\"C:/Users/Admin/OneDrive - ptit.edu.vn/Desktop/online_store_sales.csv\")"
   ]
  },
  {
   "cell_type": "code",
   "execution_count": 99,
   "id": "24c2953c-aebd-432b-b2b5-f9e8fdf34f47",
   "metadata": {},
   "outputs": [
    {
     "name": "stdout",
     "output_type": "stream",
     "text": [
      "<class 'pandas.core.frame.DataFrame'>\n",
      "RangeIndex: 5 entries, 0 to 4\n",
      "Data columns (total 20 columns):\n",
      " #   Column         Non-Null Count  Dtype  \n",
      "---  ------         --------------  -----  \n",
      " 0   Order ID       5 non-null      int64  \n",
      " 1   Row ID         5 non-null      int64  \n",
      " 2   Order ID.1     5 non-null      object \n",
      " 3   Order Date     5 non-null      object \n",
      " 4   Ship Date      5 non-null      object \n",
      " 5   Ship Mode      5 non-null      object \n",
      " 6   Customer ID    5 non-null      object \n",
      " 7   Customer Name  5 non-null      object \n",
      " 8   Segment        5 non-null      object \n",
      " 9   Country        5 non-null      object \n",
      " 10  City           5 non-null      object \n",
      " 11  State          5 non-null      object \n",
      " 12  Postal Code    5 non-null      int64  \n",
      " 13  Region         5 non-null      object \n",
      " 14  Product ID     5 non-null      object \n",
      " 15  Category       5 non-null      object \n",
      " 16  Sub-Category   5 non-null      object \n",
      " 17  Product Name   5 non-null      object \n",
      " 18  Sales          5 non-null      float64\n",
      " 19  Unnamed: 19    0 non-null      float64\n",
      "dtypes: float64(2), int64(3), object(15)\n",
      "memory usage: 932.0+ bytes\n"
     ]
    }
   ],
   "source": [
    "df.info()"
   ]
  },
  {
   "cell_type": "code",
   "execution_count": 84,
   "id": "ee9e4d39-dd05-4c6c-9550-5f08c42145b5",
   "metadata": {},
   "outputs": [],
   "source": [
    "# What comes to my mind immediately after looking at the dataset?\n",
    "\n",
    "# 1What are the different customer segments?\n",
    "# 2How many sales records do we have in the dataset?\n",
    "# 3What are the different product categories?\n",
    "# 4How many days on average it takes for the products to get shipped?\n",
    "# 5Are there more orders placed on weekends?\n",
    "# 6What is the minimum order amount and maximum order amount?\n",
    "# 7Which customer contributed to the maximum revenue in 2017 and how much?\n",
    "# 8What is the revenue generated in the year 2017?\n",
    "# 9Which region recorded maximum sales count?\n",
    "# 10Which product category is doing best? (revenue and count)"
   ]
  },
  {
   "cell_type": "code",
   "execution_count": 85,
   "id": "332b24aa-4a30-4eed-8f82-39ce74f9c7ff",
   "metadata": {},
   "outputs": [],
   "source": [
    "# Câu 1\n"
   ]
  },
  {
   "cell_type": "code",
   "execution_count": null,
   "id": "2cbe3a79-9a9f-48b6-b7fa-e510d9f58d9c",
   "metadata": {},
   "outputs": [],
   "source": []
  },
  {
   "cell_type": "code",
   "execution_count": 88,
   "id": "9f74b3e7-d135-42e7-a783-75f3136d61f3",
   "metadata": {},
   "outputs": [
    {
     "data": {
      "text/plain": [
       "Index(['order_id', 'row_id', 'order_id.1', 'order_date', 'ship_date',\n",
       "       'ship_mode', 'customer_id', 'customer_name', 'segment', 'country',\n",
       "       'city', 'state', 'postal_code', 'region', 'product_id', 'category',\n",
       "       'sub_category', 'product_name', 'sales', 'unnamed:_19'],\n",
       "      dtype='object')"
      ]
     },
     "execution_count": 88,
     "metadata": {},
     "output_type": "execute_result"
    }
   ],
   "source": [
    "col_names = [ col.strip().lower().replace(' ', '_').replace('-', '_') for col in df.columns ]\n",
    "\n",
    "df.columns = col_names\n",
    "\n",
    "df.columns"
   ]
  },
  {
   "cell_type": "markdown",
   "id": "956b4b2c-e217-4bd3-9324-a23d1483a3f6",
   "metadata": {},
   "source": [
    "## 1. What are the different customer segments?\n"
   ]
  },
  {
   "cell_type": "code",
   "execution_count": 87,
   "id": "73f8d548-8da5-4e2a-8762-b842d6b3ef80",
   "metadata": {},
   "outputs": [
    {
     "name": "stdout",
     "output_type": "stream",
     "text": [
      "Customer segments:  ['Consumer' 'Corporate']\n"
     ]
    }
   ],
   "source": [
    "print(\"Customer segments: \", df['segment'].unique())"
   ]
  },
  {
   "cell_type": "markdown",
   "id": "9e774935-0f97-4487-a02a-0798a204616e",
   "metadata": {},
   "source": [
    "## 2. How many sales records do we have in the dataset?"
   ]
  },
  {
   "cell_type": "code",
   "execution_count": 89,
   "id": "794945e1-b84c-4754-ab81-6d236fd13d2f",
   "metadata": {},
   "outputs": [
    {
     "name": "stdout",
     "output_type": "stream",
     "text": [
      "Total Sales Record:  5\n"
     ]
    }
   ],
   "source": [
    "print(\"Total Sales Record: \" , df.shape[0])"
   ]
  },
  {
   "cell_type": "markdown",
   "id": "b9d1e505-8a94-4efa-ba37-4e25b5d3e64a",
   "metadata": {},
   "source": [
    "## 3. What are the differnt product categories?"
   ]
  },
  {
   "cell_type": "code",
   "execution_count": 92,
   "id": "78df0844-ab85-4579-994f-af29708c6078",
   "metadata": {},
   "outputs": [
    {
     "name": "stdout",
     "output_type": "stream",
     "text": [
      "product categories:  ['Furniture' 'Office Supplies']\n"
     ]
    }
   ],
   "source": [
    "print(\"product categories: \" , df['category'].unique())"
   ]
  },
  {
   "cell_type": "markdown",
   "id": "e463287d-ec08-4398-ab62-9a721d5ca19a",
   "metadata": {},
   "source": [
    "## 4.How many days on average it takes for the products to get shipped?"
   ]
  },
  {
   "cell_type": "code",
   "execution_count": 148,
   "id": "010decf7-c3ef-43a5-b094-364e54082579",
   "metadata": {},
   "outputs": [
    {
     "name": "stdout",
     "output_type": "stream",
     "text": [
      "datetime64[ns]\n",
      "datetime64[ns]\n"
     ]
    },
    {
     "ename": "AttributeError",
     "evalue": "Can only use .dt accessor with datetimelike values",
     "output_type": "error",
     "traceback": [
      "\u001b[1;31m---------------------------------------------------------------------------\u001b[0m",
      "\u001b[1;31mAttributeError\u001b[0m                            Traceback (most recent call last)",
      "Cell \u001b[1;32mIn[148], line 7\u001b[0m\n\u001b[0;32m      4\u001b[0m \u001b[38;5;28mprint\u001b[39m(df[\u001b[38;5;124m'\u001b[39m\u001b[38;5;124mOrder Date\u001b[39m\u001b[38;5;124m'\u001b[39m]\u001b[38;5;241m.\u001b[39mdtype)\n\u001b[0;32m      6\u001b[0m df[\u001b[38;5;124m'\u001b[39m\u001b[38;5;124mship_time\u001b[39m\u001b[38;5;124m'\u001b[39m] \u001b[38;5;241m=\u001b[39m (df[\u001b[38;5;124m'\u001b[39m\u001b[38;5;124mShip Date\u001b[39m\u001b[38;5;124m'\u001b[39m] \u001b[38;5;241m-\u001b[39m df[\u001b[38;5;124m'\u001b[39m\u001b[38;5;124mOrder Date\u001b[39m\u001b[38;5;124m'\u001b[39m])\u001b[38;5;241m.\u001b[39mdt\u001b[38;5;241m.\u001b[39mdays\n\u001b[1;32m----> 7\u001b[0m df[\u001b[38;5;124m'\u001b[39m\u001b[38;5;124mship_time\u001b[39m\u001b[38;5;124m'\u001b[39m]\u001b[38;5;241m.\u001b[39mdt\u001b[38;5;241m.\u001b[39mdays\n",
      "File \u001b[1;32m~\\anaconda3\\Lib\\site-packages\\pandas\\core\\generic.py:6299\u001b[0m, in \u001b[0;36mNDFrame.__getattr__\u001b[1;34m(self, name)\u001b[0m\n\u001b[0;32m   6292\u001b[0m \u001b[38;5;28;01mif\u001b[39;00m (\n\u001b[0;32m   6293\u001b[0m     name \u001b[38;5;129;01mnot\u001b[39;00m \u001b[38;5;129;01min\u001b[39;00m \u001b[38;5;28mself\u001b[39m\u001b[38;5;241m.\u001b[39m_internal_names_set\n\u001b[0;32m   6294\u001b[0m     \u001b[38;5;129;01mand\u001b[39;00m name \u001b[38;5;129;01mnot\u001b[39;00m \u001b[38;5;129;01min\u001b[39;00m \u001b[38;5;28mself\u001b[39m\u001b[38;5;241m.\u001b[39m_metadata\n\u001b[0;32m   6295\u001b[0m     \u001b[38;5;129;01mand\u001b[39;00m name \u001b[38;5;129;01mnot\u001b[39;00m \u001b[38;5;129;01min\u001b[39;00m \u001b[38;5;28mself\u001b[39m\u001b[38;5;241m.\u001b[39m_accessors\n\u001b[0;32m   6296\u001b[0m     \u001b[38;5;129;01mand\u001b[39;00m \u001b[38;5;28mself\u001b[39m\u001b[38;5;241m.\u001b[39m_info_axis\u001b[38;5;241m.\u001b[39m_can_hold_identifiers_and_holds_name(name)\n\u001b[0;32m   6297\u001b[0m ):\n\u001b[0;32m   6298\u001b[0m     \u001b[38;5;28;01mreturn\u001b[39;00m \u001b[38;5;28mself\u001b[39m[name]\n\u001b[1;32m-> 6299\u001b[0m \u001b[38;5;28;01mreturn\u001b[39;00m \u001b[38;5;28mobject\u001b[39m\u001b[38;5;241m.\u001b[39m\u001b[38;5;21m__getattribute__\u001b[39m(\u001b[38;5;28mself\u001b[39m, name)\n",
      "File \u001b[1;32m~\\anaconda3\\Lib\\site-packages\\pandas\\core\\accessor.py:224\u001b[0m, in \u001b[0;36mCachedAccessor.__get__\u001b[1;34m(self, obj, cls)\u001b[0m\n\u001b[0;32m    221\u001b[0m \u001b[38;5;28;01mif\u001b[39;00m obj \u001b[38;5;129;01mis\u001b[39;00m \u001b[38;5;28;01mNone\u001b[39;00m:\n\u001b[0;32m    222\u001b[0m     \u001b[38;5;66;03m# we're accessing the attribute of the class, i.e., Dataset.geo\u001b[39;00m\n\u001b[0;32m    223\u001b[0m     \u001b[38;5;28;01mreturn\u001b[39;00m \u001b[38;5;28mself\u001b[39m\u001b[38;5;241m.\u001b[39m_accessor\n\u001b[1;32m--> 224\u001b[0m accessor_obj \u001b[38;5;241m=\u001b[39m \u001b[38;5;28mself\u001b[39m\u001b[38;5;241m.\u001b[39m_accessor(obj)\n\u001b[0;32m    225\u001b[0m \u001b[38;5;66;03m# Replace the property with the accessor object. Inspired by:\u001b[39;00m\n\u001b[0;32m    226\u001b[0m \u001b[38;5;66;03m# https://www.pydanny.com/cached-property.html\u001b[39;00m\n\u001b[0;32m    227\u001b[0m \u001b[38;5;66;03m# We need to use object.__setattr__ because we overwrite __setattr__ on\u001b[39;00m\n\u001b[0;32m    228\u001b[0m \u001b[38;5;66;03m# NDFrame\u001b[39;00m\n\u001b[0;32m    229\u001b[0m \u001b[38;5;28mobject\u001b[39m\u001b[38;5;241m.\u001b[39m\u001b[38;5;21m__setattr__\u001b[39m(obj, \u001b[38;5;28mself\u001b[39m\u001b[38;5;241m.\u001b[39m_name, accessor_obj)\n",
      "File \u001b[1;32m~\\anaconda3\\Lib\\site-packages\\pandas\\core\\indexes\\accessors.py:643\u001b[0m, in \u001b[0;36mCombinedDatetimelikeProperties.__new__\u001b[1;34m(cls, data)\u001b[0m\n\u001b[0;32m    640\u001b[0m \u001b[38;5;28;01melif\u001b[39;00m \u001b[38;5;28misinstance\u001b[39m(data\u001b[38;5;241m.\u001b[39mdtype, PeriodDtype):\n\u001b[0;32m    641\u001b[0m     \u001b[38;5;28;01mreturn\u001b[39;00m PeriodProperties(data, orig)\n\u001b[1;32m--> 643\u001b[0m \u001b[38;5;28;01mraise\u001b[39;00m \u001b[38;5;167;01mAttributeError\u001b[39;00m(\u001b[38;5;124m\"\u001b[39m\u001b[38;5;124mCan only use .dt accessor with datetimelike values\u001b[39m\u001b[38;5;124m\"\u001b[39m)\n",
      "\u001b[1;31mAttributeError\u001b[0m: Can only use .dt accessor with datetimelike values"
     ]
    }
   ],
   "source": [
    "\n",
    "\n",
    "df['Ship Date'] = pd.to_datetime(df['Ship Date'])\n",
    "df['Order Date'] = pd.to_datetime(df['Order Date'])\n",
    "print(df['Ship Date'].dtype)\n",
    "print(df['Order Date'].dtype)\n",
    "\n",
    "df['ship_time'] = (df['Ship Date'] - df['Order Date'])\n",
    "df['ship_time'].dt.days"
   ]
  },
  {
   "cell_type": "code",
   "execution_count": 133,
   "id": "6da975d9-3d58-4604-89d5-c7cb97a9b618",
   "metadata": {},
   "outputs": [
    {
     "data": {
      "text/html": [
       "<div>\n",
       "<style scoped>\n",
       "    .dataframe tbody tr th:only-of-type {\n",
       "        vertical-align: middle;\n",
       "    }\n",
       "\n",
       "    .dataframe tbody tr th {\n",
       "        vertical-align: top;\n",
       "    }\n",
       "\n",
       "    .dataframe thead th {\n",
       "        text-align: right;\n",
       "    }\n",
       "</style>\n",
       "<table border=\"1\" class=\"dataframe\">\n",
       "  <thead>\n",
       "    <tr style=\"text-align: right;\">\n",
       "      <th></th>\n",
       "      <th>Order ID</th>\n",
       "      <th>Row ID</th>\n",
       "      <th>Order ID.1</th>\n",
       "      <th>Order Date</th>\n",
       "      <th>Ship Date</th>\n",
       "      <th>Ship Mode</th>\n",
       "      <th>Customer ID</th>\n",
       "      <th>Customer Name</th>\n",
       "      <th>Segment</th>\n",
       "      <th>Country</th>\n",
       "      <th>...</th>\n",
       "      <th>State</th>\n",
       "      <th>Postal Code</th>\n",
       "      <th>Region</th>\n",
       "      <th>Product ID</th>\n",
       "      <th>Category</th>\n",
       "      <th>Sub-Category</th>\n",
       "      <th>Product Name</th>\n",
       "      <th>Sales</th>\n",
       "      <th>Unnamed: 19</th>\n",
       "      <th>ship_time</th>\n",
       "    </tr>\n",
       "  </thead>\n",
       "  <tbody>\n",
       "    <tr>\n",
       "      <th>0</th>\n",
       "      <td>0</td>\n",
       "      <td>1</td>\n",
       "      <td>CA-2017-152156</td>\n",
       "      <td>2017-08-11</td>\n",
       "      <td>2017-08-11</td>\n",
       "      <td>Second Class</td>\n",
       "      <td>CG-12520</td>\n",
       "      <td>Claire Gute</td>\n",
       "      <td>Consumer</td>\n",
       "      <td>United States</td>\n",
       "      <td>...</td>\n",
       "      <td>Kentucky</td>\n",
       "      <td>42420</td>\n",
       "      <td>South</td>\n",
       "      <td>FUR-BO-10001798</td>\n",
       "      <td>Furniture</td>\n",
       "      <td>Bookcases</td>\n",
       "      <td>Bush Somerset Collection Bookcase</td>\n",
       "      <td>261.9600</td>\n",
       "      <td>NaN</td>\n",
       "      <td>0</td>\n",
       "    </tr>\n",
       "    <tr>\n",
       "      <th>1</th>\n",
       "      <td>1</td>\n",
       "      <td>2</td>\n",
       "      <td>CA-2017-152156</td>\n",
       "      <td>2017-08-11</td>\n",
       "      <td>2017-08-11</td>\n",
       "      <td>Second Class</td>\n",
       "      <td>CG-12520</td>\n",
       "      <td>Claire Gute</td>\n",
       "      <td>Consumer</td>\n",
       "      <td>United States</td>\n",
       "      <td>...</td>\n",
       "      <td>Kentucky</td>\n",
       "      <td>42420</td>\n",
       "      <td>South</td>\n",
       "      <td>FUR-CH-10000454</td>\n",
       "      <td>Furniture</td>\n",
       "      <td>Chairs</td>\n",
       "      <td>Hon Deluxe Fabric Upholstered Stacking Chairs,...</td>\n",
       "      <td>731.9400</td>\n",
       "      <td>NaN</td>\n",
       "      <td>0</td>\n",
       "    </tr>\n",
       "    <tr>\n",
       "      <th>2</th>\n",
       "      <td>2</td>\n",
       "      <td>3</td>\n",
       "      <td>CA-2017-138688</td>\n",
       "      <td>2017-08-11</td>\n",
       "      <td>2017-08-11</td>\n",
       "      <td>Second Class</td>\n",
       "      <td>DV-13045</td>\n",
       "      <td>Darrin Van Huff</td>\n",
       "      <td>Corporate</td>\n",
       "      <td>United States</td>\n",
       "      <td>...</td>\n",
       "      <td>California</td>\n",
       "      <td>90036</td>\n",
       "      <td>West</td>\n",
       "      <td>OFF-LA-10000240</td>\n",
       "      <td>Office Supplies</td>\n",
       "      <td>Labels</td>\n",
       "      <td>Self-Adhesive Address Labels for Typewriters b...</td>\n",
       "      <td>14.6200</td>\n",
       "      <td>NaN</td>\n",
       "      <td>0</td>\n",
       "    </tr>\n",
       "    <tr>\n",
       "      <th>3</th>\n",
       "      <td>3</td>\n",
       "      <td>4</td>\n",
       "      <td>US-2016-108966</td>\n",
       "      <td>2017-08-11</td>\n",
       "      <td>2017-08-11</td>\n",
       "      <td>Standard Class</td>\n",
       "      <td>SO-20335</td>\n",
       "      <td>Sean O'Donnell</td>\n",
       "      <td>Consumer</td>\n",
       "      <td>United States</td>\n",
       "      <td>...</td>\n",
       "      <td>Florida</td>\n",
       "      <td>33311</td>\n",
       "      <td>South</td>\n",
       "      <td>FUR-TA-10000577</td>\n",
       "      <td>Furniture</td>\n",
       "      <td>Tables</td>\n",
       "      <td>Bretford CR4500 Series Slim Rectangular Table</td>\n",
       "      <td>957.5775</td>\n",
       "      <td>NaN</td>\n",
       "      <td>0</td>\n",
       "    </tr>\n",
       "    <tr>\n",
       "      <th>4</th>\n",
       "      <td>4</td>\n",
       "      <td>5</td>\n",
       "      <td>US-2016-108966</td>\n",
       "      <td>2017-08-11</td>\n",
       "      <td>2017-08-11</td>\n",
       "      <td>Standard Class</td>\n",
       "      <td>SO-20335</td>\n",
       "      <td>Sean O'Donnell</td>\n",
       "      <td>Consumer</td>\n",
       "      <td>United States</td>\n",
       "      <td>...</td>\n",
       "      <td>Florida</td>\n",
       "      <td>33311</td>\n",
       "      <td>South</td>\n",
       "      <td>OFF-ST-10000760</td>\n",
       "      <td>Office Supplies</td>\n",
       "      <td>Storage</td>\n",
       "      <td>Eldon Fold 'N Roll Cart System</td>\n",
       "      <td>22.3680</td>\n",
       "      <td>NaN</td>\n",
       "      <td>0</td>\n",
       "    </tr>\n",
       "  </tbody>\n",
       "</table>\n",
       "<p>5 rows × 21 columns</p>\n",
       "</div>"
      ],
      "text/plain": [
       "   Order ID  Row ID      Order ID.1 Order Date  Ship Date       Ship Mode  \\\n",
       "0         0       1  CA-2017-152156 2017-08-11 2017-08-11    Second Class   \n",
       "1         1       2  CA-2017-152156 2017-08-11 2017-08-11    Second Class   \n",
       "2         2       3  CA-2017-138688 2017-08-11 2017-08-11    Second Class   \n",
       "3         3       4  US-2016-108966 2017-08-11 2017-08-11  Standard Class   \n",
       "4         4       5  US-2016-108966 2017-08-11 2017-08-11  Standard Class   \n",
       "\n",
       "  Customer ID    Customer Name    Segment        Country  ...       State  \\\n",
       "0    CG-12520      Claire Gute   Consumer  United States  ...    Kentucky   \n",
       "1    CG-12520      Claire Gute   Consumer  United States  ...    Kentucky   \n",
       "2    DV-13045  Darrin Van Huff  Corporate  United States  ...  California   \n",
       "3    SO-20335   Sean O'Donnell   Consumer  United States  ...     Florida   \n",
       "4    SO-20335   Sean O'Donnell   Consumer  United States  ...     Florida   \n",
       "\n",
       "  Postal Code  Region       Product ID         Category Sub-Category  \\\n",
       "0       42420   South  FUR-BO-10001798        Furniture    Bookcases   \n",
       "1       42420   South  FUR-CH-10000454        Furniture       Chairs   \n",
       "2       90036    West  OFF-LA-10000240  Office Supplies       Labels   \n",
       "3       33311   South  FUR-TA-10000577        Furniture       Tables   \n",
       "4       33311   South  OFF-ST-10000760  Office Supplies      Storage   \n",
       "\n",
       "                                        Product Name     Sales  Unnamed: 19  \\\n",
       "0                  Bush Somerset Collection Bookcase  261.9600          NaN   \n",
       "1  Hon Deluxe Fabric Upholstered Stacking Chairs,...  731.9400          NaN   \n",
       "2  Self-Adhesive Address Labels for Typewriters b...   14.6200          NaN   \n",
       "3      Bretford CR4500 Series Slim Rectangular Table  957.5775          NaN   \n",
       "4                     Eldon Fold 'N Roll Cart System   22.3680          NaN   \n",
       "\n",
       "   ship_time  \n",
       "0          0  \n",
       "1          0  \n",
       "2          0  \n",
       "3          0  \n",
       "4          0  \n",
       "\n",
       "[5 rows x 21 columns]"
      ]
     },
     "execution_count": 133,
     "metadata": {},
     "output_type": "execute_result"
    }
   ],
   "source": [
    "df.head()"
   ]
  },
  {
   "cell_type": "code",
   "execution_count": 121,
   "id": "3595d34a-0016-403e-ba41-7fe3a7484356",
   "metadata": {},
   "outputs": [
    {
     "data": {
      "text/plain": [
       "dtype('int64')"
      ]
     },
     "execution_count": 121,
     "metadata": {},
     "output_type": "execute_result"
    }
   ],
   "source": []
  },
  {
   "cell_type": "code",
   "execution_count": 4,
   "id": "ec3e3742-2f09-4eee-bcb8-5cc28e45acda",
   "metadata": {},
   "outputs": [
    {
     "ename": "TypeError",
     "evalue": "unsupported operand type(s) for -: 'str' and 'str'",
     "output_type": "error",
     "traceback": [
      "\u001b[1;31m---------------------------------------------------------------------------\u001b[0m",
      "\u001b[1;31mTypeError\u001b[0m                                 Traceback (most recent call last)",
      "File \u001b[1;32m~\\anaconda3\\Lib\\site-packages\\pandas\\core\\ops\\array_ops.py:218\u001b[0m, in \u001b[0;36m_na_arithmetic_op\u001b[1;34m(left, right, op, is_cmp)\u001b[0m\n\u001b[0;32m    217\u001b[0m \u001b[38;5;28;01mtry\u001b[39;00m:\n\u001b[1;32m--> 218\u001b[0m     result \u001b[38;5;241m=\u001b[39m func(left, right)\n\u001b[0;32m    219\u001b[0m \u001b[38;5;28;01mexcept\u001b[39;00m \u001b[38;5;167;01mTypeError\u001b[39;00m:\n",
      "File \u001b[1;32m~\\anaconda3\\Lib\\site-packages\\pandas\\core\\computation\\expressions.py:242\u001b[0m, in \u001b[0;36mevaluate\u001b[1;34m(op, a, b, use_numexpr)\u001b[0m\n\u001b[0;32m    240\u001b[0m     \u001b[38;5;28;01mif\u001b[39;00m use_numexpr:\n\u001b[0;32m    241\u001b[0m         \u001b[38;5;66;03m# error: \"None\" not callable\u001b[39;00m\n\u001b[1;32m--> 242\u001b[0m         \u001b[38;5;28;01mreturn\u001b[39;00m _evaluate(op, op_str, a, b)  \u001b[38;5;66;03m# type: ignore[misc]\u001b[39;00m\n\u001b[0;32m    243\u001b[0m \u001b[38;5;28;01mreturn\u001b[39;00m _evaluate_standard(op, op_str, a, b)\n",
      "File \u001b[1;32m~\\anaconda3\\Lib\\site-packages\\pandas\\core\\computation\\expressions.py:131\u001b[0m, in \u001b[0;36m_evaluate_numexpr\u001b[1;34m(op, op_str, a, b)\u001b[0m\n\u001b[0;32m    130\u001b[0m \u001b[38;5;28;01mif\u001b[39;00m result \u001b[38;5;129;01mis\u001b[39;00m \u001b[38;5;28;01mNone\u001b[39;00m:\n\u001b[1;32m--> 131\u001b[0m     result \u001b[38;5;241m=\u001b[39m _evaluate_standard(op, op_str, a, b)\n\u001b[0;32m    133\u001b[0m \u001b[38;5;28;01mreturn\u001b[39;00m result\n",
      "File \u001b[1;32m~\\anaconda3\\Lib\\site-packages\\pandas\\core\\computation\\expressions.py:73\u001b[0m, in \u001b[0;36m_evaluate_standard\u001b[1;34m(op, op_str, a, b)\u001b[0m\n\u001b[0;32m     72\u001b[0m     _store_test_result(\u001b[38;5;28;01mFalse\u001b[39;00m)\n\u001b[1;32m---> 73\u001b[0m \u001b[38;5;28;01mreturn\u001b[39;00m op(a, b)\n",
      "\u001b[1;31mTypeError\u001b[0m: unsupported operand type(s) for -: 'str' and 'str'",
      "\nDuring handling of the above exception, another exception occurred:\n",
      "\u001b[1;31mTypeError\u001b[0m                                 Traceback (most recent call last)",
      "Cell \u001b[1;32mIn[4], line 1\u001b[0m\n\u001b[1;32m----> 1\u001b[0m df[\u001b[38;5;124m\"\u001b[39m\u001b[38;5;124mship_time\u001b[39m\u001b[38;5;124m\"\u001b[39m] \u001b[38;5;241m=\u001b[39m ( df[\u001b[38;5;124m\"\u001b[39m\u001b[38;5;124mOrder Date\u001b[39m\u001b[38;5;124m\"\u001b[39m] \u001b[38;5;241m-\u001b[39m df[\u001b[38;5;124m'\u001b[39m\u001b[38;5;124mShip Date\u001b[39m\u001b[38;5;124m'\u001b[39m]  )\u001b[38;5;241m.\u001b[39mdt\u001b[38;5;241m.\u001b[39mdays\n\u001b[0;32m      2\u001b[0m df\u001b[38;5;241m.\u001b[39mhead()\n",
      "File \u001b[1;32m~\\anaconda3\\Lib\\site-packages\\pandas\\core\\ops\\common.py:76\u001b[0m, in \u001b[0;36m_unpack_zerodim_and_defer.<locals>.new_method\u001b[1;34m(self, other)\u001b[0m\n\u001b[0;32m     72\u001b[0m             \u001b[38;5;28;01mreturn\u001b[39;00m \u001b[38;5;28mNotImplemented\u001b[39m\n\u001b[0;32m     74\u001b[0m other \u001b[38;5;241m=\u001b[39m item_from_zerodim(other)\n\u001b[1;32m---> 76\u001b[0m \u001b[38;5;28;01mreturn\u001b[39;00m method(\u001b[38;5;28mself\u001b[39m, other)\n",
      "File \u001b[1;32m~\\anaconda3\\Lib\\site-packages\\pandas\\core\\arraylike.py:194\u001b[0m, in \u001b[0;36mOpsMixin.__sub__\u001b[1;34m(self, other)\u001b[0m\n\u001b[0;32m    192\u001b[0m \u001b[38;5;129m@unpack_zerodim_and_defer\u001b[39m(\u001b[38;5;124m\"\u001b[39m\u001b[38;5;124m__sub__\u001b[39m\u001b[38;5;124m\"\u001b[39m)\n\u001b[0;32m    193\u001b[0m \u001b[38;5;28;01mdef\u001b[39;00m \u001b[38;5;21m__sub__\u001b[39m(\u001b[38;5;28mself\u001b[39m, other):\n\u001b[1;32m--> 194\u001b[0m     \u001b[38;5;28;01mreturn\u001b[39;00m \u001b[38;5;28mself\u001b[39m\u001b[38;5;241m.\u001b[39m_arith_method(other, operator\u001b[38;5;241m.\u001b[39msub)\n",
      "File \u001b[1;32m~\\anaconda3\\Lib\\site-packages\\pandas\\core\\series.py:6135\u001b[0m, in \u001b[0;36mSeries._arith_method\u001b[1;34m(self, other, op)\u001b[0m\n\u001b[0;32m   6133\u001b[0m \u001b[38;5;28;01mdef\u001b[39;00m \u001b[38;5;21m_arith_method\u001b[39m(\u001b[38;5;28mself\u001b[39m, other, op):\n\u001b[0;32m   6134\u001b[0m     \u001b[38;5;28mself\u001b[39m, other \u001b[38;5;241m=\u001b[39m \u001b[38;5;28mself\u001b[39m\u001b[38;5;241m.\u001b[39m_align_for_op(other)\n\u001b[1;32m-> 6135\u001b[0m     \u001b[38;5;28;01mreturn\u001b[39;00m base\u001b[38;5;241m.\u001b[39mIndexOpsMixin\u001b[38;5;241m.\u001b[39m_arith_method(\u001b[38;5;28mself\u001b[39m, other, op)\n",
      "File \u001b[1;32m~\\anaconda3\\Lib\\site-packages\\pandas\\core\\base.py:1382\u001b[0m, in \u001b[0;36mIndexOpsMixin._arith_method\u001b[1;34m(self, other, op)\u001b[0m\n\u001b[0;32m   1379\u001b[0m     rvalues \u001b[38;5;241m=\u001b[39m np\u001b[38;5;241m.\u001b[39marange(rvalues\u001b[38;5;241m.\u001b[39mstart, rvalues\u001b[38;5;241m.\u001b[39mstop, rvalues\u001b[38;5;241m.\u001b[39mstep)\n\u001b[0;32m   1381\u001b[0m \u001b[38;5;28;01mwith\u001b[39;00m np\u001b[38;5;241m.\u001b[39merrstate(\u001b[38;5;28mall\u001b[39m\u001b[38;5;241m=\u001b[39m\u001b[38;5;124m\"\u001b[39m\u001b[38;5;124mignore\u001b[39m\u001b[38;5;124m\"\u001b[39m):\n\u001b[1;32m-> 1382\u001b[0m     result \u001b[38;5;241m=\u001b[39m ops\u001b[38;5;241m.\u001b[39marithmetic_op(lvalues, rvalues, op)\n\u001b[0;32m   1384\u001b[0m \u001b[38;5;28;01mreturn\u001b[39;00m \u001b[38;5;28mself\u001b[39m\u001b[38;5;241m.\u001b[39m_construct_result(result, name\u001b[38;5;241m=\u001b[39mres_name)\n",
      "File \u001b[1;32m~\\anaconda3\\Lib\\site-packages\\pandas\\core\\ops\\array_ops.py:283\u001b[0m, in \u001b[0;36marithmetic_op\u001b[1;34m(left, right, op)\u001b[0m\n\u001b[0;32m    279\u001b[0m     _bool_arith_check(op, left, right)  \u001b[38;5;66;03m# type: ignore[arg-type]\u001b[39;00m\n\u001b[0;32m    281\u001b[0m     \u001b[38;5;66;03m# error: Argument 1 to \"_na_arithmetic_op\" has incompatible type\u001b[39;00m\n\u001b[0;32m    282\u001b[0m     \u001b[38;5;66;03m# \"Union[ExtensionArray, ndarray[Any, Any]]\"; expected \"ndarray[Any, Any]\"\u001b[39;00m\n\u001b[1;32m--> 283\u001b[0m     res_values \u001b[38;5;241m=\u001b[39m _na_arithmetic_op(left, right, op)  \u001b[38;5;66;03m# type: ignore[arg-type]\u001b[39;00m\n\u001b[0;32m    285\u001b[0m \u001b[38;5;28;01mreturn\u001b[39;00m res_values\n",
      "File \u001b[1;32m~\\anaconda3\\Lib\\site-packages\\pandas\\core\\ops\\array_ops.py:227\u001b[0m, in \u001b[0;36m_na_arithmetic_op\u001b[1;34m(left, right, op, is_cmp)\u001b[0m\n\u001b[0;32m    219\u001b[0m \u001b[38;5;28;01mexcept\u001b[39;00m \u001b[38;5;167;01mTypeError\u001b[39;00m:\n\u001b[0;32m    220\u001b[0m     \u001b[38;5;28;01mif\u001b[39;00m \u001b[38;5;129;01mnot\u001b[39;00m is_cmp \u001b[38;5;129;01mand\u001b[39;00m (\n\u001b[0;32m    221\u001b[0m         left\u001b[38;5;241m.\u001b[39mdtype \u001b[38;5;241m==\u001b[39m \u001b[38;5;28mobject\u001b[39m \u001b[38;5;129;01mor\u001b[39;00m \u001b[38;5;28mgetattr\u001b[39m(right, \u001b[38;5;124m\"\u001b[39m\u001b[38;5;124mdtype\u001b[39m\u001b[38;5;124m\"\u001b[39m, \u001b[38;5;28;01mNone\u001b[39;00m) \u001b[38;5;241m==\u001b[39m \u001b[38;5;28mobject\u001b[39m\n\u001b[0;32m    222\u001b[0m     ):\n\u001b[1;32m   (...)\u001b[0m\n\u001b[0;32m    225\u001b[0m         \u001b[38;5;66;03m# Don't do this for comparisons, as that will handle complex numbers\u001b[39;00m\n\u001b[0;32m    226\u001b[0m         \u001b[38;5;66;03m#  incorrectly, see GH#32047\u001b[39;00m\n\u001b[1;32m--> 227\u001b[0m         result \u001b[38;5;241m=\u001b[39m _masked_arith_op(left, right, op)\n\u001b[0;32m    228\u001b[0m     \u001b[38;5;28;01melse\u001b[39;00m:\n\u001b[0;32m    229\u001b[0m         \u001b[38;5;28;01mraise\u001b[39;00m\n",
      "File \u001b[1;32m~\\anaconda3\\Lib\\site-packages\\pandas\\core\\ops\\array_ops.py:163\u001b[0m, in \u001b[0;36m_masked_arith_op\u001b[1;34m(x, y, op)\u001b[0m\n\u001b[0;32m    161\u001b[0m     \u001b[38;5;66;03m# See GH#5284, GH#5035, GH#19448 for historical reference\u001b[39;00m\n\u001b[0;32m    162\u001b[0m     \u001b[38;5;28;01mif\u001b[39;00m mask\u001b[38;5;241m.\u001b[39many():\n\u001b[1;32m--> 163\u001b[0m         result[mask] \u001b[38;5;241m=\u001b[39m op(xrav[mask], yrav[mask])\n\u001b[0;32m    165\u001b[0m \u001b[38;5;28;01melse\u001b[39;00m:\n\u001b[0;32m    166\u001b[0m     \u001b[38;5;28;01mif\u001b[39;00m \u001b[38;5;129;01mnot\u001b[39;00m is_scalar(y):\n",
      "\u001b[1;31mTypeError\u001b[0m: unsupported operand type(s) for -: 'str' and 'str'"
     ]
    }
   ],
   "source": [
    "df[\"ship_time\"] = ( df[\"Order Date\"] - df['Ship Date']  ).dt.days\n",
    "df.head()"
   ]
  },
  {
   "cell_type": "code",
   "execution_count": 7,
   "id": "42728185-5529-4b6d-b662-59b8e085a776",
   "metadata": {},
   "outputs": [],
   "source": [
    "df['Order Date'] =pd.to_datetime( df['Order Date'])"
   ]
  },
  {
   "cell_type": "code",
   "execution_count": 8,
   "id": "c4c4358d-79c9-4dbc-a95a-9873782bfede",
   "metadata": {},
   "outputs": [
    {
     "data": {
      "text/plain": [
       "Index(['order_id', 'row_id', 'order_id.1', 'order_date', 'ship_date',\n",
       "       'ship_mode', 'customer_id', 'customer_name', 'segment', 'country',\n",
       "       'city', 'state', 'postal_code', 'region', 'product_id', 'category',\n",
       "       'sub_category', 'product_name', 'sales', 'unnamed:_19'],\n",
       "      dtype='object')"
      ]
     },
     "execution_count": 8,
     "metadata": {},
     "output_type": "execute_result"
    }
   ],
   "source": [
    "col_names = [ col.strip().lower().replace(' ', '_').replace('-', '_') for col in df.columns ]\n",
    "\n",
    "df.columns = col_names\n",
    "\n",
    "df.columns"
   ]
  },
  {
   "cell_type": "code",
   "execution_count": 9,
   "id": "40f3783e-f8c2-41ec-ac51-3b7c0eb439a8",
   "metadata": {},
   "outputs": [
    {
     "data": {
      "text/plain": [
       "Index(['order_id', 'row_id', 'order_id.1', 'order_date', 'ship_date',\n",
       "       'ship_mode', 'customer_id', 'customer_name', 'segment', 'country',\n",
       "       'city', 'state', 'postal_code', 'region', 'product_id', 'category',\n",
       "       'sub_category', 'product_name', 'sales', 'unnamed:_19'],\n",
       "      dtype='object')"
      ]
     },
     "execution_count": 9,
     "metadata": {},
     "output_type": "execute_result"
    }
   ],
   "source": [
    "df.columns"
   ]
  },
  {
   "cell_type": "markdown",
   "id": "02af7c42-090f-4d26-8745-2b20e8d2f637",
   "metadata": {},
   "source": [
    "## 5. Are there more orders placed on weekends?\n",
    "\n",
    "    "
   ]
  },
  {
   "cell_type": "code",
   "execution_count": 10,
   "id": "4818ddc0-80f5-451b-b3a7-645a2088f70b",
   "metadata": {},
   "outputs": [
    {
     "data": {
      "text/plain": [
       "0       Friday\n",
       "1       Friday\n",
       "2    Wednesday\n",
       "3     Thursday\n",
       "4     Thursday\n",
       "Name: order_date, dtype: object"
      ]
     },
     "execution_count": 10,
     "metadata": {},
     "output_type": "execute_result"
    }
   ],
   "source": [
    "df['order_date'].dt.day_name() # hiện ra các ngyaf trong tuần"
   ]
  },
  {
   "cell_type": "code",
   "execution_count": 14,
   "id": "96f1d1d1-edf9-4e17-8551-2c1e38781321",
   "metadata": {},
   "outputs": [
    {
     "data": {
      "text/plain": [
       "week_day\n",
       "Friday       2\n",
       "Thursday     2\n",
       "Wednesday    1\n",
       "Name: count, dtype: int64"
      ]
     },
     "execution_count": 14,
     "metadata": {},
     "output_type": "execute_result"
    }
   ],
   "source": [
    "df['week_day'] = df['order_date'].dt.day_name()\n",
    "df['week_day'].value_counts()\n"
   ]
  },
  {
   "cell_type": "code",
   "execution_count": 16,
   "id": "34f985ae-9ba1-4888-8e8d-3651d7344a6b",
   "metadata": {},
   "outputs": [
    {
     "data": {
      "text/plain": [
       "{'Friday': [0, 1], 'Thursday': [3, 4], 'Wednesday': [2]}"
      ]
     },
     "execution_count": 16,
     "metadata": {},
     "output_type": "execute_result"
    }
   ],
   "source": [
    "grouped_df = df.groupby(\"week_day\")\n",
    "grouped_df.groups"
   ]
  },
  {
   "cell_type": "code",
   "execution_count": 17,
   "id": "58c96561-e5f2-4a35-83b5-4c1e72ed990d",
   "metadata": {},
   "outputs": [
    {
     "data": {
      "text/plain": [
       "week_day\n",
       "Friday       2\n",
       "Thursday     2\n",
       "Wednesday    1\n",
       "Name: week_day, dtype: int64"
      ]
     },
     "execution_count": 17,
     "metadata": {},
     "output_type": "execute_result"
    }
   ],
   "source": [
    "grouped_df['week_day'].count().sort_values(ascending = False)\n"
   ]
  },
  {
   "cell_type": "code",
   "execution_count": 18,
   "id": "ff87962e-53db-4b82-ae6f-f1600a69dc42",
   "metadata": {},
   "outputs": [
    {
     "data": {
      "text/plain": [
       "week_day\n",
       "Friday       993.9000\n",
       "Thursday     979.9455\n",
       "Wednesday     14.6200\n",
       "Name: sales, dtype: float64"
      ]
     },
     "execution_count": 18,
     "metadata": {},
     "output_type": "execute_result"
    }
   ],
   "source": [
    "# sum\n",
    "grouped_df['sales'].sum().sort_values(ascending=False)"
   ]
  },
  {
   "cell_type": "markdown",
   "id": "386f9ed3-3bc0-40de-bcf3-a8f5c0b7820d",
   "metadata": {},
   "source": [
    "## 6. What is the minumum order amount and maximum order amount?\n"
   ]
  },
  {
   "cell_type": "code",
   "execution_count": 19,
   "id": "69a73bbb-6871-4936-a3fa-10b67f90c0d6",
   "metadata": {},
   "outputs": [
    {
     "data": {
      "text/html": [
       "<div>\n",
       "<style scoped>\n",
       "    .dataframe tbody tr th:only-of-type {\n",
       "        vertical-align: middle;\n",
       "    }\n",
       "\n",
       "    .dataframe tbody tr th {\n",
       "        vertical-align: top;\n",
       "    }\n",
       "\n",
       "    .dataframe thead th {\n",
       "        text-align: right;\n",
       "    }\n",
       "</style>\n",
       "<table border=\"1\" class=\"dataframe\">\n",
       "  <thead>\n",
       "    <tr style=\"text-align: right;\">\n",
       "      <th></th>\n",
       "      <th>order_id</th>\n",
       "      <th>row_id</th>\n",
       "      <th>order_id.1</th>\n",
       "      <th>order_date</th>\n",
       "      <th>ship_date</th>\n",
       "      <th>ship_mode</th>\n",
       "      <th>customer_id</th>\n",
       "      <th>customer_name</th>\n",
       "      <th>segment</th>\n",
       "      <th>country</th>\n",
       "      <th>...</th>\n",
       "      <th>state</th>\n",
       "      <th>postal_code</th>\n",
       "      <th>region</th>\n",
       "      <th>product_id</th>\n",
       "      <th>category</th>\n",
       "      <th>sub_category</th>\n",
       "      <th>product_name</th>\n",
       "      <th>sales</th>\n",
       "      <th>unnamed:_19</th>\n",
       "      <th>week_day</th>\n",
       "    </tr>\n",
       "  </thead>\n",
       "  <tbody>\n",
       "    <tr>\n",
       "      <th>0</th>\n",
       "      <td>0</td>\n",
       "      <td>1</td>\n",
       "      <td>CA-2017-152156</td>\n",
       "      <td>2017-08-11</td>\n",
       "      <td>11/11/2017</td>\n",
       "      <td>Second Class</td>\n",
       "      <td>CG-12520</td>\n",
       "      <td>Claire Gute</td>\n",
       "      <td>Consumer</td>\n",
       "      <td>United States</td>\n",
       "      <td>...</td>\n",
       "      <td>Kentucky</td>\n",
       "      <td>42420</td>\n",
       "      <td>South</td>\n",
       "      <td>FUR-BO-10001798</td>\n",
       "      <td>Furniture</td>\n",
       "      <td>Bookcases</td>\n",
       "      <td>Bush Somerset Collection Bookcase</td>\n",
       "      <td>261.9600</td>\n",
       "      <td>NaN</td>\n",
       "      <td>Friday</td>\n",
       "    </tr>\n",
       "    <tr>\n",
       "      <th>1</th>\n",
       "      <td>1</td>\n",
       "      <td>2</td>\n",
       "      <td>CA-2017-152156</td>\n",
       "      <td>2017-08-11</td>\n",
       "      <td>11/11/2017</td>\n",
       "      <td>Second Class</td>\n",
       "      <td>CG-12520</td>\n",
       "      <td>Claire Gute</td>\n",
       "      <td>Consumer</td>\n",
       "      <td>United States</td>\n",
       "      <td>...</td>\n",
       "      <td>Kentucky</td>\n",
       "      <td>42420</td>\n",
       "      <td>South</td>\n",
       "      <td>FUR-CH-10000454</td>\n",
       "      <td>Furniture</td>\n",
       "      <td>Chairs</td>\n",
       "      <td>Hon Deluxe Fabric Upholstered Stacking Chairs,...</td>\n",
       "      <td>731.9400</td>\n",
       "      <td>NaN</td>\n",
       "      <td>Friday</td>\n",
       "    </tr>\n",
       "    <tr>\n",
       "      <th>2</th>\n",
       "      <td>2</td>\n",
       "      <td>3</td>\n",
       "      <td>CA-2017-138688</td>\n",
       "      <td>2017-12-06</td>\n",
       "      <td>16/06/2017</td>\n",
       "      <td>Second Class</td>\n",
       "      <td>DV-13045</td>\n",
       "      <td>Darrin Van Huff</td>\n",
       "      <td>Corporate</td>\n",
       "      <td>United States</td>\n",
       "      <td>...</td>\n",
       "      <td>California</td>\n",
       "      <td>90036</td>\n",
       "      <td>West</td>\n",
       "      <td>OFF-LA-10000240</td>\n",
       "      <td>Office Supplies</td>\n",
       "      <td>Labels</td>\n",
       "      <td>Self-Adhesive Address Labels for Typewriters b...</td>\n",
       "      <td>14.6200</td>\n",
       "      <td>NaN</td>\n",
       "      <td>Wednesday</td>\n",
       "    </tr>\n",
       "    <tr>\n",
       "      <th>3</th>\n",
       "      <td>3</td>\n",
       "      <td>4</td>\n",
       "      <td>US-2016-108966</td>\n",
       "      <td>2016-11-10</td>\n",
       "      <td>18/10/2016</td>\n",
       "      <td>Standard Class</td>\n",
       "      <td>SO-20335</td>\n",
       "      <td>Sean O'Donnell</td>\n",
       "      <td>Consumer</td>\n",
       "      <td>United States</td>\n",
       "      <td>...</td>\n",
       "      <td>Florida</td>\n",
       "      <td>33311</td>\n",
       "      <td>South</td>\n",
       "      <td>FUR-TA-10000577</td>\n",
       "      <td>Furniture</td>\n",
       "      <td>Tables</td>\n",
       "      <td>Bretford CR4500 Series Slim Rectangular Table</td>\n",
       "      <td>957.5775</td>\n",
       "      <td>NaN</td>\n",
       "      <td>Thursday</td>\n",
       "    </tr>\n",
       "    <tr>\n",
       "      <th>4</th>\n",
       "      <td>4</td>\n",
       "      <td>5</td>\n",
       "      <td>US-2016-108966</td>\n",
       "      <td>2016-11-10</td>\n",
       "      <td>18/10/2016</td>\n",
       "      <td>Standard Class</td>\n",
       "      <td>SO-20335</td>\n",
       "      <td>Sean O'Donnell</td>\n",
       "      <td>Consumer</td>\n",
       "      <td>United States</td>\n",
       "      <td>...</td>\n",
       "      <td>Florida</td>\n",
       "      <td>33311</td>\n",
       "      <td>South</td>\n",
       "      <td>OFF-ST-10000760</td>\n",
       "      <td>Office Supplies</td>\n",
       "      <td>Storage</td>\n",
       "      <td>Eldon Fold 'N Roll Cart System</td>\n",
       "      <td>22.3680</td>\n",
       "      <td>NaN</td>\n",
       "      <td>Thursday</td>\n",
       "    </tr>\n",
       "  </tbody>\n",
       "</table>\n",
       "<p>5 rows × 21 columns</p>\n",
       "</div>"
      ],
      "text/plain": [
       "   order_id  row_id      order_id.1 order_date   ship_date       ship_mode  \\\n",
       "0         0       1  CA-2017-152156 2017-08-11  11/11/2017    Second Class   \n",
       "1         1       2  CA-2017-152156 2017-08-11  11/11/2017    Second Class   \n",
       "2         2       3  CA-2017-138688 2017-12-06  16/06/2017    Second Class   \n",
       "3         3       4  US-2016-108966 2016-11-10  18/10/2016  Standard Class   \n",
       "4         4       5  US-2016-108966 2016-11-10  18/10/2016  Standard Class   \n",
       "\n",
       "  customer_id    customer_name    segment        country  ...       state  \\\n",
       "0    CG-12520      Claire Gute   Consumer  United States  ...    Kentucky   \n",
       "1    CG-12520      Claire Gute   Consumer  United States  ...    Kentucky   \n",
       "2    DV-13045  Darrin Van Huff  Corporate  United States  ...  California   \n",
       "3    SO-20335   Sean O'Donnell   Consumer  United States  ...     Florida   \n",
       "4    SO-20335   Sean O'Donnell   Consumer  United States  ...     Florida   \n",
       "\n",
       "  postal_code  region       product_id         category sub_category  \\\n",
       "0       42420   South  FUR-BO-10001798        Furniture    Bookcases   \n",
       "1       42420   South  FUR-CH-10000454        Furniture       Chairs   \n",
       "2       90036    West  OFF-LA-10000240  Office Supplies       Labels   \n",
       "3       33311   South  FUR-TA-10000577        Furniture       Tables   \n",
       "4       33311   South  OFF-ST-10000760  Office Supplies      Storage   \n",
       "\n",
       "                                        product_name     sales  unnamed:_19  \\\n",
       "0                  Bush Somerset Collection Bookcase  261.9600          NaN   \n",
       "1  Hon Deluxe Fabric Upholstered Stacking Chairs,...  731.9400          NaN   \n",
       "2  Self-Adhesive Address Labels for Typewriters b...   14.6200          NaN   \n",
       "3      Bretford CR4500 Series Slim Rectangular Table  957.5775          NaN   \n",
       "4                     Eldon Fold 'N Roll Cart System   22.3680          NaN   \n",
       "\n",
       "    week_day  \n",
       "0     Friday  \n",
       "1     Friday  \n",
       "2  Wednesday  \n",
       "3   Thursday  \n",
       "4   Thursday  \n",
       "\n",
       "[5 rows x 21 columns]"
      ]
     },
     "execution_count": 19,
     "metadata": {},
     "output_type": "execute_result"
    }
   ],
   "source": [
    "df.head()"
   ]
  },
  {
   "cell_type": "code",
   "execution_count": 24,
   "id": "701dece3-18a8-440a-9091-7daf1b944da7",
   "metadata": {},
   "outputs": [],
   "source": [
    "group_df = df.groupby(\"order_id.1\")"
   ]
  },
  {
   "cell_type": "code",
   "execution_count": 25,
   "id": "638a0b6c-e14e-45ac-aba4-8dd7ec33d99f",
   "metadata": {},
   "outputs": [
    {
     "name": "stdout",
     "output_type": "stream",
     "text": [
      "Minimum Order Amount:  order_id.1\n",
      "CA-2017-138688     14.620\n",
      "CA-2017-152156    261.960\n",
      "US-2016-108966     22.368\n",
      "Name: sales, dtype: float64\n",
      "Maximum Order Amount:  order_id.1\n",
      "CA-2017-138688     14.6200\n",
      "CA-2017-152156    731.9400\n",
      "US-2016-108966    957.5775\n",
      "Name: sales, dtype: float64\n"
     ]
    }
   ],
   "source": [
    "print(\"Minimum Order Amount: \", group_df[\"sales\"].min())\n",
    "print(\"Maximum Order Amount: \", group_df[\"sales\"].max())"
   ]
  },
  {
   "cell_type": "code",
   "execution_count": 26,
   "id": "d6f89118-0f45-4b7a-9284-ea06687d48c2",
   "metadata": {},
   "outputs": [
    {
     "data": {
      "text/html": [
       "<div>\n",
       "<style scoped>\n",
       "    .dataframe tbody tr th:only-of-type {\n",
       "        vertical-align: middle;\n",
       "    }\n",
       "\n",
       "    .dataframe tbody tr th {\n",
       "        vertical-align: top;\n",
       "    }\n",
       "\n",
       "    .dataframe thead th {\n",
       "        text-align: right;\n",
       "    }\n",
       "</style>\n",
       "<table border=\"1\" class=\"dataframe\">\n",
       "  <thead>\n",
       "    <tr style=\"text-align: right;\">\n",
       "      <th></th>\n",
       "      <th>week_day</th>\n",
       "      <th>sales</th>\n",
       "    </tr>\n",
       "  </thead>\n",
       "  <tbody>\n",
       "    <tr>\n",
       "      <th>0</th>\n",
       "      <td>Friday</td>\n",
       "      <td>993.9000</td>\n",
       "    </tr>\n",
       "    <tr>\n",
       "      <th>1</th>\n",
       "      <td>Thursday</td>\n",
       "      <td>979.9455</td>\n",
       "    </tr>\n",
       "    <tr>\n",
       "      <th>2</th>\n",
       "      <td>Wednesday</td>\n",
       "      <td>14.6200</td>\n",
       "    </tr>\n",
       "  </tbody>\n",
       "</table>\n",
       "</div>"
      ],
      "text/plain": [
       "    week_day     sales\n",
       "0     Friday  993.9000\n",
       "1   Thursday  979.9455\n",
       "2  Wednesday   14.6200"
      ]
     },
     "execution_count": 26,
     "metadata": {},
     "output_type": "execute_result"
    }
   ],
   "source": [
    "# tôi lấy được dữ liệu và tôi muốn dứa nó vào bảng\n",
    "order_df = grouped_df['sales'].sum()\n",
    "\n",
    "order_df = order_df.reset_index()\n",
    "\n",
    "order_df.head()"
   ]
  },
  {
   "cell_type": "markdown",
   "id": "5437b98f-a51b-4cfb-aadc-c643551b8b7f",
   "metadata": {},
   "source": [
    "## 7. What is the revenue generated in the year 2017?"
   ]
  },
  {
   "cell_type": "code",
   "execution_count": 27,
   "id": "57023141-4936-4208-828b-45502dc54ffb",
   "metadata": {},
   "outputs": [],
   "source": [
    "df['order_year'] = df['order_date'].dt.year"
   ]
  },
  {
   "cell_type": "code",
   "execution_count": 28,
   "id": "79b9cc97-8234-4f15-a3db-6e1390390189",
   "metadata": {},
   "outputs": [
    {
     "data": {
      "text/plain": [
       "1008.5200000000001"
      ]
     },
     "execution_count": 28,
     "metadata": {},
     "output_type": "execute_result"
    }
   ],
   "source": [
    "df.loc[df['order_year'] == 2017, 'sales'].sum()"
   ]
  },
  {
   "cell_type": "code",
   "execution_count": 30,
   "id": "62400d81-a467-4c52-a9be-2963b0f2d019",
   "metadata": {},
   "outputs": [
    {
     "data": {
      "text/plain": [
       "order_year\n",
       "2016     979.9455\n",
       "2017    1008.5200\n",
       "Name: sales, dtype: float64"
      ]
     },
     "execution_count": 30,
     "metadata": {},
     "output_type": "execute_result"
    }
   ],
   "source": [
    "# cách 2 sử dụng groupby order_year nó không chỉ hiện 2017 nó còn hiện các năm\n",
    "grouped_df = df.groupby(['order_year'])\n",
    "\n",
    "grouped_df['sales'].sum()"
   ]
  },
  {
   "cell_type": "markdown",
   "id": "5cc3f32a-a0d1-4df7-b93c-bd19b2bcc71a",
   "metadata": {},
   "source": [
    "## 8. Which Customer contributed to the maximum revenue in 2017 and how much"
   ]
  },
  {
   "cell_type": "code",
   "execution_count": 32,
   "id": "bf8ef094-f6f0-4e39-8555-bc9322163b47",
   "metadata": {},
   "outputs": [
    {
     "data": {
      "text/plain": [
       "order_year  customer_id\n",
       "2016        SO-20335       979.9455\n",
       "2017        CG-12520       993.9000\n",
       "            DV-13045        14.6200\n",
       "Name: sales, dtype: float64"
      ]
     },
     "execution_count": 32,
     "metadata": {},
     "output_type": "execute_result"
    }
   ],
   "source": [
    "grouped_df = df.groupby(['order_year', 'customer_id'])\n",
    "grouped_df['sales'].sum()"
   ]
  },
  {
   "cell_type": "code",
   "execution_count": 34,
   "id": "fd5023de-cfdd-428a-b2bf-9640cd21dd4e",
   "metadata": {},
   "outputs": [
    {
     "data": {
      "text/plain": [
       "order_year  customer_id\n",
       "2016        SO-20335       979.9455\n",
       "2017        CG-12520       993.9000\n",
       "            DV-13045        14.6200\n",
       "Name: sales, dtype: float64"
      ]
     },
     "execution_count": 34,
     "metadata": {},
     "output_type": "execute_result"
    }
   ],
   "source": [
    "# method 2 \n",
    "sale_2017 = grouped_df['sales'].sum()\n",
    "sale_2017"
   ]
  },
  {
   "cell_type": "code",
   "execution_count": 36,
   "id": "95a8818b-d522-4d0f-a331-d4162bd849cd",
   "metadata": {},
   "outputs": [
    {
     "data": {
      "text/plain": [
       "993.9000000000001"
      ]
     },
     "execution_count": 36,
     "metadata": {},
     "output_type": "execute_result"
    }
   ],
   "source": [
    "sale_2017.loc[2017].max()"
   ]
  },
  {
   "cell_type": "code",
   "execution_count": 37,
   "id": "7ed51c14-f1cb-4074-a8b6-69a1698de29b",
   "metadata": {},
   "outputs": [
    {
     "data": {
      "text/plain": [
       "customer_id\n",
       "DV-13045     14.62\n",
       "CG-12520    993.90\n",
       "Name: sales, dtype: float64"
      ]
     },
     "execution_count": 37,
     "metadata": {},
     "output_type": "execute_result"
    }
   ],
   "source": [
    "sale_2017.loc[2017].sort_values()"
   ]
  },
  {
   "cell_type": "markdown",
   "id": "5d182dfb-f8f7-418b-83ac-8adf0b2870b6",
   "metadata": {},
   "source": [
    "## 9. Who is the customer with custome_id == TC-20980"
   ]
  },
  {
   "cell_type": "code",
   "execution_count": 39,
   "id": "871cc719-e487-4298-be25-3b5ca4bb092d",
   "metadata": {},
   "outputs": [
    {
     "data": {
      "text/html": [
       "<div>\n",
       "<style scoped>\n",
       "    .dataframe tbody tr th:only-of-type {\n",
       "        vertical-align: middle;\n",
       "    }\n",
       "\n",
       "    .dataframe tbody tr th {\n",
       "        vertical-align: top;\n",
       "    }\n",
       "\n",
       "    .dataframe thead th {\n",
       "        text-align: right;\n",
       "    }\n",
       "</style>\n",
       "<table border=\"1\" class=\"dataframe\">\n",
       "  <thead>\n",
       "    <tr style=\"text-align: right;\">\n",
       "      <th></th>\n",
       "      <th>order_date</th>\n",
       "      <th>customer_name</th>\n",
       "      <th>city</th>\n",
       "      <th>state</th>\n",
       "      <th>postal_code</th>\n",
       "    </tr>\n",
       "  </thead>\n",
       "  <tbody>\n",
       "  </tbody>\n",
       "</table>\n",
       "</div>"
      ],
      "text/plain": [
       "Empty DataFrame\n",
       "Columns: [order_date, customer_name, city, state, postal_code]\n",
       "Index: []"
      ]
     },
     "execution_count": 39,
     "metadata": {},
     "output_type": "execute_result"
    }
   ],
   "source": [
    "df.loc[(df.customer_id == 'TC-20980') , ['order_date', 'customer_name', 'city', 'state', 'postal_code']]"
   ]
  },
  {
   "cell_type": "markdown",
   "id": "83cfb2e9-fc68-47ca-9f73-9f7ade6679e0",
   "metadata": {},
   "source": [
    "## 10.Which region recorded maximym sales count?\n"
   ]
  },
  {
   "cell_type": "code",
   "execution_count": 41,
   "id": "c6e4372c-b7ad-4e5a-a627-09ae411ad6d9",
   "metadata": {},
   "outputs": [
    {
     "data": {
      "text/plain": [
       "region\n",
       "South    4\n",
       "West     1\n",
       "Name: count, dtype: int64"
      ]
     },
     "execution_count": 41,
     "metadata": {},
     "output_type": "execute_result"
    }
   ],
   "source": [
    "df.region.value_counts()"
   ]
  },
  {
   "cell_type": "code",
   "execution_count": 42,
   "id": "08605eea-4441-44e5-9249-eaa011b112b2",
   "metadata": {},
   "outputs": [
    {
     "data": {
      "text/plain": [
       "region\n",
       "South    4\n",
       "West     1\n",
       "Name: sales, dtype: int64"
      ]
     },
     "execution_count": 42,
     "metadata": {},
     "output_type": "execute_result"
    }
   ],
   "source": [
    "# method2 - using split and aggreation\n",
    "grouped_df = df.groupby(\"region\")\n",
    "\n",
    "grouped_df['sales'].count()"
   ]
  },
  {
   "cell_type": "code",
   "execution_count": 43,
   "id": "d62c903e-a1fc-4ef9-98cd-6bd37f336457",
   "metadata": {},
   "outputs": [
    {
     "data": {
      "text/plain": [
       "region\n",
       "South    1973.8455\n",
       "West       14.6200\n",
       "Name: sales, dtype: float64"
      ]
     },
     "execution_count": 43,
     "metadata": {},
     "output_type": "execute_result"
    }
   ],
   "source": [
    "grouped_df['sales'].sum()"
   ]
  },
  {
   "cell_type": "markdown",
   "id": "e012135b-56b6-4188-9498-87a9d2de03f9",
   "metadata": {},
   "source": [
    "## 11.which Product category is doing best?"
   ]
  },
  {
   "cell_type": "code",
   "execution_count": 44,
   "id": "7ae323ad-753a-4670-89d3-129fe462bb52",
   "metadata": {},
   "outputs": [
    {
     "data": {
      "text/plain": [
       "category\n",
       "Furniture          3\n",
       "Office Supplies    2\n",
       "Name: sales, dtype: int64"
      ]
     },
     "execution_count": 44,
     "metadata": {},
     "output_type": "execute_result"
    }
   ],
   "source": [
    "grouped_df = df.groupby('category')\n",
    "\n",
    "grouped_df['sales'].count()"
   ]
  },
  {
   "cell_type": "code",
   "execution_count": 45,
   "id": "418ae126-d002-470b-8d20-f249c15c9b9e",
   "metadata": {},
   "outputs": [
    {
     "data": {
      "text/plain": [
       "category\n",
       "Furniture          1951.4775\n",
       "Office Supplies      36.9880\n",
       "Name: sales, dtype: float64"
      ]
     },
     "execution_count": 45,
     "metadata": {},
     "output_type": "execute_result"
    }
   ],
   "source": [
    "grouped_df['sales'].sum()"
   ]
  },
  {
   "cell_type": "markdown",
   "id": "1c1267d9-9838-40e4-b0fa-de544cb182ba",
   "metadata": {},
   "source": [
    "# Analysing and Summarizing using pivot_tables()"
   ]
  },
  {
   "cell_type": "code",
   "execution_count": 46,
   "id": "72b465da-3060-4f40-8c1a-7105ab194705",
   "metadata": {},
   "outputs": [],
   "source": [
    "# pd.pivot_table(\n",
    "#     data,\n",
    "#     values=None,\n",
    "#     index=None,\n",
    "#     columns=None,\n",
    "#     aggfunc='mean',\n",
    "#     fill_value=None,\n",
    "#     margins=False\n",
    "# )"
   ]
  },
  {
   "cell_type": "code",
   "execution_count": 48,
   "id": "0888c0dc-ca75-438a-9a64-219231bc6a76",
   "metadata": {},
   "outputs": [
    {
     "data": {
      "text/html": [
       "<div>\n",
       "<style scoped>\n",
       "    .dataframe tbody tr th:only-of-type {\n",
       "        vertical-align: middle;\n",
       "    }\n",
       "\n",
       "    .dataframe tbody tr th {\n",
       "        vertical-align: top;\n",
       "    }\n",
       "\n",
       "    .dataframe thead th {\n",
       "        text-align: right;\n",
       "    }\n",
       "</style>\n",
       "<table border=\"1\" class=\"dataframe\">\n",
       "  <thead>\n",
       "    <tr style=\"text-align: right;\">\n",
       "      <th></th>\n",
       "      <th>sales</th>\n",
       "    </tr>\n",
       "    <tr>\n",
       "      <th>region</th>\n",
       "      <th></th>\n",
       "    </tr>\n",
       "  </thead>\n",
       "  <tbody>\n",
       "    <tr>\n",
       "      <th>South</th>\n",
       "      <td>1973.8455</td>\n",
       "    </tr>\n",
       "    <tr>\n",
       "      <th>West</th>\n",
       "      <td>14.6200</td>\n",
       "    </tr>\n",
       "    <tr>\n",
       "      <th>All</th>\n",
       "      <td>1988.4655</td>\n",
       "    </tr>\n",
       "  </tbody>\n",
       "</table>\n",
       "</div>"
      ],
      "text/plain": [
       "            sales\n",
       "region           \n",
       "South   1973.8455\n",
       "West      14.6200\n",
       "All     1988.4655"
      ]
     },
     "execution_count": 48,
     "metadata": {},
     "output_type": "execute_result"
    }
   ],
   "source": [
    "df.pivot_table(values = \"sales\", index = [\"region\"], aggfunc = \"sum\", margins = True)"
   ]
  },
  {
   "cell_type": "code",
   "execution_count": 49,
   "id": "0c1fb025-93fd-447a-b795-52cebb9b5180",
   "metadata": {},
   "outputs": [
    {
     "data": {
      "text/html": [
       "<div>\n",
       "<style scoped>\n",
       "    .dataframe tbody tr th:only-of-type {\n",
       "        vertical-align: middle;\n",
       "    }\n",
       "\n",
       "    .dataframe tbody tr th {\n",
       "        vertical-align: top;\n",
       "    }\n",
       "\n",
       "    .dataframe thead th {\n",
       "        text-align: right;\n",
       "    }\n",
       "</style>\n",
       "<table border=\"1\" class=\"dataframe\">\n",
       "  <thead>\n",
       "    <tr style=\"text-align: right;\">\n",
       "      <th></th>\n",
       "      <th>sales</th>\n",
       "    </tr>\n",
       "    <tr>\n",
       "      <th>region</th>\n",
       "      <th></th>\n",
       "    </tr>\n",
       "  </thead>\n",
       "  <tbody>\n",
       "    <tr>\n",
       "      <th>South</th>\n",
       "      <td>1973.85</td>\n",
       "    </tr>\n",
       "    <tr>\n",
       "      <th>West</th>\n",
       "      <td>14.62</td>\n",
       "    </tr>\n",
       "    <tr>\n",
       "      <th>All</th>\n",
       "      <td>1988.47</td>\n",
       "    </tr>\n",
       "  </tbody>\n",
       "</table>\n",
       "</div>"
      ],
      "text/plain": [
       "          sales\n",
       "region         \n",
       "South   1973.85\n",
       "West      14.62\n",
       "All     1988.47"
      ]
     },
     "execution_count": 49,
     "metadata": {},
     "output_type": "execute_result"
    }
   ],
   "source": [
    "df.pivot_table(values=\"sales\", \n",
    "               index=[\"region\"],\n",
    "               margins=True, \n",
    "               aggfunc=\"sum\").round(2)"
   ]
  },
  {
   "cell_type": "code",
   "execution_count": 51,
   "id": "c7eb71e5-a13a-4b95-aee3-f909075435de",
   "metadata": {},
   "outputs": [
    {
     "data": {
      "text/html": [
       "<div>\n",
       "<style scoped>\n",
       "    .dataframe tbody tr th:only-of-type {\n",
       "        vertical-align: middle;\n",
       "    }\n",
       "\n",
       "    .dataframe tbody tr th {\n",
       "        vertical-align: top;\n",
       "    }\n",
       "\n",
       "    .dataframe thead th {\n",
       "        text-align: right;\n",
       "    }\n",
       "</style>\n",
       "<table border=\"1\" class=\"dataframe\">\n",
       "  <thead>\n",
       "    <tr style=\"text-align: right;\">\n",
       "      <th></th>\n",
       "      <th>sales</th>\n",
       "    </tr>\n",
       "    <tr>\n",
       "      <th>region</th>\n",
       "      <th></th>\n",
       "    </tr>\n",
       "  </thead>\n",
       "  <tbody>\n",
       "    <tr>\n",
       "      <th>South</th>\n",
       "      <td>99.26476</td>\n",
       "    </tr>\n",
       "    <tr>\n",
       "      <th>West</th>\n",
       "      <td>0.73524</td>\n",
       "    </tr>\n",
       "  </tbody>\n",
       "</table>\n",
       "</div>"
      ],
      "text/plain": [
       "           sales\n",
       "region          \n",
       "South   99.26476\n",
       "West     0.73524"
      ]
     },
     "execution_count": 51,
     "metadata": {},
     "output_type": "execute_result"
    }
   ],
   "source": [
    "df.pivot_table(values=\"sales\", \n",
    "               index=[\"region\"], \n",
    "               aggfunc=\"sum\").apply(lambda values: values*100/sum(values))"
   ]
  },
  {
   "cell_type": "markdown",
   "id": "2f4429f2-fa99-48c2-a548-841185806a1f",
   "metadata": {},
   "source": [
    "## 12.What is the region-wise count of sales?"
   ]
  },
  {
   "cell_type": "code",
   "execution_count": 53,
   "id": "23f7428b-e7ba-4afd-a52f-603f4c96a6d1",
   "metadata": {},
   "outputs": [
    {
     "data": {
      "text/html": [
       "<div>\n",
       "<style scoped>\n",
       "    .dataframe tbody tr th:only-of-type {\n",
       "        vertical-align: middle;\n",
       "    }\n",
       "\n",
       "    .dataframe tbody tr th {\n",
       "        vertical-align: top;\n",
       "    }\n",
       "\n",
       "    .dataframe thead th {\n",
       "        text-align: right;\n",
       "    }\n",
       "</style>\n",
       "<table border=\"1\" class=\"dataframe\">\n",
       "  <thead>\n",
       "    <tr style=\"text-align: right;\">\n",
       "      <th></th>\n",
       "      <th>sales</th>\n",
       "    </tr>\n",
       "    <tr>\n",
       "      <th>region</th>\n",
       "      <th></th>\n",
       "    </tr>\n",
       "  </thead>\n",
       "  <tbody>\n",
       "    <tr>\n",
       "      <th>South</th>\n",
       "      <td>4</td>\n",
       "    </tr>\n",
       "    <tr>\n",
       "      <th>West</th>\n",
       "      <td>1</td>\n",
       "    </tr>\n",
       "  </tbody>\n",
       "</table>\n",
       "</div>"
      ],
      "text/plain": [
       "        sales\n",
       "region       \n",
       "South       4\n",
       "West        1"
      ]
     },
     "execution_count": 53,
     "metadata": {},
     "output_type": "execute_result"
    }
   ],
   "source": [
    "df.pivot_table(values = \"sales\", index = [\"region\"], aggfunc = \"count\")"
   ]
  },
  {
   "cell_type": "markdown",
   "id": "1d5eeeb7-4c11-43d3-9208-bce19892c45e",
   "metadata": {},
   "source": [
    "## 13. What is the region-wise revenue generated of each product category"
   ]
  },
  {
   "cell_type": "code",
   "execution_count": 54,
   "id": "8f10540b-c897-42eb-950e-6548c0c1c16c",
   "metadata": {},
   "outputs": [
    {
     "data": {
      "text/html": [
       "<div>\n",
       "<style scoped>\n",
       "    .dataframe tbody tr th:only-of-type {\n",
       "        vertical-align: middle;\n",
       "    }\n",
       "\n",
       "    .dataframe tbody tr th {\n",
       "        vertical-align: top;\n",
       "    }\n",
       "\n",
       "    .dataframe thead th {\n",
       "        text-align: right;\n",
       "    }\n",
       "</style>\n",
       "<table border=\"1\" class=\"dataframe\">\n",
       "  <thead>\n",
       "    <tr style=\"text-align: right;\">\n",
       "      <th>category</th>\n",
       "      <th>Furniture</th>\n",
       "      <th>Office Supplies</th>\n",
       "    </tr>\n",
       "    <tr>\n",
       "      <th>region</th>\n",
       "      <th></th>\n",
       "      <th></th>\n",
       "    </tr>\n",
       "  </thead>\n",
       "  <tbody>\n",
       "    <tr>\n",
       "      <th>South</th>\n",
       "      <td>1951.4775</td>\n",
       "      <td>22.368</td>\n",
       "    </tr>\n",
       "    <tr>\n",
       "      <th>West</th>\n",
       "      <td>NaN</td>\n",
       "      <td>14.620</td>\n",
       "    </tr>\n",
       "  </tbody>\n",
       "</table>\n",
       "</div>"
      ],
      "text/plain": [
       "category  Furniture  Office Supplies\n",
       "region                              \n",
       "South     1951.4775           22.368\n",
       "West            NaN           14.620"
      ]
     },
     "execution_count": 54,
     "metadata": {},
     "output_type": "execute_result"
    }
   ],
   "source": [
    "df.pivot_table(values=\"sales\", \n",
    "               index=[\"region\"], \n",
    "               columns=[\"category\"], \n",
    "               aggfunc=\"sum\")"
   ]
  },
  {
   "cell_type": "code",
   "execution_count": 55,
   "id": "ba47dd6b-7af8-4fa8-8724-8da740808372",
   "metadata": {},
   "outputs": [],
   "source": [
    "# ngược index columns"
   ]
  },
  {
   "cell_type": "code",
   "execution_count": 56,
   "id": "23eefd32-a60a-4daa-92ba-ce2557631a17",
   "metadata": {},
   "outputs": [
    {
     "data": {
      "text/html": [
       "<div>\n",
       "<style scoped>\n",
       "    .dataframe tbody tr th:only-of-type {\n",
       "        vertical-align: middle;\n",
       "    }\n",
       "\n",
       "    .dataframe tbody tr th {\n",
       "        vertical-align: top;\n",
       "    }\n",
       "\n",
       "    .dataframe thead th {\n",
       "        text-align: right;\n",
       "    }\n",
       "</style>\n",
       "<table border=\"1\" class=\"dataframe\">\n",
       "  <thead>\n",
       "    <tr style=\"text-align: right;\">\n",
       "      <th>region</th>\n",
       "      <th>South</th>\n",
       "      <th>West</th>\n",
       "    </tr>\n",
       "    <tr>\n",
       "      <th>category</th>\n",
       "      <th></th>\n",
       "      <th></th>\n",
       "    </tr>\n",
       "  </thead>\n",
       "  <tbody>\n",
       "    <tr>\n",
       "      <th>Furniture</th>\n",
       "      <td>1951.4775</td>\n",
       "      <td>NaN</td>\n",
       "    </tr>\n",
       "    <tr>\n",
       "      <th>Office Supplies</th>\n",
       "      <td>22.3680</td>\n",
       "      <td>14.62</td>\n",
       "    </tr>\n",
       "  </tbody>\n",
       "</table>\n",
       "</div>"
      ],
      "text/plain": [
       "region               South   West\n",
       "category                         \n",
       "Furniture        1951.4775    NaN\n",
       "Office Supplies    22.3680  14.62"
      ]
     },
     "execution_count": 56,
     "metadata": {},
     "output_type": "execute_result"
    }
   ],
   "source": [
    "df.pivot_table(values=\"sales\", \n",
    "               index=[\"category\"], \n",
    "               columns=[\"region\"], \n",
    "               aggfunc=\"sum\")"
   ]
  },
  {
   "cell_type": "code",
   "execution_count": null,
   "id": "d8cb2fdc-fed1-40be-a122-5370075e9674",
   "metadata": {},
   "outputs": [],
   "source": []
  }
 ],
 "metadata": {
  "kernelspec": {
   "display_name": "Python [conda env:base] *",
   "language": "python",
   "name": "conda-base-py"
  },
  "language_info": {
   "codemirror_mode": {
    "name": "ipython",
    "version": 3
   },
   "file_extension": ".py",
   "mimetype": "text/x-python",
   "name": "python",
   "nbconvert_exporter": "python",
   "pygments_lexer": "ipython3",
   "version": "3.12.7"
  }
 },
 "nbformat": 4,
 "nbformat_minor": 5
}
