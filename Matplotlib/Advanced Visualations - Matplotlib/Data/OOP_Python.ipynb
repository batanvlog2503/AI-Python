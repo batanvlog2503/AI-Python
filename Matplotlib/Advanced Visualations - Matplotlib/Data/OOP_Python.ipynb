{
 "cells": [
  {
   "cell_type": "code",
   "execution_count": 1,
   "id": "e9a145d6-f958-45e0-b8cc-d94e4830e521",
   "metadata": {},
   "outputs": [
    {
     "name": "stdout",
     "output_type": "stream",
     "text": [
      "<class '__main__.Person'>\n"
     ]
    }
   ],
   "source": [
    "# lớp class đối tượng object\n",
    "\n",
    "class Person:\n",
    "    pass\n",
    "\n",
    "if __name__ == \"__main__\":\n",
    "    p = Person()\n",
    "    print(type(p))"
   ]
  },
  {
   "cell_type": "code",
   "execution_count": 2,
   "id": "f38ca55c-35b3-44d3-b5ee-c2f4d3c607db",
   "metadata": {},
   "outputs": [
    {
     "name": "stdout",
     "output_type": "stream",
     "text": [
      "THANH TAN\n"
     ]
    }
   ],
   "source": [
    "#__init__, self\n",
    "\n",
    "class Person:\n",
    "    def __init__(self):\n",
    "        print(\"THANH TAN\")\n",
    "\n",
    "if __name__ == \"__main__\":\n",
    "    p = Person()\n",
    "    "
   ]
  },
  {
   "cell_type": "code",
   "execution_count": 8,
   "id": "8bbba12d-4463-404f-9608-cba7af1365b8",
   "metadata": {},
   "outputs": [
    {
     "name": "stdout",
     "output_type": "stream",
     "text": [
      "THANH TAN dev\n",
      "VIET NAM PTIT KHMT\n",
      "Xinchao\n",
      "KHMT PTIT\n"
     ]
    }
   ],
   "source": [
    "#attribut thuộc tính\n",
    "#instance attribute và class attributes\n",
    "\n",
    "class Person:\n",
    "    #class attribute:\n",
    "    nationality = \"VIET NAM\"\n",
    "    \n",
    "    def __init__(self, name, job): # instance attribute\n",
    "        self.name = name\n",
    "        self.job = job\n",
    "\n",
    "    #method\n",
    "    def greet(self):\n",
    "        print(\"Xinchao\")\n",
    "    def infor(self):\n",
    "        print(self.job + \" \" + self.name)\n",
    "\n",
    "if __name__ == \"__main__\":\n",
    "    p1 = Person(\"THANH TAN\", \"dev\")\n",
    "    p2 = Person(\"PTIT\", \"KHMT\")\n",
    "\n",
    "    print(p1.name,p1.job)\n",
    "    print(p1.nationality, p2.name, p2.job)\n",
    "    p1.greet()\n",
    "    p2.infor()\n",
    "    "
   ]
  },
  {
   "cell_type": "code",
   "execution_count": 25,
   "id": "970ee3c4-f8e9-4cbd-8ef1-28e2d52b6df6",
   "metadata": {},
   "outputs": [
    {
     "name": "stdout",
     "output_type": "stream",
     "text": [
      "28tech 1000\n",
      "Name : 28tech, Job : dev, Salary : 1000\n",
      "28tech\n",
      "2000\n"
     ]
    }
   ],
   "source": [
    "#puclic truy cập bên trong bên ngoài\n",
    "#private: truy cập bên trong lớp\n",
    "# protect truy cập được bên trong lớp và ở các lớp con\n",
    "\n",
    "# thuộc tính sẽ là private\n",
    "#mehtod để là public\n",
    "# muốn lấy về dùng setter getter\n",
    "class Person():\n",
    "    def __init__(self, name, job, salary):\n",
    "        self.name = name # public\n",
    "        self._job = job # protected\n",
    "        self.__salary = salary\n",
    "    def infor(self):\n",
    "        print(self.name + \" \" + self.__salary)\n",
    "    def showInfor(self):\n",
    "        print(\"Name : {}, Job : {}, Salary : {}\".format(self.name, self._job, self.__salary))\n",
    "    def get_name(self):\n",
    "        return self.name # trả về tên\n",
    "    def get_job(self):\n",
    "        return self._job\n",
    "    def set_name(self, name):\n",
    "        self.name = name\n",
    "    def set_job(self, job):\n",
    "        self._job = job\n",
    "    def set_salary(self, salary):\n",
    "        self.__salary = salary\n",
    "\n",
    "    def get_salary(self):\n",
    "        return self.__salary\n",
    "\n",
    "if __name__ == \"__main__\":\n",
    "    p = Person(\"28tech\", \"dev\", \"1000\")\n",
    "    p.infor()\n",
    "    p.showInfor()\n",
    "\n",
    "    print(p.get_name())\n",
    "\n",
    "    p.set_salary(\"2000\")\n",
    "    print(p.get_salary())\n",
    "    #print(p.__job) # vì đây là private không truy cập được"
   ]
  },
  {
   "cell_type": "code",
   "execution_count": 26,
   "id": "ab680adb-4200-4ccf-9eae-c767dce77d28",
   "metadata": {},
   "outputs": [
    {
     "name": "stdout",
     "output_type": "stream",
     "text": [
      "THANH TAN\n"
     ]
    }
   ],
   "source": [
    "# hàm del xóa đối tượng\n",
    "class Person:\n",
    "    def __init__(self):\n",
    "        print(\"THANH TAN\")\n",
    "    def __del__(self):\n",
    "        print(\"Destructor\")\n",
    "if __name__ == \"__main__\":\n",
    "    p = Person()\n",
    "    del p"
   ]
  },
  {
   "cell_type": "code",
   "execution_count": 30,
   "id": "e8d93ed7-9855-4506-97b1-8bbf07709033",
   "metadata": {},
   "outputs": [
    {
     "name": "stdout",
     "output_type": "stream",
     "text": [
      "28tech , dev\n",
      "<__main__.Person object at 0x000002A65C508320>\n"
     ]
    }
   ],
   "source": [
    "# hàm __str__\n",
    "class Person:\n",
    "    #class attribute:\n",
    "    nationality = \"VIET NAM\"\n",
    "    \n",
    "    def __init__(self, name, job): # instance attribute\n",
    "        self.name = name\n",
    "        self.job = job\n",
    "    def __str__(self): # dùng để print đối tượng\n",
    "        return f'{self.name} , {self.job}'\n",
    "if __name__ == \"__main__\":\n",
    "    s = Person(\"28tech\", \"dev\")\n",
    "    print(s)\n",
    "    # hàm __repr__ trả về thông tin đối tượng\n",
    "    print(s.__repr__())"
   ]
  },
  {
   "cell_type": "code",
   "execution_count": 35,
   "id": "23963dec-1e89-4a96-b696-be55b6f67cf7",
   "metadata": {},
   "outputs": [
    {
     "name": "stdin",
     "output_type": "stream",
     "text": [
      " 2 6\n"
     ]
    },
    {
     "name": "stdout",
     "output_type": "stream",
     "text": [
      "1/3\n"
     ]
    }
   ],
   "source": [
    "#contest 1 -> 5\n",
    "# phân số\n",
    "import math\n",
    "class Phanso:\n",
    "    def __init__(self, tu, mau):\n",
    "        self.tu = tu\n",
    "        self.mau = mau\n",
    "    def toi_gian(self):\n",
    "        ucln = math.gcd(self.tu, self.mau)\n",
    "        self.tu //= ucln\n",
    "        self.mau //= ucln\n",
    "\n",
    "    def __str__(self):\n",
    "        \n",
    "        return f\"{self.tu}/{self.mau}\"\n",
    "\n",
    "if __name__ == \"__main__\":\n",
    "    tu, mau = map(int, input().split())\n",
    "    p = Phanso(tu, mau)\n",
    "    p.toi_gian()\n",
    "    print(p)"
   ]
  },
  {
   "cell_type": "code",
   "execution_count": 41,
   "id": "3adbd589-e3ac-48af-8c32-d4dc955d90b9",
   "metadata": {},
   "outputs": [
    {
     "name": "stdin",
     "output_type": "stream",
     "text": [
      " pham thanh tan\n",
      " 2/3/2005\n",
      " 1\n",
      " 2\n",
      " 3\n"
     ]
    },
    {
     "name": "stdout",
     "output_type": "stream",
     "text": [
      "Pham Thanh Tan 02/03/2005 6.0\n"
     ]
    }
   ],
   "source": [
    "#contest 2 ghi toonrg ddiem cua sinh vien\n",
    "\n",
    "class SinhVien:\n",
    "    def __init__(self, name, ns, m1, m2, m3):\n",
    "        self.name = name\n",
    "        self.ns = ns\n",
    "        self.m1 = m1\n",
    "        self.m2 = m2\n",
    "        self.m3 = m3\n",
    "    def chuan_hoa(self):\n",
    "        if self.ns[1] == '/':\n",
    "            self.ns = \"0\" + self.ns\n",
    "        if self.ns[4] == \"/\":\n",
    "            self.ns = self.ns[0 : 3] + '0' + self.ns[3 : ]\n",
    "        self.name = self.name.title()   \n",
    "    def __str__(self):\n",
    "        tong = self.m1 + self.m2 + self.m3\n",
    "        return f\"{self.name} {self.ns} {tong:.1f}\"\n",
    "\n",
    "if __name__ == \"__main__\":\n",
    "    name = input()\n",
    "    ns = input()\n",
    "    m1 = float(input())\n",
    "    m2 = float(input())\n",
    "    m3 = float(input())\n",
    "\n",
    "    p = SinhVien(name, ns, m1, m2, m3)\n",
    "    p.chuan_hoa()\n",
    "    print(p)\n",
    "            "
   ]
  },
  {
   "cell_type": "code",
   "execution_count": 44,
   "id": "f5c10a69-4385-4506-b069-718b29c51b80",
   "metadata": {},
   "outputs": [
    {
     "name": "stdin",
     "output_type": "stream",
     "text": [
      " HP05\n",
      " Nguyen VAn HA\n",
      " 1748000\n"
     ]
    },
    {
     "name": "stdout",
     "output_type": "stream",
     "text": [
      "HP05 Nguyen Van Ha 5 9640000\n"
     ]
    }
   ],
   "source": [
    "#contest 11 tuwf bafi 6-> 10\n",
    "\n",
    "class NhanVien:\n",
    "\n",
    "    def __init__(self, code, name, luong):\n",
    "        self.code = code\n",
    "        self.name = name \n",
    "        self.luong = luong\n",
    "    def get_heso(self):\n",
    "        return int(code[-2:])\n",
    "    def __str__(self):\n",
    "        #bac = self.get_heso() # có thể sử dụng bằng\n",
    "        bac = int(self.code[-2: ])\n",
    "        self.luong = self.luong * bac\n",
    "        # không nên sử dụng self lương vì nó làm thay đổi đối tượng (lương)\n",
    "        # sử dụng biến khác như total_luong = self_luong * bac\n",
    "        # rồi in ra\n",
    "        level = str(self.code[0:2])\n",
    "        if level == \"HT\":\n",
    "            self.luong += 2000000\n",
    "        elif level == \"HP\":\n",
    "            self.luong += 900000\n",
    "        elif level == \"GV\":\n",
    "            self.luong += 500000\n",
    "\n",
    "        return f\"{self.code} {self.name.title()} {bac} {self.luong}\"\n",
    "        \n",
    "if __name__ == \"__main__\":\n",
    "\n",
    "    code = input()\n",
    "    name = input()\n",
    "    luong = int(input())\n",
    "    p = NhanVien(code, name, luong)\n",
    "    print(p)\n"
   ]
  },
  {
   "cell_type": "code",
   "execution_count": 48,
   "id": "b6a44743-86df-477b-b9ea-8d0e5bbad216",
   "metadata": {},
   "outputs": [],
   "source": [
    "\n",
    "class NhanVien:\n",
    "    def __init__(self, name, luong_co_ban, ngay_cong, chuc_vu):\n",
    "        self.name = name\n",
    "        self.luong_co_ban = luong_co_ban\n",
    "        self.ngay_cong = ngay_cong\n",
    "        self.chuc_vu = chuc_vu\n",
    "\n",
    "    def __str__(self):\n",
    "        total = self.luong_co_ban * self.ngay_cong\n",
    "\n",
    "        if self.ngay_cong  >= 22 and self.ngay_cong < 25:\n",
    "            total += total * 10 / 100\n",
    "        elif self.ngay_cong >= 25:\n",
    "            total += total * 20 / 100\n",
    "        luong_thang = total\n",
    "        s = self.chuc_vu\n",
    "        if s == \"PGD\":\n",
    "            total += 200000\n",
    "        elif s == \"GD\":\n",
    "            total += 250000\n",
    "        elif s == \"TP\":\n",
    "            total += 180000\n",
    "        elif s == \"NV\":\n",
    "            total += 150000\n",
    "\n",
    "        return f\"{\"NV01\"} {self.name.title()} \""
   ]
  },
  {
   "cell_type": "code",
   "execution_count": 54,
   "id": "4f495659-8a18-4844-9ddb-fa31c94627c0",
   "metadata": {},
   "outputs": [
    {
     "name": "stdin",
     "output_type": "stream",
     "text": [
      " KV2B\n",
      " PHAM THNH TAN\n",
      " 3.4\n",
      " 9\n",
      " 0\n"
     ]
    },
    {
     "name": "stdout",
     "output_type": "stream",
     "text": [
      "KV2B Pham Thnh Tan 2 13.4 TRUOT\n"
     ]
    }
   ],
   "source": [
    "# thí sinh điểm chuẩn 24\n",
    "\n",
    "class ThiSinh:\n",
    "\n",
    "    def __init__(self, msv, name, m1, m2, m3):\n",
    "        self.msv = msv \n",
    "        self.name = name\n",
    "        self.m1 = m1\n",
    "        self.m2 = m2\n",
    "        self.m3 = m3\n",
    "\n",
    "    def get_khu_vuc(self):\n",
    "        return str(self.msv[0:3])\n",
    "    def get_number(self):\n",
    "        return self.get_khu_vuc()[-1]\n",
    "        \n",
    "\n",
    "    def __str__(self):\n",
    "        tong = self.m1 + self.m2 + self.m3\n",
    "        diem_thuong = 0 \n",
    "        if self.get_khu_vuc() == 'KV1':\n",
    "            diem_thuong = 0.5\n",
    "        elif self.get_khu_vuc() == \"KV2\":\n",
    "            diem_thuong = 1.0\n",
    "        elif self.get_khu_vuc() == \"KV3\":\n",
    "            diem_thuong =  2.5\n",
    "\n",
    "        tong = tong + diem_thuong\n",
    "        res = \"\"\n",
    "        if tong < 24:\n",
    "            res = \"TRUOT\"\n",
    "        else:\n",
    "            res = \"DO\"\n",
    "\n",
    "        return f\"{self.msv} {self.name.title()} {self.get_number()} {tong:.1f} {res}\"\n",
    "\n",
    "if __name__ == \"__main__\":\n",
    "    msv =input()\n",
    "    name = input()\n",
    "    m1 = float(input())\n",
    "    m2 = float(input())\n",
    "    m3 = float(input())\n",
    "    p = ThiSinh(msv, name, m1, m2, m3)\n",
    "    print(p)"
   ]
  },
  {
   "cell_type": "code",
   "execution_count": 55,
   "id": "ec542278-e49e-4db5-98c1-4646f7b92691",
   "metadata": {},
   "outputs": [
    {
     "name": "stdin",
     "output_type": "stream",
     "text": [
      " 1\n",
      " 2\n",
      " 3\n",
      " 4\n",
      " 5\n"
     ]
    },
    {
     "ename": "NameError",
     "evalue": "name 'cmp_to_key' is not defined",
     "output_type": "error",
     "traceback": [
      "\u001b[1;31m---------------------------------------------------------------------------\u001b[0m",
      "\u001b[1;31mNameError\u001b[0m                                 Traceback (most recent call last)",
      "Cell \u001b[1;32mIn[55], line 39\u001b[0m\n\u001b[0;32m     36\u001b[0m     m \u001b[38;5;241m=\u001b[39m Danhsach(i \u001b[38;5;241m+\u001b[39m \u001b[38;5;241m1\u001b[39m, \u001b[38;5;28minput\u001b[39m(), \u001b[38;5;28minput\u001b[39m(), \u001b[38;5;28mint\u001b[39m(\u001b[38;5;28minput\u001b[39m()), \u001b[38;5;28mint\u001b[39m(\u001b[38;5;28minput\u001b[39m()))\n\u001b[0;32m     37\u001b[0m     a\u001b[38;5;241m.\u001b[39mappend(m)\n\u001b[1;32m---> 39\u001b[0m a\u001b[38;5;241m.\u001b[39msort(key \u001b[38;5;241m=\u001b[39m cmp_to_key(cmp))\n\u001b[0;32m     40\u001b[0m \u001b[38;5;28;01mfor\u001b[39;00m x \u001b[38;5;129;01min\u001b[39;00m a:\n\u001b[0;32m     41\u001b[0m     \u001b[38;5;28mprint\u001b[39m(x)\n",
      "\u001b[1;31mNameError\u001b[0m: name 'cmp_to_key' is not defined"
     ]
    }
   ],
   "source": [
    "# MAT HANG\n",
    "class Danhsach:\n",
    "\n",
    "    def __init__(self, ma, name, don_vi, mua, ban):\n",
    "        self.ma = str(ma)\n",
    "        while(len(self.ma) < 4):\n",
    "            self.ma = '0' + self.ma\n",
    "        self.ma = \"MH\" + self.ma\n",
    "        self.name = name\n",
    "        self.don_vi = don_vi\n",
    "        self.mua = mua\n",
    "        self.ban = ban\n",
    "\n",
    "    def get_ma(self):\n",
    "            return self.ma\n",
    "    def get_loi_nhuan(self):\n",
    "            return self.ban - self.mua\n",
    "\n",
    "    def __str__(self):\n",
    "        return f\"{self.ma} {self.name} {self.don_vi} {self.ban - self.mua}\"\n",
    "\n",
    "def cmp(a, b):\n",
    "\n",
    "    ln1 , ln2 = a.get_loi_nhuan(), b.get_loi_nhuan()\n",
    "    if ln1 != ln2 :\n",
    "        return ln2 - ln1\n",
    "    else:\n",
    "        if a.get_ma() < b.get_ma():\n",
    "            return -1\n",
    "        else:\n",
    "            return 1\n",
    "if __name__ == \"__main__\":\n",
    "    q = int(input())\n",
    "    a = []\n",
    "    for i in range(1, q + 1):\n",
    "        m = Danhsach(i + 1, input(), input(), int(input()), int(input()))\n",
    "        a.append(m)\n",
    "\n",
    "    a.sort(key = cmp_to_key(cmp))\n",
    "    for x in a:\n",
    "        print(x)"
   ]
  },
  {
   "cell_type": "code",
   "execution_count": 58,
   "id": "cb736032-1039-4b0c-b70a-3242002d00b3",
   "metadata": {
    "editable": true,
    "slideshow": {
     "slide_type": ""
    },
    "tags": []
   },
   "outputs": [
    {
     "name": "stdin",
     "output_type": "stream",
     "text": [
      " 2\n",
      " nguyen van a\n",
      " cntt1\n",
      " 25/3/2005\n",
      " 3.60\n",
      " nguyen van b\n",
      " cntt2\n",
      " 1/1/2002\n",
      " 3.4\n"
     ]
    },
    {
     "name": "stdout",
     "output_type": "stream",
     "text": [
      "SV001 Nguyen Van A cntt1 25/03/2005 3.60\n",
      "SV002 Nguyen Van B cntt2 01/01/2002 3.40\n"
     ]
    }
   ],
   "source": [
    "# sinh vien \n",
    "\n",
    "class SinhVien:\n",
    "    def __init__(self, ma, name, nganh, ns, gpa):\n",
    "        self.ma = str(ma)\n",
    "        while len(self.ma) < 3:\n",
    "            self.ma = \"0\" + self.ma\n",
    "        self.ma = \"SV\" + self.ma\n",
    "        self.name = name\n",
    "        self.nganh = nganh\n",
    "        self.ns = ns\n",
    "        self.gpa = gpa\n",
    "\n",
    "    def chuan_hoa(self):\n",
    "        if self.ns[1] == '/':\n",
    "            self.ns = '0' + self.ns\n",
    "        if self.ns[4] == '/':\n",
    "            self.ns = self.ns[0:3] + \"0\" + self.ns[3 : ]\n",
    "\n",
    "        self.name = self.name.title()\n",
    "\n",
    "    def __str__(self):\n",
    "        return f\"{self.ma} {self.name} {self.nganh} {self.ns} {self.gpa:.2f}\"\n",
    "if __name__ == \"__main__\":\n",
    "    q = int(input())\n",
    "    a = []\n",
    "    for i in range(1, q + 1):\n",
    "        m = SinhVien(i, input(), input(), input(), float(input()))\n",
    "\n",
    "        m.chuan_hoa()\n",
    "        a.append(m)\n",
    "    for x in a:\n",
    "        print(x)\n"
   ]
  },
  {
   "cell_type": "code",
   "execution_count": null,
   "id": "8882ab66-dc74-4061-8d68-854e0b198680",
   "metadata": {},
   "outputs": [],
   "source": []
  },
  {
   "cell_type": "code",
   "execution_count": null,
   "id": "edc425dd-b63c-4a38-bfb8-884d51024d80",
   "metadata": {},
   "outputs": [],
   "source": []
  },
  {
   "cell_type": "code",
   "execution_count": null,
   "id": "ea90d15b-b0ad-45d5-9af4-2124dfce09c6",
   "metadata": {},
   "outputs": [],
   "source": [
    "\n",
    "class Hocsinh:\n",
    "\n",
    "    def __init__(self, msv, name, dtb):\n",
    "        self.msv = str(msv)\n",
    "        while len(self.msv) < 2:\n",
    "            self.msv = \"0\" + self.msv\n",
    "        self.msv = \"HS\" + \n",
    "        \n",
    "    "
   ]
  },
  {
   "cell_type": "code",
   "execution_count": 1,
   "id": "f735e1df-8452-4cc0-be35-7c53754712c4",
   "metadata": {},
   "outputs": [
    {
     "ename": "ModuleNotFoundError",
     "evalue": "No module named 'sounddevice'",
     "output_type": "error",
     "traceback": [
      "\u001b[1;31m---------------------------------------------------------------------------\u001b[0m",
      "\u001b[1;31mModuleNotFoundError\u001b[0m                       Traceback (most recent call last)",
      "Cell \u001b[1;32mIn[1], line 1\u001b[0m\n\u001b[1;32m----> 1\u001b[0m \u001b[38;5;28;01mimport\u001b[39;00m \u001b[38;5;21;01msounddevice\u001b[39;00m\n\u001b[0;32m      2\u001b[0m \u001b[38;5;28;01mfrom\u001b[39;00m \u001b[38;5;21;01mscipy\u001b[39;00m\u001b[38;5;21;01m.\u001b[39;00m\u001b[38;5;21;01mio\u001b[39;00m\u001b[38;5;21;01m.\u001b[39;00m\u001b[38;5;21;01mwavfile\u001b[39;00m \u001b[38;5;28;01mimport\u001b[39;00m write\n\u001b[0;32m      3\u001b[0m fs\u001b[38;5;241m=\u001b[39m\u001b[38;5;241m44100\u001b[39m \u001b[38;5;66;03m#sample_rate\u001b[39;00m\n",
      "\u001b[1;31mModuleNotFoundError\u001b[0m: No module named 'sounddevice'"
     ]
    }
   ],
   "source": [
    "import sounddevice\n",
    "from scipy.io.wavfile import write\n",
    "fs=44100 #sample_rate\n",
    "second=int(input(\"Enter the time duration in second: \")) #enter your required time..\n",
    "print(\"Recording....\\n\")\n",
    "record_voice=sounddevice.rec(int(second * fs),samplerate=fs,channels=2)\n",
    "sounddevice.wait()\n",
    "write(\"out.wav\",fs,record_voice)\n",
    "print(\"Finished...\\nPlease Check it...\")"
   ]
  },
  {
   "cell_type": "code",
   "execution_count": 6,
   "id": "5ae83cec-24f4-43da-8748-c36fc0d776ed",
   "metadata": {},
   "outputs": [
    {
     "name": "stdin",
     "output_type": "stream",
     "text": [
      " 3\n",
      " tan\n",
      " 1 2 3 4 5 6 7 8 9 10\n",
      " quang\n",
      " 2 3 4 5 6 7 8 9 10 11\n",
      " dung\n",
      " 3 4 5 6 7 8 9 10 11 12\n"
     ]
    },
    {
     "name": "stdout",
     "output_type": "stream",
     "text": [
      "SV002 tan 5.5 TB\n",
      "SV003 quang 6.5 TB\n",
      "SV004 dung 7.5 KHA\n"
     ]
    }
   ],
   "source": [
    "# bảng điểm \n",
    "from functools import cmp_to_key\n",
    "class HocSinh:\n",
    "\n",
    "    def __init__(self, ma, name, diem):\n",
    "        self.ma = str(ma)\n",
    "        while len(self.ma) < 3:\n",
    "            self.ma = '0' + self.ma\n",
    "        self.ma = \"SV\" + self.ma\n",
    "        self.name = name\n",
    "        self.diem = list(diem)\n",
    "\n",
    "    def get_dtb(self):\n",
    "        return sum(self.diem) / 10\n",
    "    def get_ma(self):\n",
    "        return self.ma\n",
    "    def __str__(self):\n",
    "        check = \"\"\n",
    "        dtb = self.get_dtb()\n",
    "        if dtb >= 9:\n",
    "            check = \"XS\"\n",
    "        elif dtb >= 8:\n",
    "            check = \"GIOI\"\n",
    "        elif dtb >= 7 :\n",
    "            check = \"KHA\"\n",
    "        elif dtb >= 5:\n",
    "            check = \"TB\"\n",
    "        else:\n",
    "            check = \"YEU\"\n",
    "\n",
    "        return f\"{self.ma} {self.name} {dtb:.1f} {check}\"\n",
    "\n",
    "def cmp(a, b):\n",
    "    dtb1 , dtb2 = a.get_dtb(), b.get_dtb()\n",
    "    if dtb1 == dtb2:\n",
    "        if a.get_ma() < b.get_ma():\n",
    "            return -1\n",
    "        else:\n",
    "            return 1\n",
    "    else:\n",
    "        if dtb1 < dtb2:\n",
    "            return -1\n",
    "        else:\n",
    "            return 1\n",
    "if __name__ == \"__main__\":\n",
    "    q = int(input())\n",
    "    a = []\n",
    "    for i in range(1 , q + 1):\n",
    "        m = HocSinh(i ,input(), map(int, input().split()))\n",
    "        a.append(m)\n",
    "\n",
    "    a.sort(key = cmp_to_key(cmp))\n",
    "\n",
    "    for x in a:\n",
    "        print(x)\n",
    "        \n",
    "    \n",
    "\n",
    "    \n",
    "    "
   ]
  },
  {
   "cell_type": "code",
   "execution_count": 9,
   "id": "eaf63c8a-6cc9-464d-9af5-a4f40bc4ee3b",
   "metadata": {},
   "outputs": [
    {
     "name": "stdout",
     "output_type": "stream",
     "text": [
      "3 + 5j\n",
      "False\n"
     ]
    }
   ],
   "source": [
    "# nap chong toan tu\\\n",
    "\n",
    "# ham add\n",
    "# ham sub toan tu tru\n",
    "#ham __mul\n",
    "#hamm __truediv__ / chia nghuyen\n",
    "# 1 so ham so sanh dung theo chu cai dau\n",
    "# less than la lt\n",
    "class SoPhuc:\n",
    "    def __init__(self, thuc, ao):\n",
    "        self.thuc = thuc\n",
    "        self.ao = ao\n",
    "    def __add__(self,other):\n",
    "        self.thuc += other.thuc\n",
    "        self.ao += other.ao\n",
    "        # hoac co the  dung tmp1 tmp2\n",
    "        # de phan thuc phan ao khong bi thay doi\n",
    "        return SoPhuc(self.thuc, self.ao)\n",
    "    def __eq__(self, other):\n",
    "        return self.thuc == other.thuc and self.ao == other.ao\n",
    "    def __str__(self):\n",
    "        return f\"{self.thuc} + {self.ao}j\"\n",
    "\n",
    "if __name__ == \"__main__\":\n",
    "    s1 = SoPhuc(1, 2)\n",
    "    s2 = SoPhuc(2, 3)\n",
    "    s3 = s1 + s2\n",
    "    print(s3)\n",
    "    print(s1 == s2)"
   ]
  },
  {
   "cell_type": "code",
   "execution_count": null,
   "id": "82535526-707c-4164-a630-bfb921f5232e",
   "metadata": {},
   "outputs": [],
   "source": [
    "#inheritance kế thừa\n",
    "# tái sử dụng code\n",
    "# tạo lớp cơ sở (lớp cha)\n",
    "# lớp con kế thừa các thuộc tính phương thức của lớp cha"
   ]
  },
  {
   "cell_type": "code",
   "execution_count": 13,
   "id": "1c932c1b-250c-4108-a5e2-0bf1ffc96eea",
   "metadata": {},
   "outputs": [
    {
     "name": "stdout",
     "output_type": "stream",
     "text": [
      "ham khoi tao cua lop con\n",
      "helo world\n"
     ]
    }
   ],
   "source": [
    "#inheritance kế thừa\n",
    "# tái sử dụng code\n",
    "# tạo lớp cơ sở (lớp cha)\n",
    "# lớp con kế thừa các thuộc tính phương thức của lớp cha\n",
    "# tạo một lớp mới từ 1 lớp cũ\n",
    "class Nguoi:\n",
    "    def __init__(self):\n",
    "        print(\"Ham khoi tao cua lop cha\")\n",
    "    def xin_chao(self):\n",
    "        print(\"helo world\")\n",
    "\n",
    "class SinhVien(Nguoi):\n",
    "    def __init__(self):\n",
    "        print(\"ham khoi tao cua lop con\")\n",
    "\n",
    "class GiaoVien(Nguoi):\n",
    "    pass\n",
    "class NhanVien(Nguoi):\n",
    "    pass\n",
    "\n",
    "if __name__ == \"__main__\":\n",
    "    s = SinhVien()\n",
    "    s.xin_chao()\n",
    "    # lớp sính viên có thể dùng dduowjc xin chào của lớp Người"
   ]
  },
  {
   "cell_type": "code",
   "execution_count": 15,
   "id": "0fefaf9c-acd3-4175-ad9c-0a909489af07",
   "metadata": {},
   "outputs": [
    {
     "name": "stdout",
     "output_type": "stream",
     "text": [
      "1\n",
      "2\n"
     ]
    }
   ],
   "source": [
    "class Person:\n",
    "    count = 0\n",
    "    def __init__(self):\n",
    "        self.count += 1\n",
    "    def getCount(self):\n",
    "        return self.count\n",
    "\n",
    "class Student(Person):\n",
    "    def change(self):\n",
    "        self.count += 1\n",
    "\n",
    "if __name__== \"__main__\":\n",
    "    s = Student()\n",
    "    print(s.getCount())\n",
    "    s.change()\n",
    "    print(s.getCount())"
   ]
  },
  {
   "cell_type": "code",
   "execution_count": 18,
   "id": "9b94283b-08cf-43f8-a01c-3fece8550fa7",
   "metadata": {},
   "outputs": [
    {
     "name": "stdout",
     "output_type": "stream",
     "text": [
      "tan 25/03/2005  3.30\n"
     ]
    }
   ],
   "source": [
    "class Person:\n",
    "    def __init__(self, name, birth):\n",
    "        self.name = name\n",
    "        self.birth = birth\n",
    "\n",
    "class Student(Person):\n",
    "    def __init__(self,name, birth, gpa):\n",
    "        Person.__init__(self, name, birth) # hoặc là super().__init__\n",
    "        self.gpa = gpa\n",
    "\n",
    "    def display(self):\n",
    "        print(f\"{self.name} {self.birth} {self.gpa : .2f}\")\n",
    "\n",
    "\n",
    "if __name__ == \"__main__\":\n",
    "    s = Student(\"tan\", \"25/03/2005\",3.3)\n",
    "    s.display()"
   ]
  },
  {
   "cell_type": "code",
   "execution_count": 20,
   "id": "a9885609-7cd3-41b0-858a-c2e5d07c8dde",
   "metadata": {},
   "outputs": [],
   "source": [
    "class Person:\n",
    "    def __init__(self, name, birth, address):\n",
    "        self.name = name\n",
    "        self.birth = birth\n",
    "        self.address = address\n",
    "    def chuan_hoa(self):\n",
    "        self.name = self.name.title()\n",
    "\n",
    "        if self.birth[1] == '/':\n",
    "            self.birth  = '0' + self.birth\n",
    "        if self.birth[4] == '/':\n",
    "            self.birth = self.birth[0 : 3] + \"0\" + self.birth[3 : ]\n",
    "\n",
    "    def __str__(self):\n",
    "        return self.name + \" \" + self.birth + \" \" + self.address\n",
    "\n",
    "def so_sanh_ten(s):\n",
    "    res = \"\"\n",
    "    a = s.split()\n",
    "    res = a[-1] + \" \"\n",
    "    res += \" \".join(a[ : -1])\n",
    "    return res \n",
    "    # vi dụ pham thanh tân sẽ thành tân phạm thanh\n",
    "class Student(Person):\n",
    "    def __init__(self, ma, name, birth, address, lop, gpa):\n",
    "        Person.__init__(self, name, birth, address)\n",
    "        self.ma = \"{:04d}\".format(ma)\n",
    "        self.gpa = gpa\n",
    "        self.lop = lop\n",
    "\n",
    "    def __str__(self):\n",
    "        return self.ma + \" \" + Person.__str__(self) + \" \" + self.lop + \" \" + \"{:.2f}\".format(self.gpa)\n",
    "\n",
    "\n",
    "#a.sort(key = lambda x : (so_sanh_ten(s.name))"
   ]
  },
  {
   "cell_type": "code",
   "execution_count": 24,
   "id": "7268dc74-82e4-43ad-95a1-664f9c14b813",
   "metadata": {},
   "outputs": [
    {
     "name": "stdin",
     "output_type": "stream",
     "text": [
      "Nhập n:  0\n"
     ]
    },
    {
     "name": "stdout",
     "output_type": "stream",
     "text": [
      "Lỗi: n bằng 0\n"
     ]
    }
   ],
   "source": [
    "try:\n",
    "    n = int(input(\"Nhập n: \"))\n",
    "    y = 10 / n\n",
    "except:\n",
    "    print(\"Lỗi: n bằng 0\")\n",
    "# một số lõi\n",
    "# ZeroDivisionError : chia cho 0\n",
    "# ValueError : ep kieu sai int(\"Abc\")\n",
    "#TypeError: kieu du lieu khonng phu hop\n",
    "#KeyError : key not in dict\n",
    "# nameError: ten chua duoc khai bao\n"
   ]
  },
  {
   "cell_type": "code",
   "execution_count": 9,
   "id": "b7ac2891-74c9-4fa5-a5a0-41418c7289fc",
   "metadata": {},
   "outputs": [
    {
     "name": "stdout",
     "output_type": "stream",
     "text": [
      "You drive the Car\n"
     ]
    },
    {
     "ename": "TypeError",
     "evalue": "MotorCycle() takes no arguments",
     "output_type": "error",
     "traceback": [
      "\u001b[1;31m---------------------------------------------------------------------------\u001b[0m",
      "\u001b[1;31mTypeError\u001b[0m                                 Traceback (most recent call last)",
      "Cell \u001b[1;32mIn[9], line 30\u001b[0m\n\u001b[0;32m     27\u001b[0m car \u001b[38;5;241m=\u001b[39m Car()\n\u001b[0;32m     28\u001b[0m car\u001b[38;5;241m.\u001b[39mgo()\n\u001b[1;32m---> 30\u001b[0m motor \u001b[38;5;241m=\u001b[39m MotorCycle(Vehicle)\n\u001b[0;32m     31\u001b[0m motor\u001b[38;5;241m.\u001b[39mstop()\n",
      "\u001b[1;31mTypeError\u001b[0m: MotorCycle() takes no arguments"
     ]
    }
   ],
   "source": [
    "# abstract method phương thức trừu tượng\n",
    "# dugf để định nghĩa giao diện chung mà lớp con bắt buộc phải tuân theo\n",
    "from abc import ABC, abstractmethod\n",
    "\n",
    "class Vehicle(ABC):\n",
    "    @abstractmethod # đánh dâu đây là 1 phương thức trừu tượng\n",
    "    def go(self):\n",
    "        pass\n",
    "    @abstractmethod\n",
    "    def stop(self):\n",
    "        pass\n",
    "\n",
    "class Car(Vehicle):\n",
    "    def go(self):\n",
    "        print(\"You drive the Car\")\n",
    "    def stop(self):\n",
    "        print(\"you stop the car\")\n",
    "        \n",
    "\n",
    "class MotorCycle(Vehicle):\n",
    "    def go(self):\n",
    "        print(\"You drive the MOTOR\")\n",
    "    # def stop(self):\n",
    "    #     print(\"you stop the MOTOR\")\n",
    "\n",
    "\n",
    "car = Car()\n",
    "car.go()\n",
    "\n",
    "motor = MotorCycle(Vehicle)\n",
    "motor.stop() # khi toi khong dung stop trong motorCycle no bao loi\n",
    "# nghia la cac phuong thuc phai co trong lop đầu tiên\n",
    "#vehicle = Vehicle() sai khoong the tao tu lop truu tuong\n",
    "#phai su dung lop thua ke cua no\n",
    "\n",
    "    "
   ]
  },
  {
   "cell_type": "code",
   "execution_count": 14,
   "id": "500c828e-c864-4888-850e-196218f7d489",
   "metadata": {},
   "outputs": [
    {
     "name": "stdout",
     "output_type": "stream",
     "text": [
      "red True\n",
      "45 - 3\n"
     ]
    }
   ],
   "source": [
    "#super\n",
    "\n",
    "class Shape:\n",
    "    def __init__(self, color, is_filled):\n",
    "        self.color = color\n",
    "        self.is_filled = is_filled\n",
    "\n",
    "    def describe(self):\n",
    "        print(f\"{self.color} {self.is_filled}\")\n",
    "              \n",
    "class Circle(Shape):\n",
    "    def __init__(self, color, is_filled, radius, R):\n",
    "        super().__init__(color, is_filled)\n",
    "        self.radius = radius\n",
    "        self.R = R\n",
    "    def describe(self):\n",
    "        super().describe()\n",
    "        print(f\"{self.radius} - {self.R}\")\n",
    "\n",
    "circle = Circle(\"red\", True, 45, 3)\n",
    "circle.describe()"
   ]
  },
  {
   "cell_type": "code",
   "execution_count": 16,
   "id": "f06d166b-511a-454e-9523-7c3fe2f49907",
   "metadata": {},
   "outputs": [
    {
     "name": "stdout",
     "output_type": "stream",
     "text": [
      "50.24\n",
      "25\n",
      "21.0\n",
      "706.5\n"
     ]
    }
   ],
   "source": [
    "# Python Polymorphism da hinh\n",
    "\n",
    "from abc import ABC, abstractmethod\n",
    "class Shape:\n",
    "    @abstractmethod\n",
    "    def area(self):\n",
    "        pass\n",
    "\n",
    "class Circle(Shape):\n",
    "    def __init__(self, radius):\n",
    "        self.radius = radius\n",
    "    def area(self):\n",
    "        return 3.14 * self.radius ** 2\n",
    "class Square(Shape):\n",
    "    def __init__(self, side):\n",
    "        self.side = side\n",
    "    def area(self):\n",
    "        return self.side ** 2\n",
    "class Triangle(Shape):\n",
    "    def __init__(self, base, height):\n",
    "        self.base = base\n",
    "        self.height = height\n",
    "    def area(self):\n",
    "        return self.base * self.height * 0.5\n",
    "\n",
    "class pizza(Circle):\n",
    "    def __init__(self, topping, radius):\n",
    "        super().__init__(radius)\n",
    "        self.topping = topping\n",
    "shapes = [Circle(4), Square(5), Triangle(6, 7), pizza(\"pizza\", 15)]\n",
    "\n",
    "for shape in shapes:\n",
    "    print(shape.area())\n"
   ]
  },
  {
   "cell_type": "code",
   "execution_count": 18,
   "id": "b8062874-3016-465f-8e0e-5a4d4a2d8c13",
   "metadata": {},
   "outputs": [
    {
     "name": "stdout",
     "output_type": "stream",
     "text": [
      "['Happy Potter by J.K Rowling', 'The hobitt by J.R.R Tolkein']\n"
     ]
    }
   ],
   "source": [
    "#Aggregation # doc lap khong phu thuoc vao lop khac\n",
    "\n",
    "\n",
    "class Library:\n",
    "    def __init__(self, name):\n",
    "        self.name = name\n",
    "        self.books = []\n",
    "    def add_book(self, book):\n",
    "        self.books.append(book)\n",
    "    def list_book(self):\n",
    "        return [f\"{book.title} by {book.author}\" for book in self.books]\n",
    "class Book:\n",
    "    def __init__(self, title, author):\n",
    "        self.title = title\n",
    "        self.author = author\n",
    "\n",
    "library = Library(\"New York Public Library\")\n",
    "\n",
    "book1 = Book(\"Happy Potter\", \"J.K Rowling\")\n",
    "book2 = Book(\"The hobitt\", \"J.R.R Tolkein\")\n",
    "\n",
    "library.add_book(book1)\n",
    "library.add_book(book2)\n",
    "\n",
    "print(library.list_book())"
   ]
  },
  {
   "cell_type": "code",
   "execution_count": 6,
   "id": "89d756f1-73df-4043-8cfc-a702fe2cf99a",
   "metadata": {},
   "outputs": [
    {
     "name": "stdout",
     "output_type": "stream",
     "text": [
      "Krusty Krab\n",
      "tan Student\n",
      "Spongebob Cook\n"
     ]
    }
   ],
   "source": [
    "#nested class\n",
    "class Company:\n",
    "    class Employee:\n",
    "        # print(\"This is the first class\")\n",
    "        def __init__(self, name, position):\n",
    "            self.name = name\n",
    "            self.position = position\n",
    "        def get_details(self):\n",
    "            return f\"{self.name} {self.position}\"\n",
    "    def __init__(self, company_name):\n",
    "        self.company_name = company_name\n",
    "        self.employees = []\n",
    "\n",
    "    def add_employee(self, name, position):\n",
    "        new_employee = self.Employee(name, position)\n",
    "        self.employees.append(new_employee)\n",
    "        \n",
    "\n",
    "    def list_employee(self):\n",
    "        return [employee.get_details() for employee in self.employees]\n",
    "        \n",
    "        \n",
    "class Nonprofit:\n",
    "    class Employee:\n",
    "        pass\n",
    "\n",
    "company = Company(\"Krusty Krab\")\n",
    "print(company.company_name)\n",
    "\n",
    "company.add_employee(\"tan\", \"Student\")\n",
    "company.add_employee(\"Spongebob\", \"Cook\")\n",
    "\n",
    "for employee in company.list_employee():\n",
    "    print(employee)"
   ]
  },
  {
   "cell_type": "code",
   "execution_count": 9,
   "id": "43c73d7d-8987-4a82-ae10-b8a9c21a0b93",
   "metadata": {},
   "outputs": [
    {
     "name": "stdout",
     "output_type": "stream",
     "text": [
      "True\n"
     ]
    }
   ],
   "source": [
    "#@static method\n",
    "# hoạt động như 1 hàm thông thường không cần self\n",
    "#nhưng cần đặt trong lớp\n",
    "# không truu cập vào class\n",
    "class Employee:\n",
    "    @staticmethod\n",
    "    def is_valid_position(position):\n",
    "        valid_positions = [\"Manage\", \"Cashier\", \"Cook\", \"Janitor\"]\n",
    "        return position in valid_positions\n",
    "\n",
    "print(Employee.is_valid_position(\"Manage\"))"
   ]
  },
  {
   "cell_type": "code",
   "execution_count": 11,
   "id": "d9db5dfa-a795-44b9-ac8c-f8884ec4752c",
   "metadata": {},
   "outputs": [
    {
     "name": "stdout",
     "output_type": "stream",
     "text": [
      "Total # of students: 1\n"
     ]
    }
   ],
   "source": [
    "#@ classmethod\n",
    "# sử dụng cls thay self được dùng thay thees constructor\n",
    "\n",
    "class Student:\n",
    "    count = 0\n",
    "    def __init__(self, name, gpa):\n",
    "        self.name = name\n",
    "        self.gpa = gpa\n",
    "        Student.count += 1\n",
    "\n",
    "    def get_infor(self):\n",
    "        return f\"{self.name} {self.gpa}\"\n",
    "\n",
    "    @classmethod\n",
    "    def get_count(cls):\n",
    "        return f\"Total # of students: {cls.count}\"\n",
    "student1 = Student(\"tan\", 3.2)\n",
    "print(Student.get_count())"
   ]
  },
  {
   "cell_type": "code",
   "execution_count": 25,
   "id": "6be02cde-e144-4d5e-a049-332d27fa811d",
   "metadata": {},
   "outputs": [
    {
     "name": "stdout",
     "output_type": "stream",
     "text": [
      "3.0 cm\n",
      "4.0 cm\n",
      "7.0 cm\n",
      "15.0 cm\n"
     ]
    }
   ],
   "source": [
    "#@property getter setter deleter lấy dữ liệu \n",
    "\n",
    "class Rectangle:\n",
    "    def __init__(self, width, height):\n",
    "        self._width = width\n",
    "        self._height = height\n",
    "\n",
    "    @property\n",
    "    def width(self):\n",
    "        return f\"{self._width:.1f} cm\"\n",
    "        \n",
    "    @property\n",
    "    def height(self):\n",
    "        return f\"{self._height:.1f} cm\"\n",
    "\n",
    "    @width.setter\n",
    "    def width(self, new_width):\n",
    "        if new_width > 0:\n",
    "            self._width = new_width\n",
    "        else:\n",
    "            print(\"INVALID\")\n",
    "    @height.setter\n",
    "    def height(self, new_height):\n",
    "        if new_height > 0:\n",
    "            self._height = new_height\n",
    "        else:\n",
    "            print(\"INVALID\")\n",
    "    @width.deleter\n",
    "    def width(self):\n",
    "        del  self._width\n",
    "        print(\"DELETED\")\n",
    "    @height.deleter\n",
    "    def height(self):\n",
    "        del self._height\n",
    "\n",
    "    \n",
    "rectangle = Rectangle(3, 4)\n",
    "print(rectangle.width)\n",
    "print(rectangle.height)\n",
    "\n",
    "rectangle.width = 7\n",
    "rectangle.height = 15\n",
    "\n",
    "print(rectangle.width)\n",
    "print(rectangle.height)\n",
    "\n",
    "del rectangle.width\n",
    "del rectangle.height\n"
   ]
  },
  {
   "cell_type": "code",
   "execution_count": 38,
   "id": "d85e9678-3d2d-4f51-83b4-f1bbbb4c3eee",
   "metadata": {},
   "outputs": [],
   "source": [
    "#threading\n",
    "# xử lí các câu lệnh cùng lúc không phải cần chạy tuần tự\n",
    "import threading\n",
    "import time\n",
    "# threading.Thread(target = my_function)\n",
    "def walk_dog():\n",
    "    time.sleep(8)\n",
    "    print(\"You finsish walking the dog\")\n",
    "\n",
    "def take_out_trash():\n",
    "    time.sleep(2)\n",
    "    print(\"YOu take out the trash\")\n",
    "\n",
    "def get_main():\n",
    "    time.sleep(4)\n",
    "    print(\"You get the mail\")\n",
    "\n",
    "# walk_dog()\n",
    "# take_out_trash()\n",
    "# get_main()\n",
    "chore1 = threading.Thread(target = walk_dog)\n",
    "\n",
    "chore2 = threading.Thread(target = take_out_trash)\n",
    "\n",
    "chore3 = threading.Thread(target = get_main)\n",
    "chore3.start()\n",
    "chore1.start()\n",
    "chore2.start()\n",
    "# .join là đợi tất cả các công việc hoàn thành mới kết thúc chương trình\n",
    "# chore1.join()\n",
    "# chore2.join()\n",
    "# chore3.join()"
   ]
  },
  {
   "cell_type": "code",
   "execution_count": null,
   "id": "39a48670-298d-4331-83ac-6fd504b708c7",
   "metadata": {},
   "outputs": [],
   "source": []
  },
  {
   "cell_type": "code",
   "execution_count": null,
   "id": "c5e445df-3da5-45f7-9d3c-527707564a03",
   "metadata": {},
   "outputs": [],
   "source": []
  }
 ],
 "metadata": {
  "kernelspec": {
   "display_name": "Python [conda env:base] *",
   "language": "python",
   "name": "conda-base-py"
  },
  "language_info": {
   "codemirror_mode": {
    "name": "ipython",
    "version": 3
   },
   "file_extension": ".py",
   "mimetype": "text/x-python",
   "name": "python",
   "nbconvert_exporter": "python",
   "pygments_lexer": "ipython3",
   "version": "3.12.7"
  }
 },
 "nbformat": 4,
 "nbformat_minor": 5
}
